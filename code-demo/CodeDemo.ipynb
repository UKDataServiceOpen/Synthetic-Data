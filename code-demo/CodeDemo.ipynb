{
 "cells": [
  {
   "cell_type": "markdown",
   "metadata": {},
   "source": [
    "# Packages needed\n",
    "rpy2\n",
    "numpy\n",
    "pandas\n",
    "tzlocal\n",
    "simplegeneric"
   ]
  },
  {
   "cell_type": "markdown",
   "metadata": {},
   "source": [
    "# Resources\n",
    "Libraries:\n",
    "* [Mockaroo](https://www.mockaroo.com/)\n",
    "* [Python - Faker Documentation](https://faker.readthedocs.io/en/master/)\n",
    "* [R - Synthpop Documentation](https://www.synthpop.org.uk/resources.html)\n",
    "* [R - Synthpop Shiny App](https://synthpop.shinyapps.io/synthpop/)\n",
    "\n",
    "Code Books:\n",
    "* TBD - BINDER LINK\n",
    "* TBD - RPUB LINK\n",
    "\n",
    "NATSAL:\n",
    "* [NATSAL](https://www.natsal.ac.uk/)\n",
    "* [UKDS Open teaching dataset and data dictionaries](https://beta.ukdataservice.ac.uk/datacatalogue/studies/study?id=8786) \n",
    "* [Codebook](http://doc.ukdataservice.ac.uk/doc/8786/mrdoc/pdf/8786_natsal_open_codebook_feb21.pdf)\n",
    "* [Dataset Processing](https://github.com/UKDataServiceOpen/Synthetic-Data/blob/main/code-demo/NATSAL/NATSAL.ipynb)"
   ]
  },
  {
   "cell_type": "markdown",
   "metadata": {},
   "source": [
    "# Introduction\n",
    "In this Code Demo we will cover:\n",
    "* TBD - Synthesizing random numbers for dice rolling\n",
    "* Introducing the NATSAL dataset\n",
    "* Introduction to Mockaroo\n",
    "* Introduction to Faker\n",
    "* Introduction to Synthpop"
   ]
  },
  {
   "cell_type": "markdown",
   "metadata": {},
   "source": [
    "## Importing packages\n",
    "To start with we need to import any packages beyond base Python we are using.\n",
    "* Numpy - Support large multi-dimension arrays.\n",
    "* Pandas - Pythons data manipulation library, built on top of numpy.\n",
    "* Faker - Generates fake data."
   ]
  },
  {
   "cell_type": "code",
   "execution_count": 59,
   "metadata": {},
   "outputs": [],
   "source": [
    "import numpy as np\n",
    "import pandas as pd\n",
    "import faker"
   ]
  },
  {
   "cell_type": "markdown",
   "metadata": {},
   "source": [
    "# NATSAL Data\n",
    "NATSAL refers to the National Surveys of Sexual Attitudes and Lifestyles. \n",
    "[This](https://beta.ukdataservice.ac.uk/datacatalogue/studies/study?id=8786) synthetic dataset holds some data on an individual-level identity, and opinions on various sexual topics.\n",
    "\n",
    "Let's perform some EDA(Exploratory Data Analysis):\n",
    "* Visually inspect rows.\n",
    "* Assess the quality of our data.\n",
    "* Begin to form a research questions.\n",
    "* Look for ways to simplify this dataset for ourselves.\n",
    "\n",
    "I've created a modification of the natsal data [here](https://github.com/UKDataServiceOpen/Synthetic-Data/blob/main/code-demo/NATSAL/natsal_3_teaching_open_with_personal.csv), with details on it's creation [here](https://github.com/UKDataServiceOpen/Synthetic-Data/blob/main/code-demo/NATSAL/NATSAL.ipynb).\n",
    "\n",
    "Anyway lets get started."
   ]
  },
  {
   "cell_type": "code",
   "execution_count": 22,
   "metadata": {},
   "outputs": [
    {
     "data": {
      "text/html": [
       "<div>\n",
       "<style scoped>\n",
       "    .dataframe tbody tr th:only-of-type {\n",
       "        vertical-align: middle;\n",
       "    }\n",
       "\n",
       "    .dataframe tbody tr th {\n",
       "        vertical-align: top;\n",
       "    }\n",
       "\n",
       "    .dataframe thead th {\n",
       "        text-align: right;\n",
       "    }\n",
       "</style>\n",
       "<table border=\"1\" class=\"dataframe\">\n",
       "  <thead>\n",
       "    <tr style=\"text-align: right;\">\n",
       "      <th></th>\n",
       "      <th>first_name</th>\n",
       "      <th>last_name</th>\n",
       "      <th>email</th>\n",
       "      <th>age_group</th>\n",
       "      <th>sex</th>\n",
       "      <th>ethnic_group</th>\n",
       "      <th>sexual_identity</th>\n",
       "      <th>importance_religion</th>\n",
       "      <th>relationship_status</th>\n",
       "      <th>age_at_first_child</th>\n",
       "      <th>opp_one_night_stand_ok</th>\n",
       "      <th>opp_sex_without_love_ok</th>\n",
       "      <th>opp_pressure_to_have_sex</th>\n",
       "      <th>opp_men_have_higher_sex_drive</th>\n",
       "      <th>opp_too_much_sex_media</th>\n",
       "      <th>has_child</th>\n",
       "    </tr>\n",
       "  </thead>\n",
       "  <tbody>\n",
       "    <tr>\n",
       "      <th>0</th>\n",
       "      <td>Adolphus</td>\n",
       "      <td>Giraudoux</td>\n",
       "      <td>agiraudoux7j@forbes.com</td>\n",
       "      <td>25-34</td>\n",
       "      <td>Male</td>\n",
       "      <td>White</td>\n",
       "      <td>Heterosexual/straight</td>\n",
       "      <td>Not very important</td>\n",
       "      <td>Never married, or lived with partner and not i...</td>\n",
       "      <td>NaN</td>\n",
       "      <td>Not wrong at all</td>\n",
       "      <td>Agree</td>\n",
       "      <td>Agree</td>\n",
       "      <td>Agree</td>\n",
       "      <td>Agree</td>\n",
       "      <td>False</td>\n",
       "    </tr>\n",
       "    <tr>\n",
       "      <th>1</th>\n",
       "      <td>Vaclav</td>\n",
       "      <td>Tydeman</td>\n",
       "      <td>vtydeman2d@jimdo.com</td>\n",
       "      <td>16-24</td>\n",
       "      <td>Male</td>\n",
       "      <td>White</td>\n",
       "      <td>Heterosexual/straight</td>\n",
       "      <td>Not important at all</td>\n",
       "      <td>Never married, or lived with partner and not i...</td>\n",
       "      <td>NaN</td>\n",
       "      <td>Rarely wrong</td>\n",
       "      <td>Agree strongly</td>\n",
       "      <td>Neither agree or disagree</td>\n",
       "      <td>Agree</td>\n",
       "      <td>Disagree</td>\n",
       "      <td>False</td>\n",
       "    </tr>\n",
       "    <tr>\n",
       "      <th>2</th>\n",
       "      <td>Cynthia</td>\n",
       "      <td>Izachik</td>\n",
       "      <td>cizachik41@latimes.com</td>\n",
       "      <td>25-34</td>\n",
       "      <td>Female</td>\n",
       "      <td>White</td>\n",
       "      <td>Heterosexual/straight</td>\n",
       "      <td>Fairly important</td>\n",
       "      <td>Living with partner</td>\n",
       "      <td>NaN</td>\n",
       "      <td>Rarely wrong</td>\n",
       "      <td>Agree strongly</td>\n",
       "      <td>Agree strongly</td>\n",
       "      <td>Agree</td>\n",
       "      <td>Agree strongly</td>\n",
       "      <td>False</td>\n",
       "    </tr>\n",
       "    <tr>\n",
       "      <th>3</th>\n",
       "      <td>Coop</td>\n",
       "      <td>Yurygyn</td>\n",
       "      <td>cyurygyng1@usgs.gov</td>\n",
       "      <td>25-34</td>\n",
       "      <td>Male</td>\n",
       "      <td>Not white</td>\n",
       "      <td>Heterosexual/straight</td>\n",
       "      <td>Very important</td>\n",
       "      <td>In a steady &amp; ongoing relationship  but not li...</td>\n",
       "      <td>NaN</td>\n",
       "      <td>Always wrong</td>\n",
       "      <td>Agree</td>\n",
       "      <td>Agree</td>\n",
       "      <td>Disagree</td>\n",
       "      <td>Agree</td>\n",
       "      <td>False</td>\n",
       "    </tr>\n",
       "    <tr>\n",
       "      <th>4</th>\n",
       "      <td>Hammad</td>\n",
       "      <td>Pillington</td>\n",
       "      <td>hpillington43@bizjournals.com</td>\n",
       "      <td>16-24</td>\n",
       "      <td>Male</td>\n",
       "      <td>White</td>\n",
       "      <td>Heterosexual/straight</td>\n",
       "      <td>Fairly important</td>\n",
       "      <td>Never married, or lived with partner and not i...</td>\n",
       "      <td>NaN</td>\n",
       "      <td>Sometimes wrong</td>\n",
       "      <td>Agree</td>\n",
       "      <td>Disagree</td>\n",
       "      <td>Agree</td>\n",
       "      <td>Agree strongly</td>\n",
       "      <td>False</td>\n",
       "    </tr>\n",
       "  </tbody>\n",
       "</table>\n",
       "</div>"
      ],
      "text/plain": [
       "  first_name   last_name                          email age_group     sex  \\\n",
       "0   Adolphus   Giraudoux        agiraudoux7j@forbes.com     25-34    Male   \n",
       "1     Vaclav     Tydeman           vtydeman2d@jimdo.com     16-24    Male   \n",
       "2    Cynthia     Izachik         cizachik41@latimes.com     25-34  Female   \n",
       "3       Coop     Yurygyn            cyurygyng1@usgs.gov     25-34    Male   \n",
       "4     Hammad  Pillington  hpillington43@bizjournals.com     16-24    Male   \n",
       "\n",
       "  ethnic_group        sexual_identity   importance_religion  \\\n",
       "0        White  Heterosexual/straight    Not very important   \n",
       "1        White  Heterosexual/straight  Not important at all   \n",
       "2        White  Heterosexual/straight      Fairly important   \n",
       "3    Not white  Heterosexual/straight        Very important   \n",
       "4        White  Heterosexual/straight      Fairly important   \n",
       "\n",
       "                                 relationship_status  age_at_first_child  \\\n",
       "0  Never married, or lived with partner and not i...                 NaN   \n",
       "1  Never married, or lived with partner and not i...                 NaN   \n",
       "2                                Living with partner                 NaN   \n",
       "3  In a steady & ongoing relationship  but not li...                 NaN   \n",
       "4  Never married, or lived with partner and not i...                 NaN   \n",
       "\n",
       "  opp_one_night_stand_ok opp_sex_without_love_ok   opp_pressure_to_have_sex  \\\n",
       "0       Not wrong at all                   Agree                      Agree   \n",
       "1           Rarely wrong          Agree strongly  Neither agree or disagree   \n",
       "2           Rarely wrong          Agree strongly             Agree strongly   \n",
       "3           Always wrong                   Agree                      Agree   \n",
       "4        Sometimes wrong                   Agree                   Disagree   \n",
       "\n",
       "  opp_men_have_higher_sex_drive opp_too_much_sex_media  has_child  \n",
       "0                         Agree                  Agree      False  \n",
       "1                         Agree               Disagree      False  \n",
       "2                         Agree         Agree strongly      False  \n",
       "3                      Disagree                  Agree      False  \n",
       "4                         Agree         Agree strongly      False  "
      ]
     },
     "execution_count": 22,
     "metadata": {},
     "output_type": "execute_result"
    }
   ],
   "source": [
    "# First we read in our dataset, we make use of Pandas here (pd), and read in our object as a dataframe (denoted df)\n",
    "df = pd.read_csv('NATSAL/natsal_3_teaching_open_with_personal.csv')\n",
    "\n",
    "# call the head function, listing 5 rows\n",
    "df.head()"
   ]
  },
  {
   "cell_type": "markdown",
   "metadata": {},
   "source": [
    "Do these rows make sense to us?\n",
    "\n",
    "The names and e-mails seem to add up. There appears to be some missing data let's look into that a little more."
   ]
  },
  {
   "cell_type": "code",
   "execution_count": 23,
   "metadata": {},
   "outputs": [
    {
     "name": "stdout",
     "output_type": "stream",
     "text": [
      "<class 'pandas.core.frame.DataFrame'>\n",
      "RangeIndex: 3799 entries, 0 to 3798\n",
      "Data columns (total 16 columns):\n",
      " #   Column                         Non-Null Count  Dtype  \n",
      "---  ------                         --------------  -----  \n",
      " 0   first_name                     3799 non-null   object \n",
      " 1   last_name                      3799 non-null   object \n",
      " 2   email                          3703 non-null   object \n",
      " 3   age_group                      3799 non-null   object \n",
      " 4   sex                            3799 non-null   object \n",
      " 5   ethnic_group                   3799 non-null   object \n",
      " 6   sexual_identity                3799 non-null   object \n",
      " 7   importance_religion            3781 non-null   object \n",
      " 8   relationship_status            3708 non-null   object \n",
      " 9   age_at_first_child             1925 non-null   float64\n",
      " 10  opp_one_night_stand_ok         3790 non-null   object \n",
      " 11  opp_sex_without_love_ok        3789 non-null   object \n",
      " 12  opp_pressure_to_have_sex       3790 non-null   object \n",
      " 13  opp_men_have_higher_sex_drive  3790 non-null   object \n",
      " 14  opp_too_much_sex_media         3791 non-null   object \n",
      " 15  has_child                      3799 non-null   bool   \n",
      "dtypes: bool(1), float64(1), object(14)\n",
      "memory usage: 449.0+ KB\n"
     ]
    }
   ],
   "source": [
    "# df.info summarises some basic qualities of our data.\n",
    "df.info()"
   ]
  },
  {
   "cell_type": "markdown",
   "metadata": {},
   "source": [
    "Some notes here:\n",
    "* we have 3799 rows, small enough that synthetsis could be manula, but also that machine learning may not perform well\n",
    "* Most columns seem to have some missing data, age_at_first_child is mostly missing, but intentionally so."
   ]
  },
  {
   "cell_type": "code",
   "execution_count": 24,
   "metadata": {},
   "outputs": [
    {
     "data": {
      "text/html": [
       "<div>\n",
       "<style scoped>\n",
       "    .dataframe tbody tr th:only-of-type {\n",
       "        vertical-align: middle;\n",
       "    }\n",
       "\n",
       "    .dataframe tbody tr th {\n",
       "        vertical-align: top;\n",
       "    }\n",
       "\n",
       "    .dataframe thead th {\n",
       "        text-align: right;\n",
       "    }\n",
       "</style>\n",
       "<table border=\"1\" class=\"dataframe\">\n",
       "  <thead>\n",
       "    <tr style=\"text-align: right;\">\n",
       "      <th></th>\n",
       "      <th>age_at_first_child</th>\n",
       "    </tr>\n",
       "  </thead>\n",
       "  <tbody>\n",
       "    <tr>\n",
       "      <th>count</th>\n",
       "      <td>1925.000000</td>\n",
       "    </tr>\n",
       "    <tr>\n",
       "      <th>mean</th>\n",
       "      <td>24.841558</td>\n",
       "    </tr>\n",
       "    <tr>\n",
       "      <th>std</th>\n",
       "      <td>5.277274</td>\n",
       "    </tr>\n",
       "    <tr>\n",
       "      <th>min</th>\n",
       "      <td>15.000000</td>\n",
       "    </tr>\n",
       "    <tr>\n",
       "      <th>25%</th>\n",
       "      <td>21.000000</td>\n",
       "    </tr>\n",
       "    <tr>\n",
       "      <th>50%</th>\n",
       "      <td>24.000000</td>\n",
       "    </tr>\n",
       "    <tr>\n",
       "      <th>75%</th>\n",
       "      <td>28.000000</td>\n",
       "    </tr>\n",
       "    <tr>\n",
       "      <th>max</th>\n",
       "      <td>40.000000</td>\n",
       "    </tr>\n",
       "  </tbody>\n",
       "</table>\n",
       "</div>"
      ],
      "text/plain": [
       "       age_at_first_child\n",
       "count         1925.000000\n",
       "mean            24.841558\n",
       "std              5.277274\n",
       "min             15.000000\n",
       "25%             21.000000\n",
       "50%             24.000000\n",
       "75%             28.000000\n",
       "max             40.000000"
      ]
     },
     "execution_count": 24,
     "metadata": {},
     "output_type": "execute_result"
    }
   ],
   "source": [
    "# describe gives mathematical information, not too useful in this dataset but always a step I recommend.\n",
    "df.describe()"
   ]
  },
  {
   "cell_type": "markdown",
   "metadata": {},
   "source": [
    "On average, respondants who had a first child, had them at 25 years old. \n",
    "\n",
    "Next I ask, what in here interests you? Can you draw out something you'd like to answer?\n",
    "To me being able to visualize the difference of oppinion between males and females, those with and without children, different ethnicities and different age groups all look very exciting.\n",
    "\n",
    "We have quite a lot of data that falls outside that scope, and I think it's worth dropping some. At this point i'd suggest:\n",
    "* renaming variables that don't make sense to you, i've already done this renaming dage1ch to age_at_first_child so at a glance we can recognise this data.\n",
    "* removing columns you aren't interested in."
   ]
  },
  {
   "cell_type": "code",
   "execution_count": 29,
   "metadata": {},
   "outputs": [
    {
     "data": {
      "text/plain": [
       "Index(['first_name', 'last_name', 'email', 'age_group', 'sex', 'ethnic_group',\n",
       "       'sexual_identity', 'relationship_status', 'has_child',\n",
       "       'opp_one_night_stand_ok', 'opp_sex_without_love_ok',\n",
       "       'opp_pressure_to_have_sex', 'opp_men_have_higher_sex_drive',\n",
       "       'opp_too_much_sex_media'],\n",
       "      dtype='object')"
      ]
     },
     "execution_count": 29,
     "metadata": {},
     "output_type": "execute_result"
    }
   ],
   "source": [
    "df.columns"
   ]
  },
  {
   "cell_type": "code",
   "execution_count": 30,
   "metadata": {},
   "outputs": [],
   "source": [
    "# select only columns we are interested in, I will drop the religion and age at first child\n",
    "# Normally I would suggest redacting first_name, last_name and email at this point, but as an example we will keep them.\n",
    "df = df[['first_name', 'last_name', 'email', 'age_group', 'sex', 'ethnic_group', 'sexual_identity', 'relationship_status', 'has_child',\n",
    "       'opp_one_night_stand_ok', 'opp_sex_without_love_ok', 'opp_pressure_to_have_sex','opp_men_have_higher_sex_drive', 'opp_too_much_sex_media']]\n",
    "\n",
    "# If we want to rename any columns we can do so here.\n",
    "df.columns = ['first_name', 'last_name', 'email','age_group', 'sex', 'ethnic_group', 'sexual_identity', 'relationship_status', 'has_child',\n",
    "       'opp_one_night_stand_ok', 'opp_sex_without_love_ok', 'opp_pressure_to_have_sex','opp_men_have_higher_sex_drive', 'opp_too_much_sex_media']"
   ]
  },
  {
   "cell_type": "markdown",
   "metadata": {},
   "source": [
    "To clarify, what we are doing looks like redaction for disclosure control, we are dropping these columns becuase they currently don't add to our research.\n",
    "The simpler our dataset the simpler our synthesis is likely to become.\n",
    "If we were doing this for the sake of confidentiality it would be disclosure control."
   ]
  },
  {
   "cell_type": "code",
   "execution_count": 27,
   "metadata": {},
   "outputs": [
    {
     "data": {
      "text/html": [
       "<div>\n",
       "<style scoped>\n",
       "    .dataframe tbody tr th:only-of-type {\n",
       "        vertical-align: middle;\n",
       "    }\n",
       "\n",
       "    .dataframe tbody tr th {\n",
       "        vertical-align: top;\n",
       "    }\n",
       "\n",
       "    .dataframe thead th {\n",
       "        text-align: right;\n",
       "    }\n",
       "</style>\n",
       "<table border=\"1\" class=\"dataframe\">\n",
       "  <thead>\n",
       "    <tr style=\"text-align: right;\">\n",
       "      <th></th>\n",
       "      <th>first_name</th>\n",
       "      <th>last_name</th>\n",
       "      <th>email</th>\n",
       "      <th>age_group</th>\n",
       "      <th>sex</th>\n",
       "      <th>ethnic_group</th>\n",
       "      <th>sexual_identity</th>\n",
       "      <th>relationship_status</th>\n",
       "      <th>has_child</th>\n",
       "      <th>opp_one_night_stand_ok</th>\n",
       "      <th>opp_sex_without_love_ok</th>\n",
       "      <th>opp_pressure_to_have_sex</th>\n",
       "      <th>opp_men_have_higher_sex_drive</th>\n",
       "      <th>opp_too_much_sex_media</th>\n",
       "    </tr>\n",
       "  </thead>\n",
       "  <tbody>\n",
       "    <tr>\n",
       "      <th>0</th>\n",
       "      <td>Adolphus</td>\n",
       "      <td>Giraudoux</td>\n",
       "      <td>agiraudoux7j@forbes.com</td>\n",
       "      <td>25-34</td>\n",
       "      <td>Male</td>\n",
       "      <td>White</td>\n",
       "      <td>Heterosexual/straight</td>\n",
       "      <td>Never married, or lived with partner and not i...</td>\n",
       "      <td>False</td>\n",
       "      <td>Not wrong at all</td>\n",
       "      <td>Agree</td>\n",
       "      <td>Agree</td>\n",
       "      <td>Agree</td>\n",
       "      <td>Agree</td>\n",
       "    </tr>\n",
       "    <tr>\n",
       "      <th>1</th>\n",
       "      <td>Vaclav</td>\n",
       "      <td>Tydeman</td>\n",
       "      <td>vtydeman2d@jimdo.com</td>\n",
       "      <td>16-24</td>\n",
       "      <td>Male</td>\n",
       "      <td>White</td>\n",
       "      <td>Heterosexual/straight</td>\n",
       "      <td>Never married, or lived with partner and not i...</td>\n",
       "      <td>False</td>\n",
       "      <td>Rarely wrong</td>\n",
       "      <td>Agree strongly</td>\n",
       "      <td>Neither agree or disagree</td>\n",
       "      <td>Agree</td>\n",
       "      <td>Disagree</td>\n",
       "    </tr>\n",
       "    <tr>\n",
       "      <th>2</th>\n",
       "      <td>Cynthia</td>\n",
       "      <td>Izachik</td>\n",
       "      <td>cizachik41@latimes.com</td>\n",
       "      <td>25-34</td>\n",
       "      <td>Female</td>\n",
       "      <td>White</td>\n",
       "      <td>Heterosexual/straight</td>\n",
       "      <td>Living with partner</td>\n",
       "      <td>False</td>\n",
       "      <td>Rarely wrong</td>\n",
       "      <td>Agree strongly</td>\n",
       "      <td>Agree strongly</td>\n",
       "      <td>Agree</td>\n",
       "      <td>Agree strongly</td>\n",
       "    </tr>\n",
       "    <tr>\n",
       "      <th>3</th>\n",
       "      <td>Coop</td>\n",
       "      <td>Yurygyn</td>\n",
       "      <td>cyurygyng1@usgs.gov</td>\n",
       "      <td>25-34</td>\n",
       "      <td>Male</td>\n",
       "      <td>Not white</td>\n",
       "      <td>Heterosexual/straight</td>\n",
       "      <td>In a steady &amp; ongoing relationship  but not li...</td>\n",
       "      <td>False</td>\n",
       "      <td>Always wrong</td>\n",
       "      <td>Agree</td>\n",
       "      <td>Agree</td>\n",
       "      <td>Disagree</td>\n",
       "      <td>Agree</td>\n",
       "    </tr>\n",
       "    <tr>\n",
       "      <th>4</th>\n",
       "      <td>Hammad</td>\n",
       "      <td>Pillington</td>\n",
       "      <td>hpillington43@bizjournals.com</td>\n",
       "      <td>16-24</td>\n",
       "      <td>Male</td>\n",
       "      <td>White</td>\n",
       "      <td>Heterosexual/straight</td>\n",
       "      <td>Never married, or lived with partner and not i...</td>\n",
       "      <td>False</td>\n",
       "      <td>Sometimes wrong</td>\n",
       "      <td>Agree</td>\n",
       "      <td>Disagree</td>\n",
       "      <td>Agree</td>\n",
       "      <td>Agree strongly</td>\n",
       "    </tr>\n",
       "  </tbody>\n",
       "</table>\n",
       "</div>"
      ],
      "text/plain": [
       "  first_name   last_name                          email age_group     sex  \\\n",
       "0   Adolphus   Giraudoux        agiraudoux7j@forbes.com     25-34    Male   \n",
       "1     Vaclav     Tydeman           vtydeman2d@jimdo.com     16-24    Male   \n",
       "2    Cynthia     Izachik         cizachik41@latimes.com     25-34  Female   \n",
       "3       Coop     Yurygyn            cyurygyng1@usgs.gov     25-34    Male   \n",
       "4     Hammad  Pillington  hpillington43@bizjournals.com     16-24    Male   \n",
       "\n",
       "  ethnic_group        sexual_identity  \\\n",
       "0        White  Heterosexual/straight   \n",
       "1        White  Heterosexual/straight   \n",
       "2        White  Heterosexual/straight   \n",
       "3    Not white  Heterosexual/straight   \n",
       "4        White  Heterosexual/straight   \n",
       "\n",
       "                                 relationship_status  has_child  \\\n",
       "0  Never married, or lived with partner and not i...      False   \n",
       "1  Never married, or lived with partner and not i...      False   \n",
       "2                                Living with partner      False   \n",
       "3  In a steady & ongoing relationship  but not li...      False   \n",
       "4  Never married, or lived with partner and not i...      False   \n",
       "\n",
       "  opp_one_night_stand_ok opp_sex_without_love_ok   opp_pressure_to_have_sex  \\\n",
       "0       Not wrong at all                   Agree                      Agree   \n",
       "1           Rarely wrong          Agree strongly  Neither agree or disagree   \n",
       "2           Rarely wrong          Agree strongly             Agree strongly   \n",
       "3           Always wrong                   Agree                      Agree   \n",
       "4        Sometimes wrong                   Agree                   Disagree   \n",
       "\n",
       "  opp_men_have_higher_sex_drive opp_too_much_sex_media  \n",
       "0                         Agree                  Agree  \n",
       "1                         Agree               Disagree  \n",
       "2                         Agree         Agree strongly  \n",
       "3                      Disagree                  Agree  \n",
       "4                         Agree         Agree strongly  "
      ]
     },
     "execution_count": 27,
     "metadata": {},
     "output_type": "execute_result"
    }
   ],
   "source": [
    "df.head()"
   ]
  },
  {
   "cell_type": "markdown",
   "metadata": {},
   "source": [
    "## Data Breakdown\n",
    "So to break down our final dataset.\n",
    "* first_name\n",
    "* last_name\n",
    "* email\n",
    "* age_group - age group broken down into 9 year bands.\n",
    "* sex - appears to contain only Male or Female\n",
    "* ethnic_group - ethnic group, split as White or Not White\n",
    "* sexual_identity - sexual identity as Heterosexual or Not Heterosexual\n",
    "* relationship_status - relationship status\n",
    "* has_child - True or False for having a child\n",
    "* rwcasul - Now we are getting into some oppinion data, this is the opinion on one night stands.\n",
    "* snnolov - Oppinion on sex, without love is ok.\n",
    "* snpres - Oppinion on People are under pressure to have sex\n",
    "* snsexdrv - Oppinion on Men have a nturally higher sex drive than women.\n",
    "* snmedia - Oppinion on Too much sex in\n",
    "\n",
    "## Visualizations\n",
    "There won't be much value in trying to visualize the names and e-mails, but lets get a quick look at who our respondants are."
   ]
  },
  {
   "cell_type": "code",
   "execution_count": 31,
   "metadata": {},
   "outputs": [
    {
     "data": {
      "text/plain": [
       "25-34    1027\n",
       "16-24     960\n",
       "35-44     533\n",
       "45-54     491\n",
       "55-64     404\n",
       "65-74     384\n",
       "Name: age_group, dtype: int64"
      ]
     },
     "execution_count": 31,
     "metadata": {},
     "output_type": "execute_result"
    }
   ],
   "source": [
    "# we can count unique values using the value_counts() function.\n",
    "df.age_group.value_counts()"
   ]
  },
  {
   "cell_type": "code",
   "execution_count": 32,
   "metadata": {},
   "outputs": [
    {
     "data": {
      "text/plain": [
       "Jermain    4\n",
       "Katy       4\n",
       "Rowan      4\n",
       "Terri      4\n",
       "Wolf       4\n",
       "          ..\n",
       "Antony     1\n",
       "Brianne    1\n",
       "Lonnie     1\n",
       "Pincus     1\n",
       "Gussie     1\n",
       "Name: first_name, Length: 3026, dtype: int64"
      ]
     },
     "execution_count": 32,
     "metadata": {},
     "output_type": "execute_result"
    }
   ],
   "source": [
    "# which is less useful if we have a lot of different values.\n",
    "df.first_name.value_counts()"
   ]
  },
  {
   "cell_type": "code",
   "execution_count": 37,
   "metadata": {},
   "outputs": [
    {
     "data": {
      "text/plain": [
       "<AxesSubplot:>"
      ]
     },
     "execution_count": 37,
     "metadata": {},
     "output_type": "execute_result"
    },
    {
     "data": {
      "image/png": "[encoded data removed]",
      "text/plain": [
       "<Figure size 432x288 with 1 Axes>"
      ]
     },
     "metadata": {
      "needs_background": "light"
     },
     "output_type": "display_data"
    }
   ],
   "source": [
    "# We can also plot this object, calling .plot()\n",
    "df.age_group.value_counts().plot()"
   ]
  },
  {
   "cell_type": "code",
   "execution_count": 35,
   "metadata": {},
   "outputs": [
    {
     "data": {
      "text/plain": [
       "<AxesSubplot:>"
      ]
     },
     "execution_count": 35,
     "metadata": {},
     "output_type": "execute_result"
    },
    {
     "data": {
      "image/png": "[encoded data removed]",
      "text/plain": [
       "<Figure size 432x288 with 1 Axes>"
      ]
     },
     "metadata": {
      "needs_background": "light"
     },
     "output_type": "display_data"
    }
   ],
   "source": [
    "# .plot() assumes we want a line graph, this is not the case. We can control these plots using the kind parameter\n",
    "df.age_group.value_counts().plot(kind='bar')"
   ]
  },
  {
   "cell_type": "markdown",
   "metadata": {},
   "source": [
    "There are some problems here:\n",
    "* This graph is small, probably hard to read\n",
    "* Looks a bit dull\n",
    "* the categories are clearly ordinal, that is 16-24 should probably be shown before 25-34 and so one\n",
    "* missing titles and axis labels\n",
    "\n",
    "We can configure matplotlib globally to resolve some of these for all future plots"
   ]
  },
  {
   "cell_type": "code",
   "execution_count": 70,
   "metadata": {},
   "outputs": [],
   "source": [
    "# configure matplotlib\n",
    "import matplotlib.pyplot as plt\n",
    "plt.style.use('seaborn-whitegrid')\n",
    "# set custom parameters\n",
    "plt.rcParams.update({'font.size': 22,\n",
    "                    'figure.figsize':(28,10)})\n",
    "# plt.rcParams[\"figure.figsize\"] = (20,3)"
   ]
  },
  {
   "cell_type": "code",
   "execution_count": 71,
   "metadata": {},
   "outputs": [
    {
     "data": {
      "text/plain": [
       "<AxesSubplot:>"
      ]
     },
     "execution_count": 71,
     "metadata": {},
     "output_type": "execute_result"
    },
    {
     "data": {
      "image/png": "[encoded data removed]",
      "text/plain": [
       "<Figure size 2240x800 with 1 Axes>"
      ]
     },
     "metadata": {},
     "output_type": "display_data"
    }
   ],
   "source": [
    "# .plot() assumes we want a line graph, this is not the case. We can control these plots using the kind parameter\n",
    "df.age_group.value_counts().plot(kind='bar')"
   ]
  }
 ],
 "metadata": {
  "kernelspec": {
   "display_name": "Python 3",
   "language": "python",
   "name": "python3"
  },
  "language_info": {
   "codemirror_mode": {
    "name": "ipython",
    "version": 3
   },
   "file_extension": ".py",
   "mimetype": "text/x-python",
   "name": "python",
   "nbconvert_exporter": "python",
   "pygments_lexer": "ipython3",
   "version": "3.8.5"
  }
 },
 "nbformat": 4,
 "nbformat_minor": 4
}
