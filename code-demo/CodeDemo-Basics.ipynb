{
 "cells": [
  {
   "cell_type": "markdown",
   "metadata": {},
   "source": [
    "===========================================================================================================================\n",
    "# Getting started\n",
    "In this section, we will cover:\n",
    "* Importing the packages we need,\n",
    "* Importing the data we will use,\n",
    "* Checking the data in 2 different ways. \n"
   ]
  },
  {
   "cell_type": "markdown",
   "metadata": {},
   "source": [
    "***\n",
    "## Importing packages\n",
    "To start with we need to import any packages beyond base Python we are using.\n",
    "* Numpy - Support large multi-dimension arrays.\n",
    "* Pandas - Pythons data manipulation library, built on top of numpy.\n",
    "* Faker - Generates fake data.\n",
    "* Matplotlib - configure plots, and pandas plotting"
   ]
  },
  {
   "cell_type": "code",
   "execution_count": 1,
   "metadata": {},
   "outputs": [
    {
     "name": "stdout",
     "output_type": "stream",
     "text": [
      "Requirement already satisfied: Faker in c:\\python39\\lib\\site-packages (15.3.3)\n",
      "Requirement already satisfied: python-dateutil>=2.4 in c:\\python39\\lib\\site-packages (from Faker) (2.8.1)\n",
      "Requirement already satisfied: six>=1.5 in c:\\python39\\lib\\site-packages (from python-dateutil>=2.4->Faker) (1.15.0)\n",
      "Requirement already satisfied: seaborn in c:\\python39\\lib\\site-packages (0.12.1)\n",
      "Requirement already satisfied: matplotlib!=3.6.1,>=3.1 in c:\\python39\\lib\\site-packages (from seaborn) (3.4.2)\n",
      "Requirement already satisfied: pandas>=0.25 in c:\\python39\\lib\\site-packages (from seaborn) (1.2.3)\n",
      "Requirement already satisfied: numpy>=1.17 in c:\\python39\\lib\\site-packages (from seaborn) (1.20.1)\n",
      "Requirement already satisfied: cycler>=0.10 in c:\\python39\\lib\\site-packages (from matplotlib!=3.6.1,>=3.1->seaborn) (0.10.0)\n",
      "Requirement already satisfied: kiwisolver>=1.0.1 in c:\\python39\\lib\\site-packages (from matplotlib!=3.6.1,>=3.1->seaborn) (1.3.1)\n",
      "Requirement already satisfied: python-dateutil>=2.7 in c:\\python39\\lib\\site-packages (from matplotlib!=3.6.1,>=3.1->seaborn) (2.8.1)\n",
      "Requirement already satisfied: pillow>=6.2.0 in c:\\python39\\lib\\site-packages (from matplotlib!=3.6.1,>=3.1->seaborn) (9.2.0)\n",
      "Requirement already satisfied: pyparsing>=2.2.1 in c:\\python39\\lib\\site-packages (from matplotlib!=3.6.1,>=3.1->seaborn) (2.4.7)\n",
      "Requirement already satisfied: six in c:\\python39\\lib\\site-packages (from cycler>=0.10->matplotlib!=3.6.1,>=3.1->seaborn) (1.15.0)\n",
      "Requirement already satisfied: pytz>=2017.3 in c:\\python39\\lib\\site-packages (from pandas>=0.25->seaborn) (2020.5)\n",
      "Requirement already satisfied: fitter in c:\\python39\\lib\\site-packages (1.5.2)\n",
      "Requirement already satisfied: click in c:\\python39\\lib\\site-packages (from fitter) (8.0.1)\n",
      "Requirement already satisfied: joblib in c:\\python39\\lib\\site-packages (from fitter) (1.0.1)\n",
      "Requirement already satisfied: matplotlib in c:\\python39\\lib\\site-packages (from fitter) (3.4.2)\n",
      "Requirement already satisfied: numpy in c:\\python39\\lib\\site-packages (from fitter) (1.20.1)\n",
      "Requirement already satisfied: pandas in c:\\python39\\lib\\site-packages (from fitter) (1.2.3)\n",
      "Requirement already satisfied: scipy>=0.18 in c:\\python39\\lib\\site-packages (from fitter) (1.6.3)\n",
      "Requirement already satisfied: tqdm in c:\\python39\\lib\\site-packages (from fitter) (4.61.0)\n",
      "Requirement already satisfied: colorama in c:\\python39\\lib\\site-packages (from click->fitter) (0.4.4)\n",
      "Requirement already satisfied: pyparsing>=2.2.1 in c:\\python39\\lib\\site-packages (from matplotlib->fitter) (2.4.7)\n",
      "Requirement already satisfied: kiwisolver>=1.0.1 in c:\\python39\\lib\\site-packages (from matplotlib->fitter) (1.3.1)\n",
      "Requirement already satisfied: python-dateutil>=2.7 in c:\\python39\\lib\\site-packages (from matplotlib->fitter) (2.8.1)\n",
      "Requirement already satisfied: cycler>=0.10 in c:\\python39\\lib\\site-packages (from matplotlib->fitter) (0.10.0)\n",
      "Requirement already satisfied: pillow>=6.2.0 in c:\\python39\\lib\\site-packages (from matplotlib->fitter) (9.2.0)\n",
      "Requirement already satisfied: six in c:\\python39\\lib\\site-packages (from cycler>=0.10->matplotlib->fitter) (1.15.0)\n",
      "Requirement already satisfied: pytz>=2017.3 in c:\\python39\\lib\\site-packages (from pandas->fitter) (2020.5)\n"
     ]
    }
   ],
   "source": [
    "# Needed to make the output of some cells cleaner and less confusing\n",
    "import warnings\n",
    "warnings.filterwarnings('ignore') # setting ignore as a parameter\n",
    "\n",
    "# Needed for looking at the contents of folders and identifying files available to read in\n",
    "import os\n",
    "\n",
    "# Basic packackes for importing and working with data \n",
    "import numpy as np # linear algebra\n",
    "import pandas as pd # data processing, CSV file I/O (e.g. pd.read_csv)\n",
    "\n",
    "# Do I need these for this demo?\n",
    "!pip install Faker\n",
    "from faker import Faker\n",
    "\n",
    "# Needed for plotting and visualiasations\n",
    "import matplotlib.colors\n",
    "import matplotlib.pyplot as plt\n",
    "from mpl_toolkits.mplot3d import Axes3D\n",
    "import matplotlib.pyplot as plt\n",
    "!pip install seaborn\n",
    "import seaborn as sns\n",
    "\n",
    "# Needed for estimating best fit to common distributions\n",
    "!pip install fitter\n",
    "import fitter\n",
    "from fitter import Fitter, get_common_distributions, get_distributions\n",
    "\n",
    "# Needed for generating classification, regression and clustering datasets\n",
    "import sklearn.datasets as dt\n",
    "\n",
    "# Needed for generating data from an existing dataset\n",
    "from sklearn.neighbors import KernelDensity\n",
    "from sklearn.model_selection import GridSearchCV"
   ]
  },
  {
   "cell_type": "markdown",
   "metadata": {},
   "source": [
    "***\n",
    "## Importing data\n",
    "Next we need to import the data with which we are going to work. This is a pretty basic dataset that is often included with python distributions. \n",
    "\n",
    "Still, I wanted to demonstrate how you load your own dataset from a file. In this case, the file is located inside a folder called 'input' which is stored in the same place as my jupyter notebook (the .ipynb file that you clicked on to open this tab). \n",
    "\n",
    "Importing the file into the jupyter notebook also gives us a chance to name it, in this case `df`. This is a common name given to a dataset for demonstration purposes because it is just short for 'data frame'. In a real-world project, you should give your datasets more useful, descriptive names. "
   ]
  },
  {
   "cell_type": "code",
   "execution_count": 2,
   "metadata": {},
   "outputs": [
    {
     "name": "stdout",
     "output_type": "stream",
     "text": [
      "['weight-height.csv']\n"
     ]
    }
   ],
   "source": [
    "print(os.listdir(\"input\"))                    # This prints the contents of the \"inputs\" folder \n",
    "                                              # as a quick check that we have something to import\n",
    "    \n",
    "df= pd.read_csv('input/weight-height.csv')    # read in the .csv as a variable called \"df\""
   ]
  },
  {
   "cell_type": "markdown",
   "metadata": {},
   "source": [
    "***\n",
    "## Checking the data\n",
    "Quickly \"sense check\" the data we just imported. There are a few different ways to do that and I show you two here. \n",
    "\n",
    "\n",
    "The first way is to simply type the name of the data into a cell and execute that cell. This gives you the first and last five lines of the data and a summary of how many rows and columns. "
   ]
  },
  {
   "cell_type": "code",
   "execution_count": 3,
   "metadata": {},
   "outputs": [
    {
     "data": {
      "text/html": [
       "<div>\n",
       "<style scoped>\n",
       "    .dataframe tbody tr th:only-of-type {\n",
       "        vertical-align: middle;\n",
       "    }\n",
       "\n",
       "    .dataframe tbody tr th {\n",
       "        vertical-align: top;\n",
       "    }\n",
       "\n",
       "    .dataframe thead th {\n",
       "        text-align: right;\n",
       "    }\n",
       "</style>\n",
       "<table border=\"1\" class=\"dataframe\">\n",
       "  <thead>\n",
       "    <tr style=\"text-align: right;\">\n",
       "      <th></th>\n",
       "      <th>Gender</th>\n",
       "      <th>Height</th>\n",
       "      <th>Weight</th>\n",
       "    </tr>\n",
       "  </thead>\n",
       "  <tbody>\n",
       "    <tr>\n",
       "      <th>0</th>\n",
       "      <td>Male</td>\n",
       "      <td>73.847017</td>\n",
       "      <td>241.893563</td>\n",
       "    </tr>\n",
       "    <tr>\n",
       "      <th>1</th>\n",
       "      <td>Male</td>\n",
       "      <td>68.781904</td>\n",
       "      <td>162.310473</td>\n",
       "    </tr>\n",
       "    <tr>\n",
       "      <th>2</th>\n",
       "      <td>Male</td>\n",
       "      <td>74.110105</td>\n",
       "      <td>212.740856</td>\n",
       "    </tr>\n",
       "    <tr>\n",
       "      <th>3</th>\n",
       "      <td>Male</td>\n",
       "      <td>71.730978</td>\n",
       "      <td>220.042470</td>\n",
       "    </tr>\n",
       "    <tr>\n",
       "      <th>4</th>\n",
       "      <td>Male</td>\n",
       "      <td>69.881796</td>\n",
       "      <td>206.349801</td>\n",
       "    </tr>\n",
       "    <tr>\n",
       "      <th>...</th>\n",
       "      <td>...</td>\n",
       "      <td>...</td>\n",
       "      <td>...</td>\n",
       "    </tr>\n",
       "    <tr>\n",
       "      <th>9995</th>\n",
       "      <td>Female</td>\n",
       "      <td>66.172652</td>\n",
       "      <td>136.777454</td>\n",
       "    </tr>\n",
       "    <tr>\n",
       "      <th>9996</th>\n",
       "      <td>Female</td>\n",
       "      <td>67.067155</td>\n",
       "      <td>170.867906</td>\n",
       "    </tr>\n",
       "    <tr>\n",
       "      <th>9997</th>\n",
       "      <td>Female</td>\n",
       "      <td>63.867992</td>\n",
       "      <td>128.475319</td>\n",
       "    </tr>\n",
       "    <tr>\n",
       "      <th>9998</th>\n",
       "      <td>Female</td>\n",
       "      <td>69.034243</td>\n",
       "      <td>163.852461</td>\n",
       "    </tr>\n",
       "    <tr>\n",
       "      <th>9999</th>\n",
       "      <td>Female</td>\n",
       "      <td>61.944246</td>\n",
       "      <td>113.649103</td>\n",
       "    </tr>\n",
       "  </tbody>\n",
       "</table>\n",
       "<p>10000 rows × 3 columns</p>\n",
       "</div>"
      ],
      "text/plain": [
       "      Gender     Height      Weight\n",
       "0       Male  73.847017  241.893563\n",
       "1       Male  68.781904  162.310473\n",
       "2       Male  74.110105  212.740856\n",
       "3       Male  71.730978  220.042470\n",
       "4       Male  69.881796  206.349801\n",
       "...      ...        ...         ...\n",
       "9995  Female  66.172652  136.777454\n",
       "9996  Female  67.067155  170.867906\n",
       "9997  Female  63.867992  128.475319\n",
       "9998  Female  69.034243  163.852461\n",
       "9999  Female  61.944246  113.649103\n",
       "\n",
       "[10000 rows x 3 columns]"
      ]
     },
     "execution_count": 3,
     "metadata": {},
     "output_type": "execute_result"
    }
   ],
   "source": [
    "df                                            # check the new variable by simply calling its name."
   ]
  },
  {
   "cell_type": "markdown",
   "metadata": {},
   "source": [
    "A second way to sense check the data is to call for the `head` of the file, which is the first X number of rows. Exactly how many rows are returned in the head of the file depends on the value of X you want. I use X=10 in the  example below. \n",
    "\n",
    "You should also note that the summary (how many rows and columns) is not provided at the end as it was in the first way to sense check. This doesn't matter much here for two reasons:\n",
    "* You already know that information from the first sense check we ran.\n",
    "* You can directly see that there are three columns because these three columns are easily seen on screen. \n",
    "\n",
    "This might matter more if you use `name.head(X)` as the first way to sense check the data or if you have too many columns in your data to fit on the screen. "
   ]
  },
  {
   "cell_type": "code",
   "execution_count": 4,
   "metadata": {},
   "outputs": [
    {
     "data": {
      "text/html": [
       "<div>\n",
       "<style scoped>\n",
       "    .dataframe tbody tr th:only-of-type {\n",
       "        vertical-align: middle;\n",
       "    }\n",
       "\n",
       "    .dataframe tbody tr th {\n",
       "        vertical-align: top;\n",
       "    }\n",
       "\n",
       "    .dataframe thead th {\n",
       "        text-align: right;\n",
       "    }\n",
       "</style>\n",
       "<table border=\"1\" class=\"dataframe\">\n",
       "  <thead>\n",
       "    <tr style=\"text-align: right;\">\n",
       "      <th></th>\n",
       "      <th>Gender</th>\n",
       "      <th>Height</th>\n",
       "      <th>Weight</th>\n",
       "    </tr>\n",
       "  </thead>\n",
       "  <tbody>\n",
       "    <tr>\n",
       "      <th>0</th>\n",
       "      <td>Male</td>\n",
       "      <td>73.847017</td>\n",
       "      <td>241.893563</td>\n",
       "    </tr>\n",
       "    <tr>\n",
       "      <th>1</th>\n",
       "      <td>Male</td>\n",
       "      <td>68.781904</td>\n",
       "      <td>162.310473</td>\n",
       "    </tr>\n",
       "    <tr>\n",
       "      <th>2</th>\n",
       "      <td>Male</td>\n",
       "      <td>74.110105</td>\n",
       "      <td>212.740856</td>\n",
       "    </tr>\n",
       "    <tr>\n",
       "      <th>3</th>\n",
       "      <td>Male</td>\n",
       "      <td>71.730978</td>\n",
       "      <td>220.042470</td>\n",
       "    </tr>\n",
       "    <tr>\n",
       "      <th>4</th>\n",
       "      <td>Male</td>\n",
       "      <td>69.881796</td>\n",
       "      <td>206.349801</td>\n",
       "    </tr>\n",
       "    <tr>\n",
       "      <th>5</th>\n",
       "      <td>Male</td>\n",
       "      <td>67.253016</td>\n",
       "      <td>152.212156</td>\n",
       "    </tr>\n",
       "    <tr>\n",
       "      <th>6</th>\n",
       "      <td>Male</td>\n",
       "      <td>68.785081</td>\n",
       "      <td>183.927889</td>\n",
       "    </tr>\n",
       "    <tr>\n",
       "      <th>7</th>\n",
       "      <td>Male</td>\n",
       "      <td>68.348516</td>\n",
       "      <td>167.971110</td>\n",
       "    </tr>\n",
       "    <tr>\n",
       "      <th>8</th>\n",
       "      <td>Male</td>\n",
       "      <td>67.018950</td>\n",
       "      <td>175.929440</td>\n",
       "    </tr>\n",
       "    <tr>\n",
       "      <th>9</th>\n",
       "      <td>Male</td>\n",
       "      <td>63.456494</td>\n",
       "      <td>156.399676</td>\n",
       "    </tr>\n",
       "  </tbody>\n",
       "</table>\n",
       "</div>"
      ],
      "text/plain": [
       "  Gender     Height      Weight\n",
       "0   Male  73.847017  241.893563\n",
       "1   Male  68.781904  162.310473\n",
       "2   Male  74.110105  212.740856\n",
       "3   Male  71.730978  220.042470\n",
       "4   Male  69.881796  206.349801\n",
       "5   Male  67.253016  152.212156\n",
       "6   Male  68.785081  183.927889\n",
       "7   Male  68.348516  167.971110\n",
       "8   Male  67.018950  175.929440\n",
       "9   Male  63.456494  156.399676"
      ]
     },
     "execution_count": 4,
     "metadata": {},
     "output_type": "execute_result"
    }
   ],
   "source": [
    "df.head(10)                                  # calling \"data_variable.head(X)\" prints the first X rows in the data_variable\n"
   ]
  },
  {
   "cell_type": "markdown",
   "metadata": {},
   "source": [
    "***\n",
    "Extra credit work\n",
    "***\n",
    "\n",
    "Try running the `head` function with a number other than 10 in the code cell below. You can also try running the `tail function`. You will need to edit the code below to get it to run correctly. "
   ]
  },
  {
   "cell_type": "code",
   "execution_count": 5,
   "metadata": {},
   "outputs": [
    {
     "ename": "NameError",
     "evalue": "name 'X' is not defined",
     "output_type": "error",
     "traceback": [
      "\u001b[1;31m---------------------------------------------------------------------------\u001b[0m",
      "\u001b[1;31mNameError\u001b[0m                                 Traceback (most recent call last)",
      "\u001b[1;32m<ipython-input-5-28c0fd16dedf>\u001b[0m in \u001b[0;36m<module>\u001b[1;34m\u001b[0m\n\u001b[1;32m----> 1\u001b[1;33m \u001b[0mdf\u001b[0m\u001b[1;33m.\u001b[0m\u001b[0mhead\u001b[0m\u001b[1;33m(\u001b[0m\u001b[0mX\u001b[0m\u001b[1;33m)\u001b[0m                                  \u001b[1;31m# Try changing the value of X.\u001b[0m\u001b[1;33m\u001b[0m\u001b[1;33m\u001b[0m\u001b[0m\n\u001b[0m\u001b[0;32m      2\u001b[0m \u001b[0mdf\u001b[0m\u001b[1;33m.\u001b[0m\u001b[0mtail\u001b[0m\u001b[1;33m(\u001b[0m\u001b[0mX\u001b[0m\u001b[1;33m)\u001b[0m                                  \u001b[1;31m# What do you think 'tail' will do? Try it out!\u001b[0m\u001b[1;33m\u001b[0m\u001b[1;33m\u001b[0m\u001b[0m\n\u001b[0;32m      3\u001b[0m \u001b[1;33m\u001b[0m\u001b[0m\n\u001b[0;32m      4\u001b[0m \u001b[1;33m\u001b[0m\u001b[0m\n\u001b[0;32m      5\u001b[0m \u001b[1;31m# NOTE! This cell will produce an error if you try to run it as it was originally written.\u001b[0m\u001b[1;33m\u001b[0m\u001b[1;33m\u001b[0m\u001b[1;33m\u001b[0m\u001b[0m\n",
      "\u001b[1;31mNameError\u001b[0m: name 'X' is not defined"
     ]
    }
   ],
   "source": [
    "df.head(X)                                  # Try changing the value of X. \n",
    "df.tail(X)                                  # What do you think 'tail' will do? Try it out!\n",
    "\n",
    "\n",
    "# NOTE! This cell will produce an error if you try to run it as it was originally written. \n",
    "# What do you need to change to make it run correctly?"
   ]
  },
  {
   "cell_type": "markdown",
   "metadata": {},
   "source": [
    "===========================================================================================================================\n",
    "# Exploring the data\n",
    "In this section, we will cover:\n",
    "* Multiple ways to get an overview, and\n",
    "* How to visualise the data.\n",
    "\n",
    "The first way to visualise the data is to have a look at the columns with a simple `name.columns` function. This tells you things like how many there are and what they are called. It is pretty basic but also pleasantly straightforward. "
   ]
  },
  {
   "cell_type": "code",
   "execution_count": 6,
   "metadata": {},
   "outputs": [
    {
     "data": {
      "text/plain": [
       "Index(['Gender', 'Height', 'Weight'], dtype='object')"
      ]
     },
     "execution_count": 6,
     "metadata": {},
     "output_type": "execute_result"
    }
   ],
   "source": [
    "df.columns"
   ]
  },
  {
   "cell_type": "markdown",
   "metadata": {},
   "source": [
    "Another option is to use `name.info()`. This returns lots more info (the clue is in the name) like what kind of an object the thing on which you called `info` is, how many entries it has, what their index range is, how many columns, what the column names are, whether there are missing values in those columns, what type of data each column is, how much memory is used, etc. "
   ]
  },
  {
   "cell_type": "code",
   "execution_count": 7,
   "metadata": {},
   "outputs": [
    {
     "name": "stdout",
     "output_type": "stream",
     "text": [
      "<class 'pandas.core.frame.DataFrame'>\n",
      "RangeIndex: 10000 entries, 0 to 9999\n",
      "Data columns (total 3 columns):\n",
      " #   Column  Non-Null Count  Dtype  \n",
      "---  ------  --------------  -----  \n",
      " 0   Gender  10000 non-null  object \n",
      " 1   Height  10000 non-null  float64\n",
      " 2   Weight  10000 non-null  float64\n",
      "dtypes: float64(2), object(1)\n",
      "memory usage: 234.5+ KB\n"
     ]
    }
   ],
   "source": [
    "df.info()"
   ]
  },
  {
   "cell_type": "markdown",
   "metadata": {},
   "source": [
    "Having used these overview options, we know:\n",
    "* we have three columns (and we know the names),\n",
    "* we have 1000 rows, \n",
    "* there are no missing values, and\n",
    "* there are 2 different types (1 object and 2 floats). "
   ]
  },
  {
   "cell_type": "markdown",
   "metadata": {},
   "source": [
    "***\n",
    "## Data overviews\n",
    "\n",
    "Now that we have a basic sense of what our data is (how big it is, what is in it, etc.) we need to have a look at its *contents*. As you might expect, there are a few ways to do this, each of which is slightly different. \n",
    "\n",
    "The first way is to use `name.describe()` which returns some basic descriptiove statistics for the numerical variables (not for 'gender' which is an object variable). In essence, this is the count, minimum, maximum, mean, etc. "
   ]
  },
  {
   "cell_type": "code",
   "execution_count": 8,
   "metadata": {},
   "outputs": [
    {
     "data": {
      "text/html": [
       "<div>\n",
       "<style scoped>\n",
       "    .dataframe tbody tr th:only-of-type {\n",
       "        vertical-align: middle;\n",
       "    }\n",
       "\n",
       "    .dataframe tbody tr th {\n",
       "        vertical-align: top;\n",
       "    }\n",
       "\n",
       "    .dataframe thead th {\n",
       "        text-align: right;\n",
       "    }\n",
       "</style>\n",
       "<table border=\"1\" class=\"dataframe\">\n",
       "  <thead>\n",
       "    <tr style=\"text-align: right;\">\n",
       "      <th></th>\n",
       "      <th>Height</th>\n",
       "      <th>Weight</th>\n",
       "    </tr>\n",
       "  </thead>\n",
       "  <tbody>\n",
       "    <tr>\n",
       "      <th>count</th>\n",
       "      <td>10000.000000</td>\n",
       "      <td>10000.000000</td>\n",
       "    </tr>\n",
       "    <tr>\n",
       "      <th>mean</th>\n",
       "      <td>66.367560</td>\n",
       "      <td>161.440357</td>\n",
       "    </tr>\n",
       "    <tr>\n",
       "      <th>std</th>\n",
       "      <td>3.847528</td>\n",
       "      <td>32.108439</td>\n",
       "    </tr>\n",
       "    <tr>\n",
       "      <th>min</th>\n",
       "      <td>54.263133</td>\n",
       "      <td>64.700127</td>\n",
       "    </tr>\n",
       "    <tr>\n",
       "      <th>25%</th>\n",
       "      <td>63.505620</td>\n",
       "      <td>135.818051</td>\n",
       "    </tr>\n",
       "    <tr>\n",
       "      <th>50%</th>\n",
       "      <td>66.318070</td>\n",
       "      <td>161.212928</td>\n",
       "    </tr>\n",
       "    <tr>\n",
       "      <th>75%</th>\n",
       "      <td>69.174262</td>\n",
       "      <td>187.169525</td>\n",
       "    </tr>\n",
       "    <tr>\n",
       "      <th>max</th>\n",
       "      <td>78.998742</td>\n",
       "      <td>269.989699</td>\n",
       "    </tr>\n",
       "  </tbody>\n",
       "</table>\n",
       "</div>"
      ],
      "text/plain": [
       "             Height        Weight\n",
       "count  10000.000000  10000.000000\n",
       "mean      66.367560    161.440357\n",
       "std        3.847528     32.108439\n",
       "min       54.263133     64.700127\n",
       "25%       63.505620    135.818051\n",
       "50%       66.318070    161.212928\n",
       "75%       69.174262    187.169525\n",
       "max       78.998742    269.989699"
      ]
     },
     "execution_count": 8,
     "metadata": {},
     "output_type": "execute_result"
    }
   ],
   "source": [
    "df.describe()"
   ]
  },
  {
   "cell_type": "markdown",
   "metadata": {},
   "source": [
    "The fact that the non-numerical variable is excluded means we need another way to describe it. A useful function for categorical variables, such as gender, would be to use `name.variable.value_counts()`. "
   ]
  },
  {
   "cell_type": "code",
   "execution_count": 27,
   "metadata": {},
   "outputs": [
    {
     "data": {
      "text/plain": [
       "Female    5000\n",
       "Male      5000\n",
       "Name: Gender, dtype: int64"
      ]
     },
     "execution_count": 27,
     "metadata": {},
     "output_type": "execute_result"
    }
   ],
   "source": [
    "df.Gender.value_counts()"
   ]
  },
  {
   "cell_type": "markdown",
   "metadata": {},
   "source": [
    "The `value_counts` function is a useful ways to see how many of each value we have for the specified variable. For the case of gender, we have an even distribution between 'Female' and 'Male'. Not surprising, although we may see more 'Non-binary', 'Third gender', or 'Other' in the future. \n",
    "\n",
    "***\n",
    "Extra credit work\n",
    "***\n",
    "\n",
    "Why don't you try running the `value_counts()` function out on one of the other variables,like 'Height' or 'Weight'? You can do that in the code cell below, but you will need to edit the code before running it to get it to run correctly. "
   ]
  },
  {
   "cell_type": "code",
   "execution_count": 28,
   "metadata": {},
   "outputs": [
    {
     "data": {
      "text/plain": [
       "198.728523    1\n",
       "174.265163    1\n",
       "163.832917    1\n",
       "109.946335    1\n",
       "147.263687    1\n",
       "             ..\n",
       "201.625725    1\n",
       "217.368488    1\n",
       "118.746654    1\n",
       "144.089917    1\n",
       "129.375502    1\n",
       "Name: Weight, Length: 10000, dtype: int64"
      ]
     },
     "execution_count": 28,
     "metadata": {},
     "output_type": "execute_result"
    }
   ],
   "source": [
    "df.variable_name.value_counts()               # Try counting the values of other fields. Are they all unique?\n",
    "\n",
    "# NOTE! This cell will produce an error if you try to run it as it is now. What do you need to do to make it run correctly?"
   ]
  },
  {
   "cell_type": "markdown",
   "metadata": {},
   "source": [
    " You may find that trying the `value_count` function on 'Height' or 'Weight' was not as useful as it was for 'Gender'.\n",
    " \n",
    " This is because, as a field with potentially infitine values, none are repeated. It is useful to remember that the type and expected values of a column are useful when thinking about what descriptives you might want to run. "
   ]
  },
  {
   "cell_type": "markdown",
   "metadata": {},
   "source": [
    "***\n",
    "## Visualizations\n",
    "\n",
    "Descriptive statistics are super useful, but sometimes you just want to *look at the data* to get a better understanding. \n",
    "That is where visualizations come in!\n",
    "\n",
    "A classic way to visualise a relationship between two continuous variables is to get a scatterplot. "
   ]
  },
  {
   "cell_type": "code",
   "execution_count": 10,
   "metadata": {},
   "outputs": [
    {
     "data": {
      "text/plain": [
       "<AxesSubplot:xlabel='Height', ylabel='Weight'>"
      ]
     },
     "execution_count": 10,
     "metadata": {},
     "output_type": "execute_result"
    },
    {
     "data": {
      "image/png": "[encoded data removed]",
      "text/plain": [
       "<Figure size 432x288 with 1 Axes>"
      ]
     },
     "metadata": {
      "needs_background": "light"
     },
     "output_type": "display_data"
    }
   ],
   "source": [
    "df.plot.scatter(x = 'Height', y = 'Weight')         # a basic scatter plot of height and weight using matplotlib"
   ]
  },
  {
   "cell_type": "markdown",
   "metadata": {},
   "source": [
    "However, we have **3** variables, not just two, so lets modify that scatterplot to colour each plotted point by 'Gender'. "
   ]
  },
  {
   "cell_type": "code",
   "execution_count": 11,
   "metadata": {},
   "outputs": [
    {
     "data": {
      "text/plain": [
       "<matplotlib.collections.PathCollection at 0x248a5d6c430>"
      ]
     },
     "execution_count": 11,
     "metadata": {},
     "output_type": "execute_result"
    },
    {
     "data": {
      "image/png": "[encoded data removed]",
      "text/plain": [
       "<Figure size 432x288 with 1 Axes>"
      ]
     },
     "metadata": {
      "needs_background": "light"
     },
     "output_type": "display_data"
    }
   ],
   "source": [
    "plt.scatter(df.Height,df.Weight, c = pd.Categorical(df.Gender).codes) # a scatter plot of height X weight using matplotlib\n",
    "                                                                      # this time colour coded by gender"
   ]
  },
  {
   "cell_type": "markdown",
   "metadata": {},
   "source": [
    "This is great for preliminary \"getting a sense of what is in the data\" sort of work, but there are lots of things we could add that would make the plot better if we were to publish it somewhere. For example, we could:\n",
    "* change the size if we wanted it to be clearer\n",
    "* change the colours to be colour-blind friendly\n",
    "* add titles and axis labels\n",
    "* add one or more lines of best fit to clarify the trends in the data. \n",
    "\n",
    "These are all things you can add to plots to be fancy. I won't show you how here, I just wanted you to know it can be done.\n",
    "\n",
    "The visualisations show:\n",
    "* clear correlation between height and weight\n",
    "* clear differences between the two genders\n",
    "\n",
    "There may even be different correlations between height and weight for each gender? It is hard to say from these preliminary visualisations, but these kind of patterns have some implications for our synthetic data. So let's look at the distributions!"
   ]
  },
  {
   "cell_type": "markdown",
   "metadata": {},
   "source": [
    "***\n",
    "Extra credit work\n",
    "***\n",
    "The visualisations above use `matplotlib`, which is a very common package. Another package that we imported is `seaborn` and when we imported this package we gave it the nickname of `sns`. You can sea this nickname in the next two code cells because we type `sns.scatterplot` to run the scatterplot function in `sns`. \n",
    "\n",
    "You don't necessarily need to know how to make scatterplots (or any kind of plot) in more than one package, but it may be useful to see examples. In this way, you can get used to the way each one works, how the arguments must be listed, what else is printed along with the visualisation, etc. \n",
    "\n",
    "For example, in the cell below to create the basic scatterplot in `sns`, the data to use is specified only by including `df` as the first argument (the first thing inside the `( )` after the function name). \n",
    "The following cell creates the colour-coded-by-gender scatterplot in `sns` and in this one you see the first argument is written as `(data=df`. \n",
    "\n",
    "If you want to understand this better, try reorganising the arguments (for example, so that `X=` comes first). Does it work? Does it matter if you use `df` or `data=df` when you reorganise the arguments? "
   ]
  },
  {
   "cell_type": "code",
   "execution_count": 14,
   "metadata": {},
   "outputs": [
    {
     "data": {
      "text/plain": [
       "<AxesSubplot:xlabel='Height', ylabel='Weight'>"
      ]
     },
     "execution_count": 14,
     "metadata": {},
     "output_type": "execute_result"
    },
    {
     "data": {
      "image/png": "[encoded data removed]",
      "text/plain": [
       "<Figure size 432x288 with 1 Axes>"
      ]
     },
     "metadata": {
      "needs_background": "light"
     },
     "output_type": "display_data"
    }
   ],
   "source": [
    "sns.scatterplot(df, x=\"Height\", y=\"Weight\")"
   ]
  },
  {
   "cell_type": "code",
   "execution_count": 11,
   "metadata": {},
   "outputs": [
    {
     "data": {
      "text/plain": [
       "<AxesSubplot:xlabel='Height', ylabel='Weight'>"
      ]
     },
     "execution_count": 11,
     "metadata": {},
     "output_type": "execute_result"
    },
    {
     "data": {
      "image/png": "[encoded data removed]",
      "text/plain": [
       "<Figure size 432x288 with 1 Axes>"
      ]
     },
     "metadata": {
      "needs_background": "light"
     },
     "output_type": "display_data"
    }
   ],
   "source": [
    "sns.scatterplot(data=df, x=\"Height\", y=\"Weight\", hue=\"Gender\")"
   ]
  },
  {
   "cell_type": "markdown",
   "metadata": {},
   "source": [
    "===========================================================================================================================\n",
    "## Distributions\n",
    "\n",
    "The correlations we saw in the scatterplots suggest we ought to look at distributions for each variable. We don't need to see the distributions for Gender, since we know there are exactly 500 of each. \n",
    "\n",
    "Let's start with looking at Height, using 30 bins. "
   ]
  },
  {
   "cell_type": "code",
   "execution_count": 39,
   "metadata": {},
   "outputs": [
    {
     "data": {
      "text/plain": [
       "(array([  3.,   6.,  14.,  40.,  59., 119., 186., 321., 419., 556., 632.,\n",
       "        718., 720., 738., 738., 753., 739., 675., 640., 513., 459., 387.,\n",
       "        219., 159.,  95.,  44.,  24.,  16.,   4.,   4.]),\n",
       " array([54.26313333, 55.08765363, 55.91217393, 56.73669423, 57.56121453,\n",
       "        58.38573483, 59.21025513, 60.03477543, 60.85929573, 61.68381603,\n",
       "        62.50833633, 63.33285663, 64.15737693, 64.98189723, 65.80641754,\n",
       "        66.63093784, 67.45545814, 68.27997844, 69.10449874, 69.92901904,\n",
       "        70.75353934, 71.57805964, 72.40257994, 73.22710024, 74.05162054,\n",
       "        74.87614084, 75.70066114, 76.52518144, 77.34970174, 78.17422205,\n",
       "        78.99874235]),\n",
       " <BarContainer object of 30 artists>)"
      ]
     },
     "execution_count": 39,
     "metadata": {},
     "output_type": "execute_result"
    },
    {
     "data": {
      "image/png": "[encoded data removed]",
      "text/plain": [
       "<Figure size 432x288 with 1 Axes>"
      ]
     },
     "metadata": {
      "needs_background": "light"
     },
     "output_type": "display_data"
    }
   ],
   "source": [
    "plt.hist(df.Height, bins=30)\n"
   ]
  },
  {
   "cell_type": "markdown",
   "metadata": {},
   "source": [
    "This is probably about what you might expect. Not so many super short or super tall people with most people in the middle and a clear \"bell-shaped\" distribution. \n",
    "\n",
    "But does the number of bins matter? Have a play around here to see what other height histograms look like. "
   ]
  },
  {
   "cell_type": "code",
   "execution_count": 41,
   "metadata": {},
   "outputs": [
    {
     "ename": "NameError",
     "evalue": "name 'X' is not defined",
     "output_type": "error",
     "traceback": [
      "\u001b[1;31m---------------------------------------------------------------------------\u001b[0m",
      "\u001b[1;31mNameError\u001b[0m                                 Traceback (most recent call last)",
      "\u001b[1;32m<ipython-input-41-58a89ce13a46>\u001b[0m in \u001b[0;36m<module>\u001b[1;34m\u001b[0m\n\u001b[1;32m----> 1\u001b[1;33m \u001b[0mplt\u001b[0m\u001b[1;33m.\u001b[0m\u001b[0mhist\u001b[0m\u001b[1;33m(\u001b[0m\u001b[0mdf\u001b[0m\u001b[1;33m.\u001b[0m\u001b[0mHeight\u001b[0m\u001b[1;33m,\u001b[0m \u001b[0mbins\u001b[0m\u001b[1;33m=\u001b[0m\u001b[0mX\u001b[0m\u001b[1;33m)\u001b[0m\u001b[1;33m\u001b[0m\u001b[1;33m\u001b[0m\u001b[0m\n\u001b[0m",
      "\u001b[1;31mNameError\u001b[0m: name 'X' is not defined"
     ]
    }
   ],
   "source": [
    "plt.hist(df.Height, bins=X)\n"
   ]
  },
  {
   "cell_type": "markdown",
   "metadata": {},
   "source": [
    "Now, what about weight? Let's do a basic histogram with 30 bins. "
   ]
  },
  {
   "cell_type": "code",
   "execution_count": 42,
   "metadata": {},
   "outputs": [
    {
     "data": {
      "text/plain": [
       "(array([  3.,   3.,   9.,  35.,  83., 160., 279., 409., 553., 682., 763.,\n",
       "        730., 641., 591., 617., 610., 693., 713., 665., 599., 483., 310.,\n",
       "        182., 106.,  43.,  22.,   6.,   9.,   0.,   1.]),\n",
       " array([ 64.70012671,  71.54311244,  78.38609817,  85.22908389,\n",
       "         92.07206962,  98.91505534, 105.75804107, 112.6010268 ,\n",
       "        119.44401252, 126.28699825, 133.12998398, 139.9729697 ,\n",
       "        146.81595543, 153.65894116, 160.50192688, 167.34491261,\n",
       "        174.18789834, 181.03088406, 187.87386979, 194.71685551,\n",
       "        201.55984124, 208.40282697, 215.24581269, 222.08879842,\n",
       "        228.93178415, 235.77476987, 242.6177556 , 249.46074133,\n",
       "        256.30372705, 263.14671278, 269.98969851]),\n",
       " <BarContainer object of 30 artists>)"
      ]
     },
     "execution_count": 42,
     "metadata": {},
     "output_type": "execute_result"
    },
    {
     "data": {
      "image/png": "[encoded data removed]",
      "text/plain": [
       "<Figure size 432x288 with 1 Axes>"
      ]
     },
     "metadata": {
      "needs_background": "light"
     },
     "output_type": "display_data"
    }
   ],
   "source": [
    "plt.hist(df.Weight, bins=30)\n"
   ]
  },
  {
   "cell_type": "markdown",
   "metadata": {},
   "source": [
    "Uh oh. This is no longer so clear cut. Instead, it looks like weight is creating a bimodal distribution. Almost certainly, this relates to the differences between males and females. Let's dive in deeper. "
   ]
  },
  {
   "cell_type": "code",
   "execution_count": 61,
   "metadata": {},
   "outputs": [
    {
     "data": {
      "image/png": "[encoded data removed]",
      "text/plain": [
       "<Figure size 432x288 with 1 Axes>"
      ]
     },
     "metadata": {
      "needs_background": "light"
     },
     "output_type": "display_data"
    }
   ],
   "source": [
    "df_males = df[df['Gender']=='Male']        # This creates a subset of the data with only the rows where gender = male\n",
    "df_females = df[df['Gender']=='Female']    # And another with only the rows where gender = female\n",
    "\n",
    "\n",
    "plt.hist(df_males['Height'],               # Creating a historgam of the male-only dataset\n",
    "         alpha=0.5,                        # that will appear at 50% transaparency, \n",
    "         label='Male')                     # and that has a 'Male' label in the legend.\n",
    "plt.hist(df_females['Height'],             # Repeat for the female-only dataset.\n",
    "         alpha=0.5,                        \n",
    "         label='Female')\n",
    "plt.legend(loc='upper right')                    # This tells matplotlib where to put the legend.\n",
    "plt.title('Male and female height histograms')   # And gives a title for good measure.\n",
    "plt.show()                                       # Finally, the command to show the plot. \n",
    "                                                 # Previously, this extra command was not needed. \n",
    "                                                 # But all the extra layers of date make this plot more complicated. "
   ]
  },
  {
   "cell_type": "markdown",
   "metadata": {},
   "source": [
    "Useful! We can clearly see that, despite our earlier bell-shaped histogram for height, gender does matter and we actually have a bimodal distribution, with each being roughly bell-shaped. \n",
    "\n",
    "What about weight? We already have subsets of male and female-only data, so lets just plot those onto a histogram of weight. "
   ]
  },
  {
   "cell_type": "code",
   "execution_count": 62,
   "metadata": {},
   "outputs": [
    {
     "data": {
      "image/png": "[encoded data removed]",
      "text/plain": [
       "<Figure size 432x288 with 1 Axes>"
      ]
     },
     "metadata": {
      "needs_background": "light"
     },
     "output_type": "display_data"
    }
   ],
   "source": [
    "plt.hist(df_males['Weight'],               # Creating a historgam of the male-only dataset\n",
    "         alpha=0.5,                        # that will appear at 50% transaparency, \n",
    "         label='Male')                     # and that has a 'Male' label in the legend.\n",
    "plt.hist(df_females['Weight'],             # Repeat for the female-only dataset.\n",
    "         alpha=0.5,                        \n",
    "         label='Female')\n",
    "plt.legend(loc='upper right')                    # This tells matplotlib where to put the legend.\n",
    "plt.title('Male and female weight histograms')   # And gives a title for good measure.\n",
    "plt.show()                                       # Finally, the command to show the plot. \n",
    "                                                 # Previously, this extra command was not needed. \n",
    "                                                 # But all the extra layers of date make this plot more complicated. "
   ]
  },
  {
   "cell_type": "markdown",
   "metadata": {},
   "source": [
    "Again, it is clear that weight is roughly bell-shaped, but clearly bimodal by gender. \n",
    "\n",
    "But \"bell-shaped\" is not really specific, is it? Let's see what distribution is the best fit for our data. For this, we use the `fitter` package that we installed earlier. Let's start by getting a list of the 10 most common distributions. \n",
    "              "
   ]
  },
  {
   "cell_type": "code",
   "execution_count": 63,
   "metadata": {},
   "outputs": [
    {
     "data": {
      "text/plain": [
       "['cauchy',\n",
       " 'chi2',\n",
       " 'expon',\n",
       " 'exponpow',\n",
       " 'gamma',\n",
       " 'lognorm',\n",
       " 'norm',\n",
       " 'powerlaw',\n",
       " 'rayleigh',\n",
       " 'uniform']"
      ]
     },
     "execution_count": 63,
     "metadata": {},
     "output_type": "execute_result"
    }
   ],
   "source": [
    "get_common_distributions()"
   ]
  },
  {
   "cell_type": "markdown",
   "metadata": {},
   "source": [
    "Let's compare the males height distribution to these common distributions to see which is the closest match. \n",
    "\n",
    "First, for each distribution of interest (male height, male weight, female height, and female weight) we create a `Fitter` object that takes two variables - the data to fit and the distributions against which that data should be fit. \n",
    "\n",
    "For the ease of working with these four `Fitter` variables, I popped them all into a list. "
   ]
  },
  {
   "cell_type": "code",
   "execution_count": 98,
   "metadata": {},
   "outputs": [],
   "source": [
    "f_males_height = Fitter(df_males.Height, distributions= get_common_distributions())\n",
    "f_males_weight = Fitter(df_males.Weight, distributions= get_common_distributions())\n",
    "f_females_height = Fitter(df_males.Height, distributions= get_common_distributions())\n",
    "f_females_weight = Fitter(df_males.Weight, distributions= get_common_distributions())\n",
    "\n",
    "distribution_list = [f_males_height, f_males_weight, f_females_height, f_females_weight]"
   ]
  },
  {
   "cell_type": "markdown",
   "metadata": {},
   "source": [
    "Next, I create an empty list called `best_fit_distribution` and then run a `for` loop on each `Fitter` item in my distribution list and\n",
    "* identifies the fits listed within that `Fitter` object, \n",
    "* finds the best of those fits (according to the least sum of squares method - other methods are available) \n",
    "* and appends the best fit identified to the previously created empty list. \n",
    "\n",
    "Then I print the list. "
   ]
  },
  {
   "cell_type": "code",
   "execution_count": 116,
   "metadata": {},
   "outputs": [
    {
     "name": "stderr",
     "output_type": "stream",
     "text": [
      "Fitting 10 distributions: 100%|████████████████████████████████████████████████████████| 10/10 [00:01<00:00,  8.95it/s]\n",
      "Fitting 10 distributions: 100%|████████████████████████████████████████████████████████| 10/10 [00:01<00:00,  8.67it/s]\n",
      "Fitting 10 distributions: 100%|████████████████████████████████████████████████████████| 10/10 [00:01<00:00,  9.27it/s]\n",
      "Fitting 10 distributions: 100%|████████████████████████████████████████████████████████| 10/10 [00:01<00:00,  9.84it/s]\n"
     ]
    },
    {
     "data": {
      "text/plain": [
       "[{'norm': {'loc': 69.02634590621741, 'scale': 2.863075878119538}},\n",
       " {'norm': {'loc': 187.0206206581932, 'scale': 19.779176302396458}},\n",
       " {'norm': {'loc': 69.02634590621741, 'scale': 2.863075878119538}},\n",
       " {'norm': {'loc': 187.0206206581932, 'scale': 19.779176302396458}}]"
      ]
     },
     "execution_count": 116,
     "metadata": {},
     "output_type": "execute_result"
    }
   ],
   "source": [
    "best_fit_distribution = []\n",
    "\n",
    "for distribution in distribution_list:\n",
    "    distribution.fit()\n",
    "    best = distribution.get_best(method = 'sumsquare_error')\n",
    "    best_fit_distribution.append(best)\n",
    "\n",
    "best_fit_distribution"
   ]
  },
  {
   "cell_type": "markdown",
   "metadata": {},
   "source": [
    "This shows that for all the variables, the best fit is a 'normal' distribution. That's great! We can use that!"
   ]
  },
  {
   "cell_type": "markdown",
   "metadata": {},
   "source": [
    "=========================================================================================================================\n",
    "# Creating synthetic data \n",
    "\n",
    "Now that we have reasonable idea of what our data *looks like* we can get started making synthetic versions of it. \n",
    "***\n",
    "## Low fidelity options\n",
    "\n",
    "Remember that **low fidelity** data does not look very much like the real data. Next, we create 3 low-fidelity synthetic versions of our data. \n",
    "* The lowest fidelity version is essentially random numbers for all three variables. \n",
    "* The lowish fidelity version is random integers within loosely approximated bounds as the minimum and maximum values are set. \n",
    "* The low fidelity version is random integers for the numerical variables within minimum an d maximum values determined by the min and max from the real data. Further, `Gender` is composed of 'Male' and 'Female' (instead of numbers) with an even 50-50 distribution. \n",
    "\n",
    "***\n",
    "\n",
    "Let's start with the lowest fidelity version. To do this, we:\n",
    "* create a `pandas` data frame (when we imported pandas,  we assigned it the nickname `pd` to make running `pandas` commands a bit faster) and assign it the name `lowest_fidelity`, \n",
    "* Within that data frame, we create 3 random `numpy` arrays (`numpy` is also imported with the nickname `np` to make it faster). Each of these arrays is 100 digits long, and\n",
    "* we assign the names 'Gender', 'Height' and 'Weight' to the three columns made out of random number arrays. \n",
    "\n",
    "After creating it, we inspect the new data frame by calling its name. "
   ]
  },
  {
   "cell_type": "code",
   "execution_count": 15,
   "metadata": {},
   "outputs": [
    {
     "data": {
      "text/html": [
       "<div>\n",
       "<style scoped>\n",
       "    .dataframe tbody tr th:only-of-type {\n",
       "        vertical-align: middle;\n",
       "    }\n",
       "\n",
       "    .dataframe tbody tr th {\n",
       "        vertical-align: top;\n",
       "    }\n",
       "\n",
       "    .dataframe thead th {\n",
       "        text-align: right;\n",
       "    }\n",
       "</style>\n",
       "<table border=\"1\" class=\"dataframe\">\n",
       "  <thead>\n",
       "    <tr style=\"text-align: right;\">\n",
       "      <th></th>\n",
       "      <th>Gender</th>\n",
       "      <th>Height</th>\n",
       "      <th>Weight</th>\n",
       "    </tr>\n",
       "  </thead>\n",
       "  <tbody>\n",
       "    <tr>\n",
       "      <th>0</th>\n",
       "      <td>-3.915701</td>\n",
       "      <td>1.030007</td>\n",
       "      <td>0.321188</td>\n",
       "    </tr>\n",
       "    <tr>\n",
       "      <th>1</th>\n",
       "      <td>1.045780</td>\n",
       "      <td>0.294587</td>\n",
       "      <td>0.486285</td>\n",
       "    </tr>\n",
       "    <tr>\n",
       "      <th>2</th>\n",
       "      <td>-0.155243</td>\n",
       "      <td>-0.800495</td>\n",
       "      <td>-0.043220</td>\n",
       "    </tr>\n",
       "    <tr>\n",
       "      <th>3</th>\n",
       "      <td>1.868668</td>\n",
       "      <td>0.253588</td>\n",
       "      <td>0.850514</td>\n",
       "    </tr>\n",
       "    <tr>\n",
       "      <th>4</th>\n",
       "      <td>0.496544</td>\n",
       "      <td>0.596844</td>\n",
       "      <td>-0.036507</td>\n",
       "    </tr>\n",
       "    <tr>\n",
       "      <th>...</th>\n",
       "      <td>...</td>\n",
       "      <td>...</td>\n",
       "      <td>...</td>\n",
       "    </tr>\n",
       "    <tr>\n",
       "      <th>95</th>\n",
       "      <td>-0.346018</td>\n",
       "      <td>0.899115</td>\n",
       "      <td>-0.230397</td>\n",
       "    </tr>\n",
       "    <tr>\n",
       "      <th>96</th>\n",
       "      <td>0.424859</td>\n",
       "      <td>2.329072</td>\n",
       "      <td>0.022952</td>\n",
       "    </tr>\n",
       "    <tr>\n",
       "      <th>97</th>\n",
       "      <td>-0.080758</td>\n",
       "      <td>-0.673263</td>\n",
       "      <td>-0.862157</td>\n",
       "    </tr>\n",
       "    <tr>\n",
       "      <th>98</th>\n",
       "      <td>0.343214</td>\n",
       "      <td>0.641488</td>\n",
       "      <td>0.619678</td>\n",
       "    </tr>\n",
       "    <tr>\n",
       "      <th>99</th>\n",
       "      <td>-0.232699</td>\n",
       "      <td>1.004098</td>\n",
       "      <td>1.249398</td>\n",
       "    </tr>\n",
       "  </tbody>\n",
       "</table>\n",
       "<p>100 rows × 3 columns</p>\n",
       "</div>"
      ],
      "text/plain": [
       "      Gender    Height    Weight\n",
       "0  -3.915701  1.030007  0.321188\n",
       "1   1.045780  0.294587  0.486285\n",
       "2  -0.155243 -0.800495 -0.043220\n",
       "3   1.868668  0.253588  0.850514\n",
       "4   0.496544  0.596844 -0.036507\n",
       "..       ...       ...       ...\n",
       "95 -0.346018  0.899115 -0.230397\n",
       "96  0.424859  2.329072  0.022952\n",
       "97 -0.080758 -0.673263 -0.862157\n",
       "98  0.343214  0.641488  0.619678\n",
       "99 -0.232699  1.004098  1.249398\n",
       "\n",
       "[100 rows x 3 columns]"
      ]
     },
     "execution_count": 15,
     "metadata": {},
     "output_type": "execute_result"
    }
   ],
   "source": [
    "lowest_fidelity = pd.DataFrame(np.random.randn(100, 3), \n",
    "                               columns=('Gender','Height', 'Weight'))\n",
    "lowest_fidelity"
   ]
  },
  {
   "cell_type": "markdown",
   "metadata": {},
   "source": [
    "Having inspected the data frame, we can get a quick view of it by creating a scatterplot using the same basic code we used before, but this time making sure to refer to the newly created `lowest_fidelity` data frame instead of the real data that we had imported. \n",
    "\n",
    "We can see that it is clearly a lot of nonsense. A negative weight or height is impossible. Further, there are a lot of digits after the decimal point which seems like unecessary precision for this kind of task. "
   ]
  },
  {
   "cell_type": "code",
   "execution_count": 13,
   "metadata": {},
   "outputs": [
    {
     "data": {
      "text/plain": [
       "<matplotlib.collections.PathCollection at 0x248a5dce7f0>"
      ]
     },
     "execution_count": 13,
     "metadata": {},
     "output_type": "execute_result"
    },
    {
     "data": {
      "image/png": "[encoded data removed]",
      "text/plain": [
       "<Figure size 432x288 with 1 Axes>"
      ]
     },
     "metadata": {
      "needs_background": "light"
     },
     "output_type": "display_data"
    }
   ],
   "source": [
    "plt.scatter(lowest_fidelity.Height,lowest_fidelity.Weight, c = pd.Categorical(lowest_fidelity.Gender).codes)"
   ]
  },
  {
   "cell_type": "markdown",
   "metadata": {},
   "source": [
    "***\n",
    "Extra credit work\n",
    "***\n",
    "\n",
    "Try modifying and running the code cell below to create another data frame from random numbers. You will need to edit the code below to make it run correctly. "
   ]
  },
  {
   "cell_type": "code",
   "execution_count": null,
   "metadata": {},
   "outputs": [],
   "source": [
    "extra_credit_very_random = pd.DataFrame(np.random.randn(NumberOfRows, NumberOfColumns), \n",
    "                                        columns=('ColumnName1','ColumnName2', 'ColumnNameN))\n",
    "extra_credit_very_random\n",
    "                                                 \n",
    "                                # NOTE! This cell will produce an error if you try to run it as it was originally written. \n",
    "                                # What do you need to change to make it run correctly?"
   ]
  },
  {
   "cell_type": "markdown",
   "metadata": {},
   "source": [
    "***\n",
    "Now, let's move on to a low-but-not-quite-as-low fidelity version. To do this, we:\n",
    "* create another `pandas` data frame (named `lowish_fidelity`) in a very similar way, \n",
    "* still with 3 random `numpy` arrays that are 100 digits long but this time with a range of 0 to 100 specified), and\n",
    "* still assigned the column names 'Gender', 'Height' and 'Weight'. \n",
    "\n",
    "After creating it, we inspect the new data frame by calling its name. "
   ]
  },
  {
   "cell_type": "code",
   "execution_count": 16,
   "metadata": {
    "scrolled": true
   },
   "outputs": [
    {
     "data": {
      "text/html": [
       "<div>\n",
       "<style scoped>\n",
       "    .dataframe tbody tr th:only-of-type {\n",
       "        vertical-align: middle;\n",
       "    }\n",
       "\n",
       "    .dataframe tbody tr th {\n",
       "        vertical-align: top;\n",
       "    }\n",
       "\n",
       "    .dataframe thead th {\n",
       "        text-align: right;\n",
       "    }\n",
       "</style>\n",
       "<table border=\"1\" class=\"dataframe\">\n",
       "  <thead>\n",
       "    <tr style=\"text-align: right;\">\n",
       "      <th></th>\n",
       "      <th>Gender</th>\n",
       "      <th>Height</th>\n",
       "      <th>Weight</th>\n",
       "    </tr>\n",
       "  </thead>\n",
       "  <tbody>\n",
       "    <tr>\n",
       "      <th>0</th>\n",
       "      <td>45</td>\n",
       "      <td>67</td>\n",
       "      <td>68</td>\n",
       "    </tr>\n",
       "    <tr>\n",
       "      <th>1</th>\n",
       "      <td>79</td>\n",
       "      <td>82</td>\n",
       "      <td>55</td>\n",
       "    </tr>\n",
       "    <tr>\n",
       "      <th>2</th>\n",
       "      <td>37</td>\n",
       "      <td>87</td>\n",
       "      <td>7</td>\n",
       "    </tr>\n",
       "    <tr>\n",
       "      <th>3</th>\n",
       "      <td>77</td>\n",
       "      <td>47</td>\n",
       "      <td>89</td>\n",
       "    </tr>\n",
       "    <tr>\n",
       "      <th>4</th>\n",
       "      <td>41</td>\n",
       "      <td>16</td>\n",
       "      <td>35</td>\n",
       "    </tr>\n",
       "    <tr>\n",
       "      <th>...</th>\n",
       "      <td>...</td>\n",
       "      <td>...</td>\n",
       "      <td>...</td>\n",
       "    </tr>\n",
       "    <tr>\n",
       "      <th>95</th>\n",
       "      <td>51</td>\n",
       "      <td>98</td>\n",
       "      <td>31</td>\n",
       "    </tr>\n",
       "    <tr>\n",
       "      <th>96</th>\n",
       "      <td>18</td>\n",
       "      <td>7</td>\n",
       "      <td>41</td>\n",
       "    </tr>\n",
       "    <tr>\n",
       "      <th>97</th>\n",
       "      <td>27</td>\n",
       "      <td>11</td>\n",
       "      <td>50</td>\n",
       "    </tr>\n",
       "    <tr>\n",
       "      <th>98</th>\n",
       "      <td>29</td>\n",
       "      <td>87</td>\n",
       "      <td>42</td>\n",
       "    </tr>\n",
       "    <tr>\n",
       "      <th>99</th>\n",
       "      <td>82</td>\n",
       "      <td>48</td>\n",
       "      <td>12</td>\n",
       "    </tr>\n",
       "  </tbody>\n",
       "</table>\n",
       "<p>100 rows × 3 columns</p>\n",
       "</div>"
      ],
      "text/plain": [
       "    Gender  Height  Weight\n",
       "0       45      67      68\n",
       "1       79      82      55\n",
       "2       37      87       7\n",
       "3       77      47      89\n",
       "4       41      16      35\n",
       "..     ...     ...     ...\n",
       "95      51      98      31\n",
       "96      18       7      41\n",
       "97      27      11      50\n",
       "98      29      87      42\n",
       "99      82      48      12\n",
       "\n",
       "[100 rows x 3 columns]"
      ]
     },
     "execution_count": 16,
     "metadata": {},
     "output_type": "execute_result"
    }
   ],
   "source": [
    "lowish_fidelity = pd.DataFrame(np.random.randint(0,100,size=(100, 3)), \n",
    "                               columns=('Gender','Height', 'Weight'))\n",
    "lowish_fidelity"
   ]
  },
  {
   "cell_type": "markdown",
   "metadata": {},
   "source": [
    "If you look closely at the code for the `lowest_fidelity` and `lowish_fidelity` data frames, you see the only difference is in the `numpy` arrays. \n",
    "\n",
    "The first data frame has `np.random.randn(100, 3)` while the second has `np.random.randint(0,100,size=(100, 3)`. \n",
    "\n",
    "The key differences areA\n",
    "* the first has `randn` in front of the parentheses while the second has `randint`. This is what switches from numbers (with so many precise digits after the decimal point) to integers (with no decimal points). \n",
    "* the second has `0,100` at the begining of the parentheses. This is what sets the range from which the random integers should be drawn. \n",
    "\n",
    "Again, let's create a quick scatterplot to see how it looks. \n",
    "\n",
    "There are still problems (like how gender is a random integer between 0 and 100) but at least none of the values are negative!"
   ]
  },
  {
   "cell_type": "code",
   "execution_count": 15,
   "metadata": {},
   "outputs": [
    {
     "data": {
      "text/plain": [
       "<matplotlib.collections.PathCollection at 0x248a5e345e0>"
      ]
     },
     "execution_count": 15,
     "metadata": {},
     "output_type": "execute_result"
    },
    {
     "data": {
      "image/png": "[encoded data removed]",
      "text/plain": [
       "<Figure size 432x288 with 1 Axes>"
      ]
     },
     "metadata": {
      "needs_background": "light"
     },
     "output_type": "display_data"
    }
   ],
   "source": [
    "plt.scatter(lowish_fidelity.Height,lowish_fidelity.Weight, c = pd.Categorical(lowish_fidelity.Gender).codes)"
   ]
  },
  {
   "cell_type": "markdown",
   "metadata": {},
   "source": [
    "***\n",
    "Extra credit work\n",
    "***\n",
    "\n",
    "Try modifying and running the code cell below to create another data frame from random integers, but this time set the ranges in a place of your choosing. . You will need to edit the code below to make it run correctly. "
   ]
  },
  {
   "cell_type": "code",
   "execution_count": 17,
   "metadata": {
    "scrolled": true
   },
   "outputs": [
    {
     "ename": "NameError",
     "evalue": "name 'MinimumOfYourChoice' is not defined",
     "output_type": "error",
     "traceback": [
      "\u001b[1;31m---------------------------------------------------------------------------\u001b[0m",
      "\u001b[1;31mNameError\u001b[0m                                 Traceback (most recent call last)",
      "\u001b[1;32m<ipython-input-17-13377a878005>\u001b[0m in \u001b[0;36m<module>\u001b[1;34m\u001b[0m\n\u001b[1;32m----> 1\u001b[1;33m Extra_credit_less_random = pd.DataFrame(np.random.randint(MinimumOfYourChoice,MaximumOfYourChoice,size=(100, 3)), \n\u001b[0m\u001b[0;32m      2\u001b[0m                                columns=('Gender','Height', 'Weight'))\n\u001b[0;32m      3\u001b[0m \u001b[0mExtra_credit_less_random\u001b[0m\u001b[1;33m\u001b[0m\u001b[1;33m\u001b[0m\u001b[0m\n\u001b[0;32m      4\u001b[0m \u001b[1;33m\u001b[0m\u001b[0m\n\u001b[0;32m      5\u001b[0m                                 \u001b[1;31m# NOTE! This cell will produce an error if you try to run it as it was originally written.\u001b[0m\u001b[1;33m\u001b[0m\u001b[1;33m\u001b[0m\u001b[1;33m\u001b[0m\u001b[0m\n",
      "\u001b[1;31mNameError\u001b[0m: name 'MinimumOfYourChoice' is not defined"
     ]
    }
   ],
   "source": [
    "Extra_credit_less_random = pd.DataFrame(np.random.randint(MinimumOfYourChoice,MaximumOfYourChoice,size=(100, 3)), \n",
    "                               columns=('Gender','Height', 'Weight'))\n",
    "Extra_credit_less_random\n",
    "\n",
    "                                # NOTE! This cell will produce an error if you try to run it as it was originally written. \n",
    "                                # What do you need to change to make it run correctly?"
   ]
  },
  {
   "cell_type": "markdown",
   "metadata": {},
   "source": [
    "***\n",
    "Now, let's move on to the least-low fidelity version. To do this, we:\n",
    "* create another `pandas` data frame (named `low_fidelity_h_w`), \n",
    "* but now with only two columns of 100 random values for the height and weight, but this time drawing from a uniform distribution and with the min and max set according to the exploration we did earlier, \n",
    "* one column of 50 'Male and 50 'Female', \n",
    "* still assigned the column names 'Gender', 'Height' and 'Weight', but this time assigning the column names as the columns are created to make sure they match the column contents (e.g. the `Height` column is created with the min and max for height rather than weight, etc.). \n",
    "\n",
    "After creating it, we inspect the new data frame by calling its name. \n"
   ]
  },
  {
   "cell_type": "code",
   "execution_count": 16,
   "metadata": {},
   "outputs": [
    {
     "data": {
      "text/html": [
       "<div>\n",
       "<style scoped>\n",
       "    .dataframe tbody tr th:only-of-type {\n",
       "        vertical-align: middle;\n",
       "    }\n",
       "\n",
       "    .dataframe tbody tr th {\n",
       "        vertical-align: top;\n",
       "    }\n",
       "\n",
       "    .dataframe thead th {\n",
       "        text-align: right;\n",
       "    }\n",
       "</style>\n",
       "<table border=\"1\" class=\"dataframe\">\n",
       "  <thead>\n",
       "    <tr style=\"text-align: right;\">\n",
       "      <th></th>\n",
       "      <th>Height</th>\n",
       "      <th>Weight</th>\n",
       "      <th>Gender</th>\n",
       "    </tr>\n",
       "  </thead>\n",
       "  <tbody>\n",
       "    <tr>\n",
       "      <th>0</th>\n",
       "      <td>63.677606</td>\n",
       "      <td>220.555751</td>\n",
       "      <td>Male</td>\n",
       "    </tr>\n",
       "    <tr>\n",
       "      <th>1</th>\n",
       "      <td>55.810528</td>\n",
       "      <td>151.144291</td>\n",
       "      <td>Male</td>\n",
       "    </tr>\n",
       "    <tr>\n",
       "      <th>2</th>\n",
       "      <td>69.211040</td>\n",
       "      <td>234.374709</td>\n",
       "      <td>Male</td>\n",
       "    </tr>\n",
       "    <tr>\n",
       "      <th>3</th>\n",
       "      <td>69.039674</td>\n",
       "      <td>89.917930</td>\n",
       "      <td>Male</td>\n",
       "    </tr>\n",
       "    <tr>\n",
       "      <th>4</th>\n",
       "      <td>58.734824</td>\n",
       "      <td>195.846282</td>\n",
       "      <td>Male</td>\n",
       "    </tr>\n",
       "    <tr>\n",
       "      <th>...</th>\n",
       "      <td>...</td>\n",
       "      <td>...</td>\n",
       "      <td>...</td>\n",
       "    </tr>\n",
       "    <tr>\n",
       "      <th>95</th>\n",
       "      <td>59.806141</td>\n",
       "      <td>87.451764</td>\n",
       "      <td>Female</td>\n",
       "    </tr>\n",
       "    <tr>\n",
       "      <th>96</th>\n",
       "      <td>69.418973</td>\n",
       "      <td>267.112645</td>\n",
       "      <td>Female</td>\n",
       "    </tr>\n",
       "    <tr>\n",
       "      <th>97</th>\n",
       "      <td>59.025123</td>\n",
       "      <td>119.076715</td>\n",
       "      <td>Female</td>\n",
       "    </tr>\n",
       "    <tr>\n",
       "      <th>98</th>\n",
       "      <td>65.395754</td>\n",
       "      <td>98.674512</td>\n",
       "      <td>Female</td>\n",
       "    </tr>\n",
       "    <tr>\n",
       "      <th>99</th>\n",
       "      <td>63.908582</td>\n",
       "      <td>81.625939</td>\n",
       "      <td>Female</td>\n",
       "    </tr>\n",
       "  </tbody>\n",
       "</table>\n",
       "<p>100 rows × 3 columns</p>\n",
       "</div>"
      ],
      "text/plain": [
       "       Height      Weight  Gender\n",
       "0   63.677606  220.555751    Male\n",
       "1   55.810528  151.144291    Male\n",
       "2   69.211040  234.374709    Male\n",
       "3   69.039674   89.917930    Male\n",
       "4   58.734824  195.846282    Male\n",
       "..        ...         ...     ...\n",
       "95  59.806141   87.451764  Female\n",
       "96  69.418973  267.112645  Female\n",
       "97  59.025123  119.076715  Female\n",
       "98  65.395754   98.674512  Female\n",
       "99  63.908582   81.625939  Female\n",
       "\n",
       "[100 rows x 3 columns]"
      ]
     },
     "execution_count": 16,
     "metadata": {},
     "output_type": "execute_result"
    }
   ],
   "source": [
    "low_fidelity_h_w = {\"Height\": np.random.uniform(low=54, high=78, size=(100,)),\n",
    "                    \"Weight\": np.random.uniform(low=64, high=269, size=(100,)),\n",
    "                    \"Gender\": (['Male'] * 50) + (['Female'] * 50)}\n",
    "low_fidelity = pd.DataFrame(low_fidelity_h_w)\n",
    "low_fidelity"
   ]
  },
  {
   "cell_type": "markdown",
   "metadata": {},
   "source": [
    "Again, we have a quick look at a scatterplot for our data. Since it is much less random (due to the sensible min and max values we set and t"
   ]
  },
  {
   "cell_type": "code",
   "execution_count": 17,
   "metadata": {},
   "outputs": [
    {
     "data": {
      "text/plain": [
       "<matplotlib.collections.PathCollection at 0x248a5e96f70>"
      ]
     },
     "execution_count": 17,
     "metadata": {},
     "output_type": "execute_result"
    },
    {
     "data": {
      "image/png": "[encoded data removed]",
      "text/plain": [
       "<Figure size 432x288 with 1 Axes>"
      ]
     },
     "metadata": {
      "needs_background": "light"
     },
     "output_type": "display_data"
    }
   ],
   "source": [
    "plt.scatter(low_fidelity.Height,low_fidelity.Weight, c = pd.Categorical(low_fidelity.Gender).codes)"
   ]
  },
  {
   "cell_type": "markdown",
   "metadata": {},
   "source": [
    "## Mid-fidelity data"
   ]
  },
  {
   "cell_type": "code",
   "execution_count": 18,
   "metadata": {},
   "outputs": [],
   "source": [
    "import numpy as np\n",
    "\n",
    "# Needed for plotting\n",
    "import matplotlib.colors\n",
    "import matplotlib.pyplot as plt\n",
    "from mpl_toolkits.mplot3d import Axes3D\n",
    "\n",
    "# Needed for generating classification, regression and clustering datasets\n",
    "import sklearn.datasets as dt\n",
    "\n",
    "# Needed for generating data from an existing dataset\n",
    "from sklearn.neighbors import KernelDensity\n",
    "from sklearn.model_selection import GridSearchCV"
   ]
  },
  {
   "cell_type": "code",
   "execution_count": 19,
   "metadata": {},
   "outputs": [],
   "source": [
    "# Define the seed so that results can be reproduced\n",
    "seed = 11\n",
    "rand_state = 11\n",
    "\n",
    "# Define the color maps for plots\n",
    "color_map = plt.cm.get_cmap('RdYlBu')\n",
    "color_map_discrete = matplotlib.colors.LinearSegmentedColormap.from_list(\"\", [\"red\",\"cyan\",\"magenta\",\"blue\"])"
   ]
  },
  {
   "cell_type": "code",
   "execution_count": 20,
   "metadata": {},
   "outputs": [],
   "source": [
    "rand = np.random.RandomState(seed)    \n",
    "\n",
    "dist_list = ['uniform','normal','exponential','lognormal','chisquare','beta']\n",
    "param_list = ['-1,1','0,1','1','0,1','2','0.5,0.9']\n",
    "colors_list = ['green','blue','yellow','cyan','magenta','pink']"
   ]
  },
  {
   "cell_type": "code",
   "execution_count": 21,
   "metadata": {},
   "outputs": [
    {
     "data": {
      "image/png": "[encoded data removed]",
      "text/plain": [
       "<Figure size 864x504 with 6 Axes>"
      ]
     },
     "metadata": {
      "needs_background": "light"
     },
     "output_type": "display_data"
    }
   ],
   "source": [
    "fig,ax = plt.subplots(nrows=2, ncols=3,figsize=(12,7))\n",
    "plt_ind_list = np.arange(6)+231\n",
    "\n",
    "for dist, plt_ind, param, colors in zip(dist_list, plt_ind_list, param_list, colors_list):\n",
    "    x = eval('rand.'+dist+'('+param+',5000)') \n",
    "    \n",
    "    plt.subplot(plt_ind)\n",
    "    plt.hist(x,bins=50,color=colors)\n",
    "    plt.title(dist)\n",
    "\n",
    "fig.subplots_adjust(hspace=0.4,wspace=.3) \n",
    "plt.suptitle('Sampling from Various Distributions',fontsize=20)\n",
    "plt.show()"
   ]
  },
  {
   "cell_type": "code",
   "execution_count": null,
   "metadata": {},
   "outputs": [],
   "source": []
  },
  {
   "cell_type": "code",
   "execution_count": null,
   "metadata": {},
   "outputs": [],
   "source": []
  },
  {
   "cell_type": "code",
   "execution_count": null,
   "metadata": {},
   "outputs": [],
   "source": []
  }
 ],
 "metadata": {
  "kernelspec": {
   "display_name": "Python 3",
   "language": "python",
   "name": "python3"
  },
  "language_info": {
   "codemirror_mode": {
    "name": "ipython",
    "version": 3
   },
   "file_extension": ".py",
   "mimetype": "text/x-python",
   "name": "python",
   "nbconvert_exporter": "python",
   "pygments_lexer": "ipython3",
   "version": "3.9.5"
  },
  "toc": {
   "base_numbering": 1,
   "nav_menu": {},
   "number_sections": true,
   "sideBar": true,
   "skip_h1_title": false,
   "title_cell": "Table of Contents",
   "title_sidebar": "Contents",
   "toc_cell": false,
   "toc_position": {},
   "toc_section_display": true,
   "toc_window_display": false
  }
 },
 "nbformat": 4,
 "nbformat_minor": 4
}
