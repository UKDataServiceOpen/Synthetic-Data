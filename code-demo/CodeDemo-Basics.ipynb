{
 "cells": [
  {
   "cell_type": "markdown",
   "metadata": {},
   "source": [
    "========================================================================================================================\n",
    "# Getting started\n",
    "In this section, we will cover:\n",
    "* Importing the packages we need,\n",
    "* Importing the data we will use,\n",
    "* Checking the data in 2 different ways. \n"
   ]
  },
  {
   "cell_type": "markdown",
   "metadata": {},
   "source": [
    "***\n",
    "## Importing packages\n",
    "To start with we need to import any packages beyond base Python we are using.\n",
    "* Numpy - Support large multi-dimension arrays.\n",
    "* Pandas - Pythons data manipulation library, built on top of numpy.\n",
    "* Faker - Generates fake data.\n",
    "* Matplotlib - configure plots, and pandas plotting"
   ]
  },
  {
   "cell_type": "code",
   "execution_count": 63,
   "metadata": {},
   "outputs": [
    {
     "name": "stdout",
     "output_type": "stream",
     "text": [
      "Requirement already satisfied: Faker in c:\\python39\\lib\\site-packages (15.3.3)\n",
      "Requirement already satisfied: python-dateutil>=2.4 in c:\\python39\\lib\\site-packages (from Faker) (2.8.1)\n",
      "Requirement already satisfied: six>=1.5 in c:\\python39\\lib\\site-packages (from python-dateutil>=2.4->Faker) (1.15.0)\n",
      "Requirement already satisfied: seaborn in c:\\python39\\lib\\site-packages (0.12.1)\n",
      "Requirement already satisfied: pandas>=0.25 in c:\\python39\\lib\\site-packages (from seaborn) (1.2.3)\n",
      "Requirement already satisfied: matplotlib!=3.6.1,>=3.1 in c:\\python39\\lib\\site-packages (from seaborn) (3.4.2)\n",
      "Requirement already satisfied: numpy>=1.17 in c:\\python39\\lib\\site-packages (from seaborn) (1.20.1)\n",
      "Requirement already satisfied: python-dateutil>=2.7 in c:\\python39\\lib\\site-packages (from matplotlib!=3.6.1,>=3.1->seaborn) (2.8.1)\n",
      "Requirement already satisfied: pyparsing>=2.2.1 in c:\\python39\\lib\\site-packages (from matplotlib!=3.6.1,>=3.1->seaborn) (2.4.7)\n",
      "Requirement already satisfied: pillow>=6.2.0 in c:\\python39\\lib\\site-packages (from matplotlib!=3.6.1,>=3.1->seaborn) (9.2.0)\n",
      "Requirement already satisfied: kiwisolver>=1.0.1 in c:\\python39\\lib\\site-packages (from matplotlib!=3.6.1,>=3.1->seaborn) (1.3.1)\n",
      "Requirement already satisfied: cycler>=0.10 in c:\\python39\\lib\\site-packages (from matplotlib!=3.6.1,>=3.1->seaborn) (0.10.0)\n",
      "Requirement already satisfied: six in c:\\python39\\lib\\site-packages (from cycler>=0.10->matplotlib!=3.6.1,>=3.1->seaborn) (1.15.0)\n",
      "Requirement already satisfied: pytz>=2017.3 in c:\\python39\\lib\\site-packages (from pandas>=0.25->seaborn) (2020.5)\n",
      "Requirement already satisfied: fitter in c:\\python39\\lib\\site-packages (1.5.2)\n",
      "Requirement already satisfied: click in c:\\python39\\lib\\site-packages (from fitter) (8.0.1)\n",
      "Requirement already satisfied: joblib in c:\\python39\\lib\\site-packages (from fitter) (1.0.1)\n",
      "Requirement already satisfied: matplotlib in c:\\python39\\lib\\site-packages (from fitter) (3.4.2)\n",
      "Requirement already satisfied: numpy in c:\\python39\\lib\\site-packages (from fitter) (1.20.1)\n",
      "Requirement already satisfied: pandas in c:\\python39\\lib\\site-packages (from fitter) (1.2.3)\n",
      "Requirement already satisfied: scipy>=0.18 in c:\\python39\\lib\\site-packages (from fitter) (1.6.3)\n",
      "Requirement already satisfied: tqdm in c:\\python39\\lib\\site-packages (from fitter) (4.61.0)\n",
      "Requirement already satisfied: colorama in c:\\python39\\lib\\site-packages (from click->fitter) (0.4.4)\n",
      "Requirement already satisfied: cycler>=0.10 in c:\\python39\\lib\\site-packages (from matplotlib->fitter) (0.10.0)\n",
      "Requirement already satisfied: pillow>=6.2.0 in c:\\python39\\lib\\site-packages (from matplotlib->fitter) (9.2.0)\n",
      "Requirement already satisfied: pyparsing>=2.2.1 in c:\\python39\\lib\\site-packages (from matplotlib->fitter) (2.4.7)\n",
      "Requirement already satisfied: python-dateutil>=2.7 in c:\\python39\\lib\\site-packages (from matplotlib->fitter) (2.8.1)\n",
      "Requirement already satisfied: kiwisolver>=1.0.1 in c:\\python39\\lib\\site-packages (from matplotlib->fitter) (1.3.1)\n",
      "Requirement already satisfied: six in c:\\python39\\lib\\site-packages (from cycler>=0.10->matplotlib->fitter) (1.15.0)\n",
      "Requirement already satisfied: pytz>=2017.3 in c:\\python39\\lib\\site-packages (from pandas->fitter) (2020.5)\n"
     ]
    }
   ],
   "source": [
    "# Needed to make the output of some cells cleaner and less confusing\n",
    "import warnings\n",
    "warnings.filterwarnings('ignore') # setting ignore as a parameter\n",
    "\n",
    "# Needed for looking at the contents of folders and identifying files available to read in\n",
    "import os\n",
    "\n",
    "# Basic packackes for importing and working with data \n",
    "import numpy as np # linear algebra\n",
    "import pandas as pd # data processing, CSV file I/O (e.g. pd.read_csv)\n",
    "\n",
    "# Do I need these for this demo?\n",
    "!pip install Faker\n",
    "from faker import Faker\n",
    "\n",
    "# Needed for plotting and visualiasations\n",
    "import matplotlib.colors\n",
    "import matplotlib.pyplot as plt\n",
    "from mpl_toolkits.mplot3d import Axes3D\n",
    "\n",
    "!pip install seaborn\n",
    "import seaborn as sns\n",
    "\n",
    "# Needed for estimating best fit to common distributions\n",
    "!pip install fitter\n",
    "import fitter\n",
    "from fitter import Fitter, get_common_distributions, get_distributions\n",
    "\n",
    "# Needed for building a model of the existing dataset\n",
    "from sklearn.linear_model import LinearRegression\n",
    "from sklearn.datasets import make_regression"
   ]
  },
  {
   "cell_type": "markdown",
   "metadata": {},
   "source": [
    "***\n",
    "## Importing data\n",
    "Next we need to import the data with which we are going to work. This is a pretty basic dataset that is often included with python distributions. \n",
    "\n",
    "Still, I wanted to demonstrate how you load your own dataset from a file. In this case, the file is located inside a folder called 'input' which is stored in the same place as my jupyter notebook (the .ipynb file that you clicked on to open this tab). \n",
    "\n",
    "Importing the file into the jupyter notebook also gives us a chance to name it, in this case `df`. This is a common name given to a dataset for demonstration purposes because it is just short for 'data frame'. In a real-world project, you should give your datasets more useful, descriptive names. "
   ]
  },
  {
   "cell_type": "code",
   "execution_count": 137,
   "metadata": {},
   "outputs": [
    {
     "name": "stdout",
     "output_type": "stream",
     "text": [
      "['weight-height.csv']\n"
     ]
    }
   ],
   "source": [
    "print(os.listdir(\"input\"))                              # This prints the contents of the \"inputs\" folder \n",
    "                                                        # as a quick check that we have something to import\n",
    "    \n",
    "h_w_original= pd.read_csv('input/weight-height.csv')    # read in the .csv as a variable called \"h_w_original\"\n",
    "                                                        # You'll see a lot of tutorials that use names like \"data\" or \"df\".\n",
    "                                                        # Doing so is easy, but bad practice. Useful names are much better.\n",
    "                                                        # So start building good habits now!     "
   ]
  },
  {
   "cell_type": "markdown",
   "metadata": {},
   "source": [
    "***\n",
    "## Checking the data\n",
    "Quickly \"sense check\" the data we just imported. There are a few different ways to do that and I show you two here. \n",
    "\n",
    "\n",
    "The first way is to simply type the name of the data into a cell and execute that cell. This gives you the first and last five lines of the data and a summary of how many rows and columns. "
   ]
  },
  {
   "cell_type": "code",
   "execution_count": 4,
   "metadata": {},
   "outputs": [
    {
     "data": {
      "text/html": [
       "<div>\n",
       "<style scoped>\n",
       "    .dataframe tbody tr th:only-of-type {\n",
       "        vertical-align: middle;\n",
       "    }\n",
       "\n",
       "    .dataframe tbody tr th {\n",
       "        vertical-align: top;\n",
       "    }\n",
       "\n",
       "    .dataframe thead th {\n",
       "        text-align: right;\n",
       "    }\n",
       "</style>\n",
       "<table border=\"1\" class=\"dataframe\">\n",
       "  <thead>\n",
       "    <tr style=\"text-align: right;\">\n",
       "      <th></th>\n",
       "      <th>Gender</th>\n",
       "      <th>Height</th>\n",
       "      <th>Weight</th>\n",
       "    </tr>\n",
       "  </thead>\n",
       "  <tbody>\n",
       "    <tr>\n",
       "      <th>0</th>\n",
       "      <td>Male</td>\n",
       "      <td>73.847017</td>\n",
       "      <td>241.893563</td>\n",
       "    </tr>\n",
       "    <tr>\n",
       "      <th>1</th>\n",
       "      <td>Male</td>\n",
       "      <td>68.781904</td>\n",
       "      <td>162.310473</td>\n",
       "    </tr>\n",
       "    <tr>\n",
       "      <th>2</th>\n",
       "      <td>Male</td>\n",
       "      <td>74.110105</td>\n",
       "      <td>212.740856</td>\n",
       "    </tr>\n",
       "    <tr>\n",
       "      <th>3</th>\n",
       "      <td>Male</td>\n",
       "      <td>71.730978</td>\n",
       "      <td>220.042470</td>\n",
       "    </tr>\n",
       "    <tr>\n",
       "      <th>4</th>\n",
       "      <td>Male</td>\n",
       "      <td>69.881796</td>\n",
       "      <td>206.349801</td>\n",
       "    </tr>\n",
       "    <tr>\n",
       "      <th>...</th>\n",
       "      <td>...</td>\n",
       "      <td>...</td>\n",
       "      <td>...</td>\n",
       "    </tr>\n",
       "    <tr>\n",
       "      <th>9995</th>\n",
       "      <td>Female</td>\n",
       "      <td>66.172652</td>\n",
       "      <td>136.777454</td>\n",
       "    </tr>\n",
       "    <tr>\n",
       "      <th>9996</th>\n",
       "      <td>Female</td>\n",
       "      <td>67.067155</td>\n",
       "      <td>170.867906</td>\n",
       "    </tr>\n",
       "    <tr>\n",
       "      <th>9997</th>\n",
       "      <td>Female</td>\n",
       "      <td>63.867992</td>\n",
       "      <td>128.475319</td>\n",
       "    </tr>\n",
       "    <tr>\n",
       "      <th>9998</th>\n",
       "      <td>Female</td>\n",
       "      <td>69.034243</td>\n",
       "      <td>163.852461</td>\n",
       "    </tr>\n",
       "    <tr>\n",
       "      <th>9999</th>\n",
       "      <td>Female</td>\n",
       "      <td>61.944246</td>\n",
       "      <td>113.649103</td>\n",
       "    </tr>\n",
       "  </tbody>\n",
       "</table>\n",
       "<p>10000 rows × 3 columns</p>\n",
       "</div>"
      ],
      "text/plain": [
       "      Gender     Height      Weight\n",
       "0       Male  73.847017  241.893563\n",
       "1       Male  68.781904  162.310473\n",
       "2       Male  74.110105  212.740856\n",
       "3       Male  71.730978  220.042470\n",
       "4       Male  69.881796  206.349801\n",
       "...      ...        ...         ...\n",
       "9995  Female  66.172652  136.777454\n",
       "9996  Female  67.067155  170.867906\n",
       "9997  Female  63.867992  128.475319\n",
       "9998  Female  69.034243  163.852461\n",
       "9999  Female  61.944246  113.649103\n",
       "\n",
       "[10000 rows x 3 columns]"
      ]
     },
     "execution_count": 4,
     "metadata": {},
     "output_type": "execute_result"
    }
   ],
   "source": [
    "h_w_original                                            # check the new variable by simply calling its name."
   ]
  },
  {
   "cell_type": "markdown",
   "metadata": {},
   "source": [
    "A second way to sense check the data is to call for the `head` of the file, which is the first X number of rows. Exactly how many rows are returned in the head of the file depends on the value of X you want. I use X=10 in the  example below. \n",
    "\n",
    "You should also note that the summary (how many rows and columns) is not provided at the end as it was in the first way to sense check. This doesn't matter much here for two reasons:\n",
    "* You already know that information from the first sense check we ran.\n",
    "* You can directly see that there are three columns because these three columns are easily seen on screen. \n",
    "\n",
    "This might matter more if you use `name.head(X)` as the first way to sense check the data or if you have too many columns in your data to fit on the screen. "
   ]
  },
  {
   "cell_type": "code",
   "execution_count": null,
   "metadata": {},
   "outputs": [],
   "source": [
    "h_w_original.head(10)                                  # calling \"data_variable.head(X)\" prints the first X rows in the data_variable\n"
   ]
  },
  {
   "cell_type": "markdown",
   "metadata": {},
   "source": [
    "***\n",
    "Extra credit work\n",
    "***\n",
    "\n",
    "Try running the `head` function with a number other than 10 in the code cell below. You can also try running the `tail function`. You will need to edit the code below to get it to run correctly. "
   ]
  },
  {
   "cell_type": "code",
   "execution_count": null,
   "metadata": {},
   "outputs": [],
   "source": [
    "h_w_original.head(X)                                  # Try changing the value of X. \n",
    "h_w_original.tail(X)                                  # What do you think 'tail' will do? Try it out!\n",
    "\n",
    "\n",
    "# NOTE! This cell will produce an error if you try to run it as it was originally written. \n",
    "# What do you need to change to make it run correctly?"
   ]
  },
  {
   "cell_type": "markdown",
   "metadata": {},
   "source": [
    "===========================================================================================================================\n",
    "# Exploring the data\n",
    "In this section, we will cover:\n",
    "* Multiple ways to get an overview, and\n",
    "* How to visualise the data.\n",
    "\n",
    "The first way to visualise the data is to have a look at the columns with a simple `name.columns` function. This tells you things like how many there are and what they are called. It is pretty basic but also pleasantly straightforward. "
   ]
  },
  {
   "cell_type": "code",
   "execution_count": null,
   "metadata": {},
   "outputs": [],
   "source": [
    "h_w_original.columns"
   ]
  },
  {
   "cell_type": "markdown",
   "metadata": {},
   "source": [
    "Another option is to use `name.info()`. This returns lots more info (the clue is in the name) like what kind of an object the thing on which you called `info` is, how many entries it has, what their index range is, how many columns, what the column names are, whether there are missing values in those columns, what type of data each column is, how much memory is used, etc. "
   ]
  },
  {
   "cell_type": "code",
   "execution_count": null,
   "metadata": {},
   "outputs": [],
   "source": [
    "h_w_original.info()"
   ]
  },
  {
   "cell_type": "markdown",
   "metadata": {},
   "source": [
    "Having used these overview options, we know:\n",
    "* we have three columns (and we know the names),\n",
    "* we have 1000 rows, \n",
    "* there are no missing values, and\n",
    "* there are 2 different types (1 object and 2 floats). "
   ]
  },
  {
   "cell_type": "markdown",
   "metadata": {},
   "source": [
    "***\n",
    "## Data overviews\n",
    "\n",
    "Now that we have a basic sense of what our data is (how big it is, what is in it, etc.) we need to have a look at its *contents*. As you might expect, there are a few ways to do this, each of which is slightly different. \n",
    "\n",
    "The first way is to use `name.describe()` which returns some basic descriptiove statistics for the numerical variables (not for 'gender' which is an object variable). In essence, this is the count, minimum, maximum, mean, etc. "
   ]
  },
  {
   "cell_type": "code",
   "execution_count": null,
   "metadata": {},
   "outputs": [],
   "source": [
    "h_w_original.describe()"
   ]
  },
  {
   "cell_type": "markdown",
   "metadata": {},
   "source": [
    "You can also get a description for subsets of the data instead of for the entire data set by using the `groupby` function. "
   ]
  },
  {
   "cell_type": "code",
   "execution_count": null,
   "metadata": {},
   "outputs": [],
   "source": [
    "h_w_original.groupby(\"Gender\").describe()"
   ]
  },
  {
   "cell_type": "markdown",
   "metadata": {},
   "source": [
    "The fact that the non-numerical variable is excluded means we need another way to describe it. A useful function for categorical variables, such as gender, would be to use `name.variable.value_counts()`. "
   ]
  },
  {
   "cell_type": "code",
   "execution_count": null,
   "metadata": {},
   "outputs": [],
   "source": [
    "h_w_original.Gender.value_counts()"
   ]
  },
  {
   "cell_type": "markdown",
   "metadata": {},
   "source": [
    "The `value_counts` function is a useful ways to see how many of each value we have for the specified variable. For the case of gender, we have an even distribution between 'Female' and 'Male'. Not surprising, although we may see more 'Non-binary', 'Third gender', or 'Other' in the future. \n",
    "\n",
    "***\n",
    "Extra credit work\n",
    "***\n",
    "\n",
    "Why don't you try running the `value_counts()` function out on one of the other variables,like 'Height' or 'Weight'? You can do that in the code cell below, but you will need to edit the code before running it to get it to run correctly. "
   ]
  },
  {
   "cell_type": "code",
   "execution_count": null,
   "metadata": {},
   "outputs": [],
   "source": [
    "h_w_original.variable_name.value_counts()               # Try counting the values of other fields. Are they all unique?\n",
    "\n",
    "# NOTE! This cell will produce an error if you try to run it as it is now. What do you need to do to make it run correctly?"
   ]
  },
  {
   "cell_type": "markdown",
   "metadata": {},
   "source": [
    " You may find that trying the `value_count` function on 'Height' or 'Weight' was not as useful as it was for 'Gender'.\n",
    " \n",
    " This is because, as a field with potentially infitine values, none are repeated. It is useful to remember that the type and expected values of a column are useful when thinking about what descriptives you might want to run. "
   ]
  },
  {
   "cell_type": "markdown",
   "metadata": {},
   "source": [
    "***\n",
    "## Visualizations\n",
    "\n",
    "Descriptive statistics are super useful, but sometimes you just want to *look at the data* to get a better understanding. \n",
    "That is where visualizations come in!\n",
    "\n",
    "A classic way to visualise a relationship between two continuous variables is to get a scatterplot. "
   ]
  },
  {
   "cell_type": "code",
   "execution_count": null,
   "metadata": {},
   "outputs": [],
   "source": [
    "h_w_original.plot.scatter(x = 'Height', y = 'Weight')         # a basic scatter plot of height and weight using matplotlib"
   ]
  },
  {
   "cell_type": "markdown",
   "metadata": {},
   "source": [
    "However, we have **3** variables, not just two, so lets modify that scatterplot to colour each plotted point by 'Gender'. "
   ]
  },
  {
   "cell_type": "code",
   "execution_count": 6,
   "metadata": {},
   "outputs": [
    {
     "data": {
      "text/plain": [
       "<matplotlib.collections.PathCollection at 0x1dd6654fd00>"
      ]
     },
     "execution_count": 6,
     "metadata": {},
     "output_type": "execute_result"
    },
    {
     "data": {
      "image/png": "[encoded data removed]",
      "text/plain": [
       "<Figure size 432x288 with 1 Axes>"
      ]
     },
     "metadata": {
      "needs_background": "light"
     },
     "output_type": "display_data"
    }
   ],
   "source": [
    "plt.scatter(h_w_original.Height,h_w_original.Weight, \n",
    "            c = pd.Categorical(h_w_original.Gender).codes)       # a scatter plot of height X weight using matplotlib\n",
    "                                                                 # this time colour coded by gender"
   ]
  },
  {
   "cell_type": "markdown",
   "metadata": {},
   "source": [
    "This is great for preliminary \"getting a sense of what is in the data\" sort of work, but there are lots of things we could add that would make the plot better if we were to publish it somewhere. For example, we could:\n",
    "* change the size if we wanted it to be clearer\n",
    "* change the colours to be colour-blind friendly\n",
    "* add titles and axis labels\n",
    "* add one or more lines of best fit to clarify the trends in the data. \n",
    "\n",
    "These are all things you can add to plots to be fancy. I won't show you how here, I just wanted you to know it can be done.\n",
    "\n",
    "The visualisations show:\n",
    "* clear correlation between height and weight\n",
    "* clear differences between the two genders\n",
    "\n",
    "There may even be different correlations between height and weight for each gender? It is hard to say from these preliminary visualisations, but these kind of patterns have some implications for our synthetic data. So let's look at the distributions!"
   ]
  },
  {
   "cell_type": "markdown",
   "metadata": {},
   "source": [
    "***\n",
    "Extra credit work\n",
    "***\n",
    "The visualisations above use `matplotlib`, which is a very common package. Another package that we imported is `seaborn` and when we imported this package we gave it the nickname of `sns`. You can sea this nickname in the next two code cells because we type `sns.scatterplot` to run the scatterplot function in `sns`. \n",
    "\n",
    "You don't necessarily need to know how to make scatterplots (or any kind of plot) in more than one package, but it may be useful to see examples. In this way, you can get used to the way each one works, how the arguments must be listed, what else is printed along with the visualisation, etc. \n",
    "\n",
    "For example, in the cell below to create the basic scatterplot in `sns`, the data to use is specified only by including `df` as the first argument (the first thing inside the `( )` after the function name). \n",
    "The following cell creates the colour-coded-by-gender scatterplot in `sns` and in this one you see the first argument is written as `(data=df`. \n",
    "\n",
    "If you want to understand this better, try reorganising the arguments (for example, so that `X=` comes first). Does it work? Does it matter if you use `df` or `data=df` when you reorganise the arguments? "
   ]
  },
  {
   "cell_type": "code",
   "execution_count": 7,
   "metadata": {},
   "outputs": [
    {
     "data": {
      "text/plain": [
       "<AxesSubplot:xlabel='Height', ylabel='Weight'>"
      ]
     },
     "execution_count": 7,
     "metadata": {},
     "output_type": "execute_result"
    },
    {
     "data": {
      "image/png": "[encoded data removed]",
      "text/plain": [
       "<Figure size 432x288 with 1 Axes>"
      ]
     },
     "metadata": {
      "needs_background": "light"
     },
     "output_type": "display_data"
    }
   ],
   "source": [
    "sns.scatterplot(h_w_original, x=\"Height\", y=\"Weight\")"
   ]
  },
  {
   "cell_type": "code",
   "execution_count": 8,
   "metadata": {},
   "outputs": [
    {
     "data": {
      "text/plain": [
       "<AxesSubplot:xlabel='Height', ylabel='Weight'>"
      ]
     },
     "execution_count": 8,
     "metadata": {},
     "output_type": "execute_result"
    },
    {
     "data": {
      "image/png": "[encoded data removed]",
      "text/plain": [
       "<Figure size 432x288 with 1 Axes>"
      ]
     },
     "metadata": {
      "needs_background": "light"
     },
     "output_type": "display_data"
    }
   ],
   "source": [
    "sns.scatterplot(data=h_w_original, x=\"Height\", y=\"Weight\", hue=\"Gender\")"
   ]
  },
  {
   "cell_type": "markdown",
   "metadata": {},
   "source": [
    "===========================================================================================================================\n",
    "## Distributions\n",
    "\n",
    "The correlations we saw in the scatterplots suggest we ought to look at distributions for each variable. We don't need to see the distributions for Gender, since we know there are exactly 500 of each. \n",
    "\n",
    "Let's start with looking at Height, using 30 bins. "
   ]
  },
  {
   "cell_type": "code",
   "execution_count": null,
   "metadata": {},
   "outputs": [],
   "source": [
    "plt.hist(h_w_original.Height, bins=30)\n"
   ]
  },
  {
   "cell_type": "markdown",
   "metadata": {},
   "source": [
    "This is probably about what you might expect. Not so many super short or super tall people with most people in the middle and a clear \"bell-shaped\" distribution. \n",
    "\n",
    "But does the number of bins matter? Have a play around here to see what other height histograms look like. "
   ]
  },
  {
   "cell_type": "code",
   "execution_count": null,
   "metadata": {},
   "outputs": [],
   "source": [
    "plt.hist(h_w_original.Height, bins=X)\n"
   ]
  },
  {
   "cell_type": "markdown",
   "metadata": {},
   "source": [
    "Now, what about weight? Let's do a basic histogram with 30 bins. "
   ]
  },
  {
   "cell_type": "code",
   "execution_count": null,
   "metadata": {},
   "outputs": [],
   "source": [
    "plt.hist(h_w_original.Weight, bins=30)\n"
   ]
  },
  {
   "cell_type": "markdown",
   "metadata": {},
   "source": [
    "Uh oh. This is no longer so clear cut. Instead, it looks like weight is creating a bimodal distribution. Almost certainly, this relates to the differences between males and females. Let's dive in deeper. "
   ]
  },
  {
   "cell_type": "code",
   "execution_count": 9,
   "metadata": {},
   "outputs": [
    {
     "data": {
      "image/png": "[encoded data removed]",
      "text/plain": [
       "<Figure size 432x288 with 1 Axes>"
      ]
     },
     "metadata": {
      "needs_background": "light"
     },
     "output_type": "display_data"
    }
   ],
   "source": [
    "h_w_males = h_w_original[h_w_original['Gender']=='Male']        # Creates a subset of only the rows where gender = male\n",
    "h_w_females = h_w_original[h_w_original['Gender']=='Female']    # And another with only the rows where gender = female\n",
    "\n",
    "\n",
    "plt.hist(h_w_males['Height'],                                   # Creating a historgam of the male-only dataset\n",
    "         alpha=0.5,                                             # that will appear at 50% transaparency, \n",
    "         label='Male')                                          # and that has a 'Male' label in the legend.\n",
    "plt.hist(h_w_females['Height'],                                 # Repeat for the female-only dataset.\n",
    "         alpha=0.5,                        \n",
    "         label='Female')\n",
    "plt.legend(loc='upper right')                                   # This tells matplotlib where to put the legend.\n",
    "plt.title('Male and female height histograms')                  # And gives a title for good measure.\n",
    "plt.show()                                                      # Finally, the command to show the plot. \n",
    "                                                                # Previously, this extra command was not needed. \n",
    "                                                                # But the extra layers of data need more clarity. "
   ]
  },
  {
   "cell_type": "markdown",
   "metadata": {},
   "source": [
    "Useful! We can clearly see that, despite our earlier bell-shaped histogram for height, gender does matter and we actually have a bimodal distribution, with each being roughly bell-shaped. \n",
    "\n",
    "What about weight? We already have subsets of male and female-only data, so lets just plot those onto a histogram of weight. "
   ]
  },
  {
   "cell_type": "code",
   "execution_count": 10,
   "metadata": {},
   "outputs": [
    {
     "data": {
      "image/png": "[encoded data removed]",
      "text/plain": [
       "<Figure size 432x288 with 1 Axes>"
      ]
     },
     "metadata": {
      "needs_background": "light"
     },
     "output_type": "display_data"
    }
   ],
   "source": [
    "plt.hist(h_w_males['Weight'],                    # Creating a historgam of the male-only dataset\n",
    "         alpha=0.5,                              # that will appear at 50% transaparency, \n",
    "         label='Male')                           # and that has a 'Male' label in the legend.\n",
    "plt.hist(h_w_females['Weight'],                  # Repeat for the female-only dataset.\n",
    "         alpha=0.5,                        \n",
    "         label='Female')\n",
    "plt.legend(loc='upper right')                    # This tells matplotlib where to put the legend.\n",
    "plt.title('Male and female weight histograms')   # And gives a title for good measure.\n",
    "plt.show()                                       # Finally, the command to show the plot. \n",
    "                                                 # Previously, this extra command was not needed. \n",
    "                                                 # But all the extra layers of date make this plot more complicated. "
   ]
  },
  {
   "cell_type": "markdown",
   "metadata": {},
   "source": [
    "Again, it is clear that weight is roughly bell-shaped, but clearly bimodal by gender. \n",
    "\n",
    "But \"bell-shaped\" is not really specific, is it? Let's see what distribution is the best fit for our data. For this, we use the `fitter` package that we installed earlier. Let's start by getting a list of the 10 most common distributions. \n",
    "              "
   ]
  },
  {
   "cell_type": "code",
   "execution_count": null,
   "metadata": {},
   "outputs": [],
   "source": [
    "get_common_distributions()"
   ]
  },
  {
   "cell_type": "markdown",
   "metadata": {},
   "source": [
    "Let's compare the males height distribution to these common distributions to see which is the closest match. \n",
    "\n",
    "First, for each distribution of interest (male height, male weight, female height, and female weight) we create a `Fitter` object that takes two variables - the data to fit and the distributions against which that data should be fit. \n",
    "\n",
    "For the ease of working with these four `Fitter` variables, I popped them all into a list. "
   ]
  },
  {
   "cell_type": "code",
   "execution_count": 12,
   "metadata": {},
   "outputs": [],
   "source": [
    "h_males = Fitter(h_w_males.Height, distributions= get_common_distributions())\n",
    "w_males = Fitter(h_w_males.Weight, distributions= get_common_distributions())\n",
    "h_females = Fitter(h_w_males.Height, distributions= get_common_distributions())\n",
    "w_females = Fitter(h_w_males.Weight, distributions= get_common_distributions())\n",
    "\n",
    "distribution_list = [h_males, w_males, h_females, w_females]"
   ]
  },
  {
   "cell_type": "markdown",
   "metadata": {},
   "source": [
    "Next, I create an empty list called `best_fit_distribution` and then run a `for` loop on each `Fitter` item in my distribution list and\n",
    "* identifies the fits listed within that `Fitter` object, \n",
    "* finds the best of those fits (according to the least sum of squares method - other methods are available) \n",
    "* and appends the best fit identified to the previously created empty list. \n",
    "\n",
    "Then I print the list. "
   ]
  },
  {
   "cell_type": "code",
   "execution_count": 13,
   "metadata": {},
   "outputs": [
    {
     "name": "stderr",
     "output_type": "stream",
     "text": [
      "Fitting 10 distributions: 100%|████████████████████████████████████████████████████████| 10/10 [00:01<00:00,  8.97it/s]\n",
      "Fitting 10 distributions: 100%|████████████████████████████████████████████████████████| 10/10 [00:01<00:00,  9.17it/s]\n",
      "Fitting 10 distributions: 100%|████████████████████████████████████████████████████████| 10/10 [00:01<00:00,  8.92it/s]\n",
      "Fitting 10 distributions: 100%|████████████████████████████████████████████████████████| 10/10 [00:00<00:00, 10.06it/s]\n"
     ]
    },
    {
     "data": {
      "text/plain": [
       "[{'norm': {'loc': 69.02634590621741, 'scale': 2.863075878119538}},\n",
       " {'norm': {'loc': 187.0206206581932, 'scale': 19.779176302396458}},\n",
       " {'norm': {'loc': 69.02634590621741, 'scale': 2.863075878119538}},\n",
       " {'norm': {'loc': 187.0206206581932, 'scale': 19.779176302396458}}]"
      ]
     },
     "execution_count": 13,
     "metadata": {},
     "output_type": "execute_result"
    }
   ],
   "source": [
    "best_fit_distribution = []\n",
    "\n",
    "for distribution in distribution_list:\n",
    "    distribution.fit()\n",
    "    best = distribution.get_best(method = 'sumsquare_error')\n",
    "    best_fit_distribution.append(best)\n",
    "\n",
    "best_fit_distribution"
   ]
  },
  {
   "cell_type": "markdown",
   "metadata": {},
   "source": [
    "This shows that for all the variables, the best fit is a 'normal' distribution. That's great! We can use that!"
   ]
  },
  {
   "cell_type": "markdown",
   "metadata": {},
   "source": [
    "\n",
    "=========================================================================================================================\n",
    "# Creating synthetic data \n",
    "\n",
    "Now that we have reasonable idea of what our data *looks like* we can get started making synthetic versions of it. \n",
    "***\n",
    "## Low fidelity options\n",
    "\n",
    "Remember that **low fidelity** data does not look very much like the real data. The way I have set it up here, low fidelity data works a bit like drawing a box and then filling that box randomly. In this section, we create three different levels of low-fidelity synthetic data, each of which has increasingly sophisticated or realistic \"boxes\" which are then filled in randomly. \n",
    "* The lowest fidelity version is essentially one big box that has no sensible dimensions, after which it is filled with random numbers for all three variables. \n",
    "* The lowish fidelity version is a box that has sized more sensibly because we clarify the minimum and maximum values from which the random numbers should be drawn, after which all three variables are still filled randomly. \n",
    "* The low fidelity version is a much more sensible box because the size is determined by the minimum and maximum values of the data, one column (`Gender`) is filled with 'Male' and 'Female' (instead of numbers) with an even 50-50 distribution, and the other variables are filled more or less randomly.  \n",
    "\n",
    "***\n",
    "\n",
    "Let's start with the lowest fidelity version. To do this, we:\n",
    "* create a `pandas` data frame (when we imported pandas,  we assigned it the nickname `pd` to make running `pandas` commands a bit faster) and assign it the name `lowest_fidelity`, \n",
    "* Within that data frame, we create 3 random `numpy` arrays (`numpy` is also imported with the nickname `np` to make it faster). Each of these arrays is 100 digits long, and\n",
    "* we assign the names 'Gender', 'Height' and 'Weight' to the three columns made out of random number arrays. \n",
    "\n",
    "After creating it, we inspect the new data frame by calling its name. "
   ]
  },
  {
   "cell_type": "code",
   "execution_count": 14,
   "metadata": {},
   "outputs": [
    {
     "data": {
      "text/html": [
       "<div>\n",
       "<style scoped>\n",
       "    .dataframe tbody tr th:only-of-type {\n",
       "        vertical-align: middle;\n",
       "    }\n",
       "\n",
       "    .dataframe tbody tr th {\n",
       "        vertical-align: top;\n",
       "    }\n",
       "\n",
       "    .dataframe thead th {\n",
       "        text-align: right;\n",
       "    }\n",
       "</style>\n",
       "<table border=\"1\" class=\"dataframe\">\n",
       "  <thead>\n",
       "    <tr style=\"text-align: right;\">\n",
       "      <th></th>\n",
       "      <th>Gender</th>\n",
       "      <th>Height</th>\n",
       "      <th>Weight</th>\n",
       "    </tr>\n",
       "  </thead>\n",
       "  <tbody>\n",
       "    <tr>\n",
       "      <th>0</th>\n",
       "      <td>0.855529</td>\n",
       "      <td>0.502959</td>\n",
       "      <td>0.133538</td>\n",
       "    </tr>\n",
       "    <tr>\n",
       "      <th>1</th>\n",
       "      <td>0.431767</td>\n",
       "      <td>-1.308098</td>\n",
       "      <td>-0.281516</td>\n",
       "    </tr>\n",
       "    <tr>\n",
       "      <th>2</th>\n",
       "      <td>-0.059416</td>\n",
       "      <td>0.308358</td>\n",
       "      <td>-0.169037</td>\n",
       "    </tr>\n",
       "    <tr>\n",
       "      <th>3</th>\n",
       "      <td>-0.846885</td>\n",
       "      <td>-0.309507</td>\n",
       "      <td>-0.853140</td>\n",
       "    </tr>\n",
       "    <tr>\n",
       "      <th>4</th>\n",
       "      <td>-1.246539</td>\n",
       "      <td>-1.503929</td>\n",
       "      <td>-1.858509</td>\n",
       "    </tr>\n",
       "    <tr>\n",
       "      <th>...</th>\n",
       "      <td>...</td>\n",
       "      <td>...</td>\n",
       "      <td>...</td>\n",
       "    </tr>\n",
       "    <tr>\n",
       "      <th>95</th>\n",
       "      <td>0.784541</td>\n",
       "      <td>-1.033320</td>\n",
       "      <td>-0.411224</td>\n",
       "    </tr>\n",
       "    <tr>\n",
       "      <th>96</th>\n",
       "      <td>0.129648</td>\n",
       "      <td>1.839676</td>\n",
       "      <td>-0.587915</td>\n",
       "    </tr>\n",
       "    <tr>\n",
       "      <th>97</th>\n",
       "      <td>0.927737</td>\n",
       "      <td>-0.255988</td>\n",
       "      <td>-0.610523</td>\n",
       "    </tr>\n",
       "    <tr>\n",
       "      <th>98</th>\n",
       "      <td>-0.418236</td>\n",
       "      <td>-0.835578</td>\n",
       "      <td>-1.024095</td>\n",
       "    </tr>\n",
       "    <tr>\n",
       "      <th>99</th>\n",
       "      <td>0.511374</td>\n",
       "      <td>-0.934450</td>\n",
       "      <td>0.389056</td>\n",
       "    </tr>\n",
       "  </tbody>\n",
       "</table>\n",
       "<p>100 rows × 3 columns</p>\n",
       "</div>"
      ],
      "text/plain": [
       "      Gender    Height    Weight\n",
       "0   0.855529  0.502959  0.133538\n",
       "1   0.431767 -1.308098 -0.281516\n",
       "2  -0.059416  0.308358 -0.169037\n",
       "3  -0.846885 -0.309507 -0.853140\n",
       "4  -1.246539 -1.503929 -1.858509\n",
       "..       ...       ...       ...\n",
       "95  0.784541 -1.033320 -0.411224\n",
       "96  0.129648  1.839676 -0.587915\n",
       "97  0.927737 -0.255988 -0.610523\n",
       "98 -0.418236 -0.835578 -1.024095\n",
       "99  0.511374 -0.934450  0.389056\n",
       "\n",
       "[100 rows x 3 columns]"
      ]
     },
     "execution_count": 14,
     "metadata": {},
     "output_type": "execute_result"
    }
   ],
   "source": [
    "lowest_fidelity = pd.DataFrame(np.random.randn(100, 3),               # Create a data frame from 3 random, 100 digit arrays\n",
    "                               columns=('Gender','Height', 'Weight')) # and then name the columns. \n",
    "lowest_fidelity                                                       # Inspect quickly!"
   ]
  },
  {
   "cell_type": "markdown",
   "metadata": {},
   "source": [
    "Having inspected the data frame, we can see that it is clearly a lot of nonsense. A negative weight or height is impossible. Further, there are a lot of digits after the decimal point which seems like unecessary precision for this kind of task. \n",
    "\n",
    "It also helps to see a scatterplot. We use the same basic code as before, but this time making sure to refer to the newly created `lowest_fidelity` data frame instead of the real data that we had imported. Note that there are many different colours because `lowest_fidelity.Gender` is numerical rather than categorical. \n"
   ]
  },
  {
   "cell_type": "code",
   "execution_count": 128,
   "metadata": {},
   "outputs": [
    {
     "data": {
      "text/plain": [
       "<matplotlib.collections.PathCollection at 0x1dd0dd18ca0>"
      ]
     },
     "execution_count": 128,
     "metadata": {},
     "output_type": "execute_result"
    },
    {
     "data": {
      "image/png": "[encoded data removed]",
      "text/plain": [
       "<Figure size 432x288 with 1 Axes>"
      ]
     },
     "metadata": {
      "needs_background": "light"
     },
     "output_type": "display_data"
    }
   ],
   "source": [
    "plt.scatter(lowest_fidelity.Height,\n",
    "            lowest_fidelity.Weight, \n",
    "            c = pd.Categorical(lowest_fidelity.Gender).codes)"
   ]
  },
  {
   "cell_type": "markdown",
   "metadata": {},
   "source": [
    "***\n",
    "Extra credit work\n",
    "***\n",
    "\n",
    "Try modifying and running the code cell below to create another data frame from random numbers. But this time, you choose how big it will be (how many rows and columns) and what the columns will be called. \n",
    "\n",
    "You will need to edit the code below to make it run correctly. "
   ]
  },
  {
   "cell_type": "code",
   "execution_count": null,
   "metadata": {},
   "outputs": [],
   "source": [
    "extra_credit_very_random = pd.DataFrame(np.random.randn(NumberOfRows, NumberOfColumns), \n",
    "                                        columns=('ColumnName1','ColumnName2', 'ColumnNameN))\n",
    "extra_credit_very_random\n",
    "                                                 \n",
    "                                # NOTE! This cell will produce an error if you try to run it as it was originally written. \n",
    "                                # What do you need to change to make it run correctly?"
   ]
  },
  {
   "cell_type": "markdown",
   "metadata": {},
   "source": [
    "***\n",
    "Now, let's move on to a low-but-not-quite-as-low fidelity version - the one with a more sensibly sized box. \n",
    "To do this, we:\n",
    "* create another `pandas` data frame (named `lowish_fidelity`) in a very similar way, \n",
    "* still with 3 random `numpy` arrays that are 100 digits long but this time with a range of 0 to 100 specified), and\n",
    "* still assigned the column names 'Gender', 'Height' and 'Weight'. \n",
    "\n",
    "After creating it, we inspect the new data frame by calling its name. "
   ]
  },
  {
   "cell_type": "code",
   "execution_count": 130,
   "metadata": {
    "scrolled": true
   },
   "outputs": [
    {
     "data": {
      "text/html": [
       "<div>\n",
       "<style scoped>\n",
       "    .dataframe tbody tr th:only-of-type {\n",
       "        vertical-align: middle;\n",
       "    }\n",
       "\n",
       "    .dataframe tbody tr th {\n",
       "        vertical-align: top;\n",
       "    }\n",
       "\n",
       "    .dataframe thead th {\n",
       "        text-align: right;\n",
       "    }\n",
       "</style>\n",
       "<table border=\"1\" class=\"dataframe\">\n",
       "  <thead>\n",
       "    <tr style=\"text-align: right;\">\n",
       "      <th></th>\n",
       "      <th>Gender</th>\n",
       "      <th>Height</th>\n",
       "      <th>Weight</th>\n",
       "    </tr>\n",
       "  </thead>\n",
       "  <tbody>\n",
       "    <tr>\n",
       "      <th>0</th>\n",
       "      <td>47</td>\n",
       "      <td>27</td>\n",
       "      <td>62</td>\n",
       "    </tr>\n",
       "    <tr>\n",
       "      <th>1</th>\n",
       "      <td>94</td>\n",
       "      <td>20</td>\n",
       "      <td>83</td>\n",
       "    </tr>\n",
       "    <tr>\n",
       "      <th>2</th>\n",
       "      <td>78</td>\n",
       "      <td>20</td>\n",
       "      <td>19</td>\n",
       "    </tr>\n",
       "    <tr>\n",
       "      <th>3</th>\n",
       "      <td>89</td>\n",
       "      <td>61</td>\n",
       "      <td>10</td>\n",
       "    </tr>\n",
       "    <tr>\n",
       "      <th>4</th>\n",
       "      <td>89</td>\n",
       "      <td>13</td>\n",
       "      <td>74</td>\n",
       "    </tr>\n",
       "    <tr>\n",
       "      <th>...</th>\n",
       "      <td>...</td>\n",
       "      <td>...</td>\n",
       "      <td>...</td>\n",
       "    </tr>\n",
       "    <tr>\n",
       "      <th>95</th>\n",
       "      <td>13</td>\n",
       "      <td>59</td>\n",
       "      <td>47</td>\n",
       "    </tr>\n",
       "    <tr>\n",
       "      <th>96</th>\n",
       "      <td>28</td>\n",
       "      <td>62</td>\n",
       "      <td>89</td>\n",
       "    </tr>\n",
       "    <tr>\n",
       "      <th>97</th>\n",
       "      <td>82</td>\n",
       "      <td>42</td>\n",
       "      <td>48</td>\n",
       "    </tr>\n",
       "    <tr>\n",
       "      <th>98</th>\n",
       "      <td>19</td>\n",
       "      <td>29</td>\n",
       "      <td>10</td>\n",
       "    </tr>\n",
       "    <tr>\n",
       "      <th>99</th>\n",
       "      <td>98</td>\n",
       "      <td>58</td>\n",
       "      <td>21</td>\n",
       "    </tr>\n",
       "  </tbody>\n",
       "</table>\n",
       "<p>100 rows × 3 columns</p>\n",
       "</div>"
      ],
      "text/plain": [
       "    Gender  Height  Weight\n",
       "0       47      27      62\n",
       "1       94      20      83\n",
       "2       78      20      19\n",
       "3       89      61      10\n",
       "4       89      13      74\n",
       "..     ...     ...     ...\n",
       "95      13      59      47\n",
       "96      28      62      89\n",
       "97      82      42      48\n",
       "98      19      29      10\n",
       "99      98      58      21\n",
       "\n",
       "[100 rows x 3 columns]"
      ]
     },
     "execution_count": 130,
     "metadata": {},
     "output_type": "execute_result"
    }
   ],
   "source": [
    "lowish_fidelity = pd.DataFrame(np.random.randint(10,100,size=(100, 3)),    # Another dataframe made of 3 100-digit arrays\n",
    "                               columns=('Gender','Height', 'Weight'))     # and named columns. \n",
    "lowish_fidelity                                                           # Another quick inspection. "
   ]
  },
  {
   "cell_type": "markdown",
   "metadata": {},
   "source": [
    "If you look closely at the code for the `lowest_fidelity` and `lowish_fidelity` data frames, you see the only difference is in the line with the `numpy` arrays. \n",
    "\n",
    "The first data frame has `np.random.randn(100, 3)` while the second has `np.random.randint(10,100,size=(100, 3)`. \n",
    "\n",
    "The key differences are:\n",
    "* the first has `randn` in front of the parentheses while the second has `randint`. This is what switches from numbers (with so many precise digits after the decimal point) to integers (with no decimal points). \n",
    "* the second has `10,100` at the begining of the parentheses. This is what sets the range from which the random integers should be drawn, meaning we have nobody with a zero or negative height or weight. \n",
    "\n",
    "Again, let's create a quick scatterplot to see how it looks. \n",
    "\n",
    "There are still problems (like how gender is a random integer between 0 and 100) but at least none of the values are negative!"
   ]
  },
  {
   "cell_type": "code",
   "execution_count": 131,
   "metadata": {},
   "outputs": [
    {
     "data": {
      "text/plain": [
       "<matplotlib.collections.PathCollection at 0x1dd0dd83520>"
      ]
     },
     "execution_count": 131,
     "metadata": {},
     "output_type": "execute_result"
    },
    {
     "data": {
      "image/png": "[encoded data removed]",
      "text/plain": [
       "<Figure size 432x288 with 1 Axes>"
      ]
     },
     "metadata": {
      "needs_background": "light"
     },
     "output_type": "display_data"
    }
   ],
   "source": [
    "plt.scatter(lowish_fidelity.Height,\n",
    "            lowish_fidelity.Weight, \n",
    "            c = pd.Categorical(lowish_fidelity.Gender).codes)"
   ]
  },
  {
   "cell_type": "markdown",
   "metadata": {},
   "source": [
    "This is still *pretty* poor fidelity as all the data are still drawn randomly. However, at least we are getting  better by making a less silly box!\n",
    "\n",
    "***\n",
    "Extra credit work\n",
    "***\n",
    "\n",
    "Try modifying and running the code cell below to create another data frame from random integers, but this time set the ranges in a place of your choosing. . You will need to edit the code below to make it run correctly. "
   ]
  },
  {
   "cell_type": "code",
   "execution_count": null,
   "metadata": {
    "scrolled": true
   },
   "outputs": [],
   "source": [
    "Extra_credit_less_random = pd.DataFrame(np.random.randint(MinimumOfYourChoice,MaximumOfYourChoice,size=(100, 3)), \n",
    "                               columns=('Gender','Height', 'Weight'))\n",
    "Extra_credit_less_random\n",
    "\n",
    "                                # NOTE! This cell will produce an error if you try to run it as it was originally written. \n",
    "                                # What do you need to change to make it run correctly?"
   ]
  },
  {
   "cell_type": "markdown",
   "metadata": {},
   "source": [
    "***\n",
    "Now, let's move on to the least-low fidelity version - the one where we pay a some attention to the actual data we explored in order to draw the box. To do this, we:\n",
    "* create another `pandas` data frame (named `low_fidelity_h_w`), \n",
    "* but now with only two columns of 100 random values for the height and weight, which are drawn from a uniform distribution within the min and max found in our earlier data exploration, \n",
    "* one column of 50 'Male and 50 'Female', \n",
    "* still assigned the column names 'Gender', 'Height' and 'Weight', but this time assigning the column names as the columns are created to make sure they match the column contents (e.g. the `Height` column is created with the min and max for height rather than weight, etc.). \n",
    "\n",
    "After creating it, we inspect the new data frame by calling its name. "
   ]
  },
  {
   "cell_type": "code",
   "execution_count": 132,
   "metadata": {},
   "outputs": [
    {
     "data": {
      "text/html": [
       "<div>\n",
       "<style scoped>\n",
       "    .dataframe tbody tr th:only-of-type {\n",
       "        vertical-align: middle;\n",
       "    }\n",
       "\n",
       "    .dataframe tbody tr th {\n",
       "        vertical-align: top;\n",
       "    }\n",
       "\n",
       "    .dataframe thead th {\n",
       "        text-align: right;\n",
       "    }\n",
       "</style>\n",
       "<table border=\"1\" class=\"dataframe\">\n",
       "  <thead>\n",
       "    <tr style=\"text-align: right;\">\n",
       "      <th></th>\n",
       "      <th>Height</th>\n",
       "      <th>Weight</th>\n",
       "      <th>Gender</th>\n",
       "    </tr>\n",
       "  </thead>\n",
       "  <tbody>\n",
       "    <tr>\n",
       "      <th>0</th>\n",
       "      <td>54.996440</td>\n",
       "      <td>182.596141</td>\n",
       "      <td>Male</td>\n",
       "    </tr>\n",
       "    <tr>\n",
       "      <th>1</th>\n",
       "      <td>64.747590</td>\n",
       "      <td>214.832086</td>\n",
       "      <td>Male</td>\n",
       "    </tr>\n",
       "    <tr>\n",
       "      <th>2</th>\n",
       "      <td>70.271645</td>\n",
       "      <td>222.528500</td>\n",
       "      <td>Male</td>\n",
       "    </tr>\n",
       "    <tr>\n",
       "      <th>3</th>\n",
       "      <td>57.565530</td>\n",
       "      <td>126.528312</td>\n",
       "      <td>Male</td>\n",
       "    </tr>\n",
       "    <tr>\n",
       "      <th>4</th>\n",
       "      <td>54.767332</td>\n",
       "      <td>220.736978</td>\n",
       "      <td>Male</td>\n",
       "    </tr>\n",
       "    <tr>\n",
       "      <th>...</th>\n",
       "      <td>...</td>\n",
       "      <td>...</td>\n",
       "      <td>...</td>\n",
       "    </tr>\n",
       "    <tr>\n",
       "      <th>95</th>\n",
       "      <td>71.229438</td>\n",
       "      <td>216.680734</td>\n",
       "      <td>Female</td>\n",
       "    </tr>\n",
       "    <tr>\n",
       "      <th>96</th>\n",
       "      <td>54.224503</td>\n",
       "      <td>246.468878</td>\n",
       "      <td>Female</td>\n",
       "    </tr>\n",
       "    <tr>\n",
       "      <th>97</th>\n",
       "      <td>70.377202</td>\n",
       "      <td>246.086220</td>\n",
       "      <td>Female</td>\n",
       "    </tr>\n",
       "    <tr>\n",
       "      <th>98</th>\n",
       "      <td>54.963431</td>\n",
       "      <td>200.084842</td>\n",
       "      <td>Female</td>\n",
       "    </tr>\n",
       "    <tr>\n",
       "      <th>99</th>\n",
       "      <td>63.514074</td>\n",
       "      <td>108.265406</td>\n",
       "      <td>Female</td>\n",
       "    </tr>\n",
       "  </tbody>\n",
       "</table>\n",
       "<p>100 rows × 3 columns</p>\n",
       "</div>"
      ],
      "text/plain": [
       "       Height      Weight  Gender\n",
       "0   54.996440  182.596141    Male\n",
       "1   64.747590  214.832086    Male\n",
       "2   70.271645  222.528500    Male\n",
       "3   57.565530  126.528312    Male\n",
       "4   54.767332  220.736978    Male\n",
       "..        ...         ...     ...\n",
       "95  71.229438  216.680734  Female\n",
       "96  54.224503  246.468878  Female\n",
       "97  70.377202  246.086220  Female\n",
       "98  54.963431  200.084842  Female\n",
       "99  63.514074  108.265406  Female\n",
       "\n",
       "[100 rows x 3 columns]"
      ]
     },
     "execution_count": 132,
     "metadata": {},
     "output_type": "execute_result"
    }
   ],
   "source": [
    "low_fidelity_preliminary_step = {\"Height\": np.random.uniform(low=54, high=78, size=(100,)),  # First, make a dictionary \n",
    "                                 \"Weight\": np.random.uniform(low=64, high=269, size=(100,)), # from more relevant \"random\"\n",
    "                                 \"Gender\": (['Male'] * 50) + (['Female'] * 50)}              # data.\n",
    "low_fidelity = pd.DataFrame(low_fidelity_preliminary_step)                                   # Then make it a data frame\n",
    "low_fidelity                                                                                 # and have a look at it."
   ]
  },
  {
   "cell_type": "markdown",
   "metadata": {},
   "source": [
    "Again, we have a quick look at a scatterplot for our data. Since it is much less random (due to the sensible min and max values we set and the categorical values for Gender) it looks much better. It still does not have the right distributions or correlations between min and max, but we are getting closer. "
   ]
  },
  {
   "cell_type": "code",
   "execution_count": 133,
   "metadata": {},
   "outputs": [
    {
     "data": {
      "text/plain": [
       "<matplotlib.collections.PathCollection at 0x1dd0dde9250>"
      ]
     },
     "execution_count": 133,
     "metadata": {},
     "output_type": "execute_result"
    },
    {
     "data": {
      "image/png": "[encoded data removed]",
      "text/plain": [
       "<Figure size 432x288 with 1 Axes>"
      ]
     },
     "metadata": {
      "needs_background": "light"
     },
     "output_type": "display_data"
    }
   ],
   "source": [
    "plt.scatter(low_fidelity.Height,\n",
    "            low_fidelity.Weight, \n",
    "            c = pd.Categorical(low_fidelity.Gender).codes)"
   ]
  },
  {
   "cell_type": "markdown",
   "metadata": {},
   "source": [
    "========================================================================================================================\n",
    "## Mid-fidelity data\n",
    "\n",
    "Now that we understand how to make low-fidelity synthetic data, we need to understand how to make medium-fidelity data. Instead of working from the outside in (by drawing boxes and fill them with mostly random data), medium-fidelity data works by from the inside out (by creating simplistic models of the real data and then building using it to generate synthetic data). Again, there are three level of increasing fidelity presented here: \n",
    "* medium_fidelity_1 makes a very simplistic regression model of the data and then used the mean and standard deviation of height from the real data to generate matching synthetic data points. \n",
    "* medium_fidelity_2 works much like medium-fidelity-1 but adds in some noise so that the generated data does not quite so obviously match the regression model made from the original\n",
    "* medium_fidelity_3 separates the data into male and female subsets, makes a regression model of each, and uses those (plus much more noise) to generate a combined synthetic data set that is better than the others (although still quite unrealistic looking). \n",
    "\n",
    "***\n",
    "\n",
    "### medium_fidelity_1\n",
    "Roll on  medium-fidelity-1! To make regression models we need to convert the text strings in our categorical data ('male' and 'female') into numbers.  It is often a helpful step to make a copy to work on rather than make fundamental changes to our original data. Let's start by coping and then recoding the `Gender` column. "
   ]
  },
  {
   "cell_type": "code",
   "execution_count": 138,
   "metadata": {},
   "outputs": [
    {
     "data": {
      "text/html": [
       "<div>\n",
       "<style scoped>\n",
       "    .dataframe tbody tr th:only-of-type {\n",
       "        vertical-align: middle;\n",
       "    }\n",
       "\n",
       "    .dataframe tbody tr th {\n",
       "        vertical-align: top;\n",
       "    }\n",
       "\n",
       "    .dataframe thead th {\n",
       "        text-align: right;\n",
       "    }\n",
       "</style>\n",
       "<table border=\"1\" class=\"dataframe\">\n",
       "  <thead>\n",
       "    <tr style=\"text-align: right;\">\n",
       "      <th></th>\n",
       "      <th>Gender</th>\n",
       "      <th>Height</th>\n",
       "      <th>Weight</th>\n",
       "    </tr>\n",
       "  </thead>\n",
       "  <tbody>\n",
       "    <tr>\n",
       "      <th>0</th>\n",
       "      <td>0</td>\n",
       "      <td>73.847017</td>\n",
       "      <td>241.893563</td>\n",
       "    </tr>\n",
       "    <tr>\n",
       "      <th>1</th>\n",
       "      <td>0</td>\n",
       "      <td>68.781904</td>\n",
       "      <td>162.310473</td>\n",
       "    </tr>\n",
       "    <tr>\n",
       "      <th>2</th>\n",
       "      <td>0</td>\n",
       "      <td>74.110105</td>\n",
       "      <td>212.740856</td>\n",
       "    </tr>\n",
       "    <tr>\n",
       "      <th>3</th>\n",
       "      <td>0</td>\n",
       "      <td>71.730978</td>\n",
       "      <td>220.042470</td>\n",
       "    </tr>\n",
       "    <tr>\n",
       "      <th>4</th>\n",
       "      <td>0</td>\n",
       "      <td>69.881796</td>\n",
       "      <td>206.349801</td>\n",
       "    </tr>\n",
       "    <tr>\n",
       "      <th>...</th>\n",
       "      <td>...</td>\n",
       "      <td>...</td>\n",
       "      <td>...</td>\n",
       "    </tr>\n",
       "    <tr>\n",
       "      <th>9995</th>\n",
       "      <td>1</td>\n",
       "      <td>66.172652</td>\n",
       "      <td>136.777454</td>\n",
       "    </tr>\n",
       "    <tr>\n",
       "      <th>9996</th>\n",
       "      <td>1</td>\n",
       "      <td>67.067155</td>\n",
       "      <td>170.867906</td>\n",
       "    </tr>\n",
       "    <tr>\n",
       "      <th>9997</th>\n",
       "      <td>1</td>\n",
       "      <td>63.867992</td>\n",
       "      <td>128.475319</td>\n",
       "    </tr>\n",
       "    <tr>\n",
       "      <th>9998</th>\n",
       "      <td>1</td>\n",
       "      <td>69.034243</td>\n",
       "      <td>163.852461</td>\n",
       "    </tr>\n",
       "    <tr>\n",
       "      <th>9999</th>\n",
       "      <td>1</td>\n",
       "      <td>61.944246</td>\n",
       "      <td>113.649103</td>\n",
       "    </tr>\n",
       "  </tbody>\n",
       "</table>\n",
       "<p>10000 rows × 3 columns</p>\n",
       "</div>"
      ],
      "text/plain": [
       "      Gender     Height      Weight\n",
       "0          0  73.847017  241.893563\n",
       "1          0  68.781904  162.310473\n",
       "2          0  74.110105  212.740856\n",
       "3          0  71.730978  220.042470\n",
       "4          0  69.881796  206.349801\n",
       "...      ...        ...         ...\n",
       "9995       1  66.172652  136.777454\n",
       "9996       1  67.067155  170.867906\n",
       "9997       1  63.867992  128.475319\n",
       "9998       1  69.034243  163.852461\n",
       "9999       1  61.944246  113.649103\n",
       "\n",
       "[10000 rows x 3 columns]"
      ]
     },
     "execution_count": 138,
     "metadata": {},
     "output_type": "execute_result"
    }
   ],
   "source": [
    "h_w_numerical = h_w_original                                # Create a copy of our original data\n",
    "h_w_numerical['Gender'].replace('Male',0, inplace=True)     # and convert the categorical variables to numerical by\n",
    "h_w_numerical['Gender'].replace('Female',1, inplace=True)   # replacing the 'male' and 'female' strings to '0' and '1'\n",
    "\n",
    "h_w_numerical                                               # Have a quick look to make sure it worked the way you wanted."
   ]
  },
  {
   "cell_type": "markdown",
   "metadata": {},
   "source": [
    "Next, we find the mean and standard deviation of height from our real data, convert the gender and height (independent variables) and weight (dependent variable) into arrays and make a linear regression model from those arrays. \n",
    "\n",
    "For good measure, we can inspect how well our linear regression model scores. "
   ]
  },
  {
   "cell_type": "code",
   "execution_count": 139,
   "metadata": {},
   "outputs": [
    {
     "data": {
      "text/plain": [
       "0.9027481729220092"
      ]
     },
     "execution_count": 139,
     "metadata": {},
     "output_type": "execute_result"
    }
   ],
   "source": [
    "h_mean = h_w_numerical[\"Height\"].mean()                   # Save the mean and standard deviation for height\n",
    "h_std = h_w_numerical[\"Height\"].std()                     # from the numerically transformed data.\n",
    "\n",
    "height_array = h_w_numerical.iloc[:, :-1].values           # Convert Gender and Height columns into one array\n",
    "weight_array = h_w_numerical.iloc[:, 2].values             # and the Weight column into another array. \n",
    "\n",
    "model = LinearRegression().fit(height_array, weight_array) # Make a linear regression model from the two arrays. \n",
    "\n",
    "model.score(height_array, weight_array)                    # Have a look at the regression model, which in this case\n",
    "                                                           # is just a number capturing the relationships. "
   ]
  },
  {
   "cell_type": "markdown",
   "metadata": {},
   "source": [
    "Now, we want to start generating a synthetic data set. We start by making something very like the best fidelity version of our low fidelity data sets, by creating a data frame that has an appropriately named `Gender` column with 50 'Male' and 50 'Female'. \n",
    "\n",
    "However, instead of filling the `Height` column via a randomly drawn uniform distribution with the mix and max of our real data (\"from the outside in\"), this version uses a normal distribution generated from the mean and standard deviation of height from our real data (\"from the inside out\").\n",
    "\n",
    "Importantly, we also create a `Weight` column but fill it with null values. These will be filled in by the regression model later. "
   ]
  },
  {
   "cell_type": "code",
   "execution_count": 142,
   "metadata": {},
   "outputs": [
    {
     "data": {
      "text/html": [
       "<div>\n",
       "<style scoped>\n",
       "    .dataframe tbody tr th:only-of-type {\n",
       "        vertical-align: middle;\n",
       "    }\n",
       "\n",
       "    .dataframe tbody tr th {\n",
       "        vertical-align: top;\n",
       "    }\n",
       "\n",
       "    .dataframe thead th {\n",
       "        text-align: right;\n",
       "    }\n",
       "</style>\n",
       "<table border=\"1\" class=\"dataframe\">\n",
       "  <thead>\n",
       "    <tr style=\"text-align: right;\">\n",
       "      <th></th>\n",
       "      <th>Gender</th>\n",
       "      <th>Height</th>\n",
       "      <th>Weight</th>\n",
       "    </tr>\n",
       "  </thead>\n",
       "  <tbody>\n",
       "    <tr>\n",
       "      <th>0</th>\n",
       "      <td>0</td>\n",
       "      <td>68.243270</td>\n",
       "      <td>null</td>\n",
       "    </tr>\n",
       "    <tr>\n",
       "      <th>1</th>\n",
       "      <td>0</td>\n",
       "      <td>73.216735</td>\n",
       "      <td>null</td>\n",
       "    </tr>\n",
       "    <tr>\n",
       "      <th>2</th>\n",
       "      <td>0</td>\n",
       "      <td>69.201255</td>\n",
       "      <td>null</td>\n",
       "    </tr>\n",
       "    <tr>\n",
       "      <th>3</th>\n",
       "      <td>0</td>\n",
       "      <td>66.858832</td>\n",
       "      <td>null</td>\n",
       "    </tr>\n",
       "    <tr>\n",
       "      <th>4</th>\n",
       "      <td>0</td>\n",
       "      <td>69.609892</td>\n",
       "      <td>null</td>\n",
       "    </tr>\n",
       "    <tr>\n",
       "      <th>...</th>\n",
       "      <td>...</td>\n",
       "      <td>...</td>\n",
       "      <td>...</td>\n",
       "    </tr>\n",
       "    <tr>\n",
       "      <th>95</th>\n",
       "      <td>1</td>\n",
       "      <td>74.325247</td>\n",
       "      <td>null</td>\n",
       "    </tr>\n",
       "    <tr>\n",
       "      <th>96</th>\n",
       "      <td>1</td>\n",
       "      <td>69.561354</td>\n",
       "      <td>null</td>\n",
       "    </tr>\n",
       "    <tr>\n",
       "      <th>97</th>\n",
       "      <td>1</td>\n",
       "      <td>72.137351</td>\n",
       "      <td>null</td>\n",
       "    </tr>\n",
       "    <tr>\n",
       "      <th>98</th>\n",
       "      <td>1</td>\n",
       "      <td>70.374579</td>\n",
       "      <td>null</td>\n",
       "    </tr>\n",
       "    <tr>\n",
       "      <th>99</th>\n",
       "      <td>1</td>\n",
       "      <td>64.039251</td>\n",
       "      <td>null</td>\n",
       "    </tr>\n",
       "  </tbody>\n",
       "</table>\n",
       "<p>100 rows × 3 columns</p>\n",
       "</div>"
      ],
      "text/plain": [
       "    Gender     Height Weight\n",
       "0        0  68.243270   null\n",
       "1        0  73.216735   null\n",
       "2        0  69.201255   null\n",
       "3        0  66.858832   null\n",
       "4        0  69.609892   null\n",
       "..     ...        ...    ...\n",
       "95       1  74.325247   null\n",
       "96       1  69.561354   null\n",
       "97       1  72.137351   null\n",
       "98       1  70.374579   null\n",
       "99       1  64.039251   null\n",
       "\n",
       "[100 rows x 3 columns]"
      ]
     },
     "execution_count": 142,
     "metadata": {},
     "output_type": "execute_result"
    }
   ],
   "source": [
    "medium_fidelity_1 = {\"Gender\": ([0] * 50) + ([1] * 50),            # Create another dictionary that is now much less random\n",
    "                \"Height\": np.random.normal(h_mean, h_std, 100),    # with gender (in numerical format) and height created \n",
    "                \"Weight\":('null')}                                 # from a random distribution around the real mean and \n",
    "                                                                   # standard deviation. \n",
    "medium_fidelity_1 = pd.DataFrame(medium_fidelity_1)                # Convert that dictionary to a data frame\n",
    "medium_fidelity_1                                                  # And have a look!"
   ]
  },
  {
   "cell_type": "markdown",
   "metadata": {},
   "source": [
    "Now is when we create the extra step that uses our linear regression model (with the `Gender` and `Height` values as input) to predict the value of the `Weight` (as output). "
   ]
  },
  {
   "cell_type": "code",
   "execution_count": 48,
   "metadata": {},
   "outputs": [
    {
     "data": {
      "text/html": [
       "<div>\n",
       "<style scoped>\n",
       "    .dataframe tbody tr th:only-of-type {\n",
       "        vertical-align: middle;\n",
       "    }\n",
       "\n",
       "    .dataframe tbody tr th {\n",
       "        vertical-align: top;\n",
       "    }\n",
       "\n",
       "    .dataframe thead th {\n",
       "        text-align: right;\n",
       "    }\n",
       "</style>\n",
       "<table border=\"1\" class=\"dataframe\">\n",
       "  <thead>\n",
       "    <tr style=\"text-align: right;\">\n",
       "      <th></th>\n",
       "      <th>Gender</th>\n",
       "      <th>Height</th>\n",
       "      <th>Weight</th>\n",
       "    </tr>\n",
       "  </thead>\n",
       "  <tbody>\n",
       "    <tr>\n",
       "      <th>0</th>\n",
       "      <td>0</td>\n",
       "      <td>61.727487</td>\n",
       "      <td>124.01806</td>\n",
       "    </tr>\n",
       "    <tr>\n",
       "      <th>1</th>\n",
       "      <td>0</td>\n",
       "      <td>75.203260</td>\n",
       "      <td>204.56196</td>\n",
       "    </tr>\n",
       "    <tr>\n",
       "      <th>2</th>\n",
       "      <td>0</td>\n",
       "      <td>64.987632</td>\n",
       "      <td>143.503757</td>\n",
       "    </tr>\n",
       "    <tr>\n",
       "      <th>3</th>\n",
       "      <td>0</td>\n",
       "      <td>63.661802</td>\n",
       "      <td>135.579346</td>\n",
       "    </tr>\n",
       "    <tr>\n",
       "      <th>4</th>\n",
       "      <td>0</td>\n",
       "      <td>61.807223</td>\n",
       "      <td>124.494635</td>\n",
       "    </tr>\n",
       "    <tr>\n",
       "      <th>...</th>\n",
       "      <td>...</td>\n",
       "      <td>...</td>\n",
       "      <td>...</td>\n",
       "    </tr>\n",
       "    <tr>\n",
       "      <th>95</th>\n",
       "      <td>1</td>\n",
       "      <td>62.250350</td>\n",
       "      <td>146.520892</td>\n",
       "    </tr>\n",
       "    <tr>\n",
       "      <th>96</th>\n",
       "      <td>1</td>\n",
       "      <td>66.402384</td>\n",
       "      <td>171.337353</td>\n",
       "    </tr>\n",
       "    <tr>\n",
       "      <th>97</th>\n",
       "      <td>1</td>\n",
       "      <td>65.147021</td>\n",
       "      <td>163.834122</td>\n",
       "    </tr>\n",
       "    <tr>\n",
       "      <th>98</th>\n",
       "      <td>1</td>\n",
       "      <td>66.579300</td>\n",
       "      <td>172.394773</td>\n",
       "    </tr>\n",
       "    <tr>\n",
       "      <th>99</th>\n",
       "      <td>1</td>\n",
       "      <td>60.818937</td>\n",
       "      <td>137.965422</td>\n",
       "    </tr>\n",
       "  </tbody>\n",
       "</table>\n",
       "<p>100 rows × 3 columns</p>\n",
       "</div>"
      ],
      "text/plain": [
       "    Gender     Height      Weight\n",
       "0        0  61.727487   124.01806\n",
       "1        0  75.203260   204.56196\n",
       "2        0  64.987632  143.503757\n",
       "3        0  63.661802  135.579346\n",
       "4        0  61.807223  124.494635\n",
       "..     ...        ...         ...\n",
       "95       1  62.250350  146.520892\n",
       "96       1  66.402384  171.337353\n",
       "97       1  65.147021  163.834122\n",
       "98       1  66.579300  172.394773\n",
       "99       1  60.818937  137.965422\n",
       "\n",
       "[100 rows x 3 columns]"
      ]
     },
     "execution_count": 48,
     "metadata": {},
     "output_type": "execute_result"
    }
   ],
   "source": [
    "for ind in med_fidelity.index:                                         # Now, iterate over the index items one by one,\n",
    "    current_pred = model.predict([[med_fidelity['Gender'][ind],        # creating a temporary variable to hold the \n",
    "                                   med_fidelity['Height'][ind]]])      # weight that the linear regression model predicts\n",
    "    med_fidelity['Weight'][ind] = (current_pred[0])                    # when given the height and gender as input.\n",
    "                                                                       # Overwrite the Weight for the same index item \n",
    "                                                                       # with the temporary varible. Repeat until done\n",
    "\n",
    "med_fidelity                                                           # Check the weight has been overwritten correctly. "
   ]
  },
  {
   "cell_type": "markdown",
   "metadata": {},
   "source": [
    "As an extra sense check, we can create a quick scatterplot of our medium_fidelity_1 synthetic data. "
   ]
  },
  {
   "cell_type": "code",
   "execution_count": 49,
   "metadata": {},
   "outputs": [
    {
     "data": {
      "text/plain": [
       "<matplotlib.collections.PathCollection at 0x1dd0d8b3850>"
      ]
     },
     "execution_count": 49,
     "metadata": {},
     "output_type": "execute_result"
    },
    {
     "data": {
      "image/png": "[encoded data removed]",
      "text/plain": [
       "<Figure size 432x288 with 1 Axes>"
      ]
     },
     "metadata": {
      "needs_background": "light"
     },
     "output_type": "display_data"
    }
   ],
   "source": [
    "plt.scatter(med_fidelity.Height, \n",
    "            med_fidelity.Weight, \n",
    "            c = pd.Categorical(med_fidelity.Gender).codes)"
   ]
  },
  {
   "cell_type": "markdown",
   "metadata": {},
   "source": [
    "Clearly, it captures something about our real data (the distinction between genders and the height-weight relationship) but it is **very** linear and thus not very realistic. \n",
    "\n",
    "***\n",
    "### medium_fidelity_2\n",
    "\n",
    "So let's move on to `medium_fidelity_2`, which is created in a very similar way to `medium_fidelity_1`. However, there is some added noise to make it less obviously linear (and therefore maybe a bit more realistic). This added noise comes in two parts. \n",
    "\n",
    "First, we the generated dataframe in the same way as medium_fidelity_1, with a `Gender` column that has 50 'male' and 50 'female' entries and a `Height` column created with random numbers generated by a normal distribution around the mean and standard deviation of our real data. However, this generated dataframe has an additional column called `Noise` which we fill with random numbers generated around a mean of 0 and with a standard deviation of 10. \n",
    "\n",
    "Second, when we iterate over the generated data, using our linear regression model to turn the gender and height (input) into a predicted weight (output) to which we add the value of the noise column. Since the noise can be positive or negative and relatively large or small, the weight (output) is noisier. "
   ]
  },
  {
   "cell_type": "code",
   "execution_count": 147,
   "metadata": {},
   "outputs": [
    {
     "data": {
      "text/html": [
       "<div>\n",
       "<style scoped>\n",
       "    .dataframe tbody tr th:only-of-type {\n",
       "        vertical-align: middle;\n",
       "    }\n",
       "\n",
       "    .dataframe tbody tr th {\n",
       "        vertical-align: top;\n",
       "    }\n",
       "\n",
       "    .dataframe thead th {\n",
       "        text-align: right;\n",
       "    }\n",
       "</style>\n",
       "<table border=\"1\" class=\"dataframe\">\n",
       "  <thead>\n",
       "    <tr style=\"text-align: right;\">\n",
       "      <th></th>\n",
       "      <th>Gender</th>\n",
       "      <th>Height</th>\n",
       "      <th>Weight</th>\n",
       "      <th>Noise</th>\n",
       "    </tr>\n",
       "  </thead>\n",
       "  <tbody>\n",
       "    <tr>\n",
       "      <th>0</th>\n",
       "      <td>0</td>\n",
       "      <td>68.655343</td>\n",
       "      <td>172.276866</td>\n",
       "      <td>-12.526290</td>\n",
       "    </tr>\n",
       "    <tr>\n",
       "      <th>1</th>\n",
       "      <td>0</td>\n",
       "      <td>64.464996</td>\n",
       "      <td>144.555914</td>\n",
       "      <td>-15.201786</td>\n",
       "    </tr>\n",
       "    <tr>\n",
       "      <th>2</th>\n",
       "      <td>0</td>\n",
       "      <td>69.744204</td>\n",
       "      <td>197.80103</td>\n",
       "      <td>6.489815</td>\n",
       "    </tr>\n",
       "    <tr>\n",
       "      <th>3</th>\n",
       "      <td>0</td>\n",
       "      <td>62.022500</td>\n",
       "      <td>132.715291</td>\n",
       "      <td>-12.443754</td>\n",
       "    </tr>\n",
       "    <tr>\n",
       "      <th>4</th>\n",
       "      <td>0</td>\n",
       "      <td>68.366621</td>\n",
       "      <td>196.31915</td>\n",
       "      <td>13.241665</td>\n",
       "    </tr>\n",
       "    <tr>\n",
       "      <th>...</th>\n",
       "      <td>...</td>\n",
       "      <td>...</td>\n",
       "      <td>...</td>\n",
       "      <td>...</td>\n",
       "    </tr>\n",
       "    <tr>\n",
       "      <th>95</th>\n",
       "      <td>1</td>\n",
       "      <td>69.589674</td>\n",
       "      <td>179.893779</td>\n",
       "      <td>8.883888</td>\n",
       "    </tr>\n",
       "    <tr>\n",
       "      <th>96</th>\n",
       "      <td>1</td>\n",
       "      <td>62.770706</td>\n",
       "      <td>103.33321</td>\n",
       "      <td>-26.920107</td>\n",
       "    </tr>\n",
       "    <tr>\n",
       "      <th>97</th>\n",
       "      <td>1</td>\n",
       "      <td>61.126271</td>\n",
       "      <td>125.526713</td>\n",
       "      <td>5.102087</td>\n",
       "    </tr>\n",
       "    <tr>\n",
       "      <th>98</th>\n",
       "      <td>1</td>\n",
       "      <td>62.514801</td>\n",
       "      <td>129.913526</td>\n",
       "      <td>1.189737</td>\n",
       "    </tr>\n",
       "    <tr>\n",
       "      <th>99</th>\n",
       "      <td>1</td>\n",
       "      <td>64.783709</td>\n",
       "      <td>123.916841</td>\n",
       "      <td>-18.368079</td>\n",
       "    </tr>\n",
       "  </tbody>\n",
       "</table>\n",
       "<p>100 rows × 4 columns</p>\n",
       "</div>"
      ],
      "text/plain": [
       "    Gender     Height      Weight      Noise\n",
       "0        0  68.655343  172.276866 -12.526290\n",
       "1        0  64.464996  144.555914 -15.201786\n",
       "2        0  69.744204   197.80103   6.489815\n",
       "3        0  62.022500  132.715291 -12.443754\n",
       "4        0  68.366621   196.31915  13.241665\n",
       "..     ...        ...         ...        ...\n",
       "95       1  69.589674  179.893779   8.883888\n",
       "96       1  62.770706   103.33321 -26.920107\n",
       "97       1  61.126271  125.526713   5.102087\n",
       "98       1  62.514801  129.913526   1.189737\n",
       "99       1  64.783709  123.916841 -18.368079\n",
       "\n",
       "[100 rows x 4 columns]"
      ]
     },
     "execution_count": 147,
     "metadata": {},
     "output_type": "execute_result"
    }
   ],
   "source": [
    "medium_fidelity_2 = {\"Gender\": ([0] * 50) + ([1] * 50),           # Repeate the same starting steps again, \n",
    "                \"Height\": np.random.normal(h_mean, h_std, 100),   # but saving it in a new dictionary that has \"noise\"\n",
    "                \"Weight\":('null'),                                # in the name and adding a column to hold the noise\n",
    "                \"Noise\": np.random.normal(0, 10, 100)}            # that contains some random normal values around 0.   \n",
    " \n",
    "medium_fidelity_2 = pd.DataFrame(medium_fidelity_2)               # Convert the \"noise\" dictionary to a data frame\n",
    "\n",
    "for ind in medium_fidelity_2.index:                                         # Iterate over the generated dataframe\n",
    "    current_pred = model.predict([[medium_fidelity_2['Gender'][ind],        # but with an added step of adding the noise\n",
    "                                   medium_fidelity_2['Height'][ind]]])      # value to the temp variable,\n",
    "    current_pred = current_pred + medium_fidelity_2['Noise'][ind]           # before overwriting the Weight value\n",
    "    medium_fidelity_2['Weight'][ind] = (current_pred[0])                     \n",
    "\n",
    "medium_fidelity_2                                                 # Check it quickly. \n"
   ]
  },
  {
   "cell_type": "markdown",
   "metadata": {},
   "source": [
    "And, just to give ourselves a visual interpretation of the changes, let's quickly make a scatterplot. "
   ]
  },
  {
   "cell_type": "code",
   "execution_count": 148,
   "metadata": {},
   "outputs": [
    {
     "data": {
      "text/plain": [
       "<matplotlib.collections.PathCollection at 0x1dd0deb7d00>"
      ]
     },
     "execution_count": 148,
     "metadata": {},
     "output_type": "execute_result"
    },
    {
     "data": {
      "image/png": "[encoded data removed]",
      "text/plain": [
       "<Figure size 432x288 with 1 Axes>"
      ]
     },
     "metadata": {
      "needs_background": "light"
     },
     "output_type": "display_data"
    }
   ],
   "source": [
    "plt.scatter(medium_fidelity_2.Height, \n",
    "            medium_fidelity_2.Weight, \n",
    "            c = pd.Categorical(medium_fidelity_2.Gender).codes)"
   ]
  },
  {
   "cell_type": "markdown",
   "metadata": {},
   "source": [
    "Already, this is looking much better. We have preserved the distinction between the genders and the height-weight relationship, but the synthetic data is much more cloudlike and much less linear. Maybe this is good enough to use as is, depending on what you want to use the synthetic data for. But it could be a bit better. \n",
    "\n",
    "***\n",
    "### medium_fidelity_3\n",
    "\n",
    "The third version of medium fidelity data works the same basic way as the first and second, but with the added complexity of splitting the data into male and female versions, finding the male and female height means and stanard deviations, creating male and female linear regression models, using those models (plus noise) to generate synthetic datasets and then smooshing those datasets together again. \n",
    "\n",
    "Yes, smooshing datasets together is the technical term. \n",
    "\n",
    "So, let's begin by running through all the basic steps for the male-only data subset. "
   ]
  },
  {
   "cell_type": "code",
   "execution_count": 158,
   "metadata": {},
   "outputs": [],
   "source": [
    "males_numerical = h_w_males                                # Copy the male-only data subset we used back in visualisatons\n",
    "males_numerical['Gender'].replace('Male',0, inplace=True)  # and convert the categorical variable strings to numerical.\n",
    "\n",
    "m_h_mean = males_numerical[\"Height\"].mean()                # Save the male-only mean and standard deviation for height\n",
    "m_h_std = males_numerical[\"Height\"].std()                   \n",
    "\n",
    "m_h_array = males_numerical.iloc[:, :-1].values            # Convert the Gender and Height columns into one array\n",
    "m_w_array = males_numerical.iloc[:, 2].values              # and then the Weight column into another array. \n",
    "\n",
    "males_model = LinearRegression().fit(m_h_array, m_w_array) # Make a linear regression model from the male arrays. \n",
    "\n",
    "med_fidelity_m_noise = {\"Gender\": ([0] * 50),                      # We create another dictionary. Again, a useful name.\n",
    "                \"Height\": np.random.normal(m_h_mean, m_h_std, 50), # fill height with normal distribution around      \n",
    "                \"Weight\":('null')}                                 # male-only mean and standard deviation. \n",
    " \n",
    "med_fidelity_m_noise = pd.DataFrame(med_fidelity_m_noise)            # Convert the dictionary to a data frame\n",
    "\n",
    "# med_fidelity_m_noise                                               # You need to remove the '#' at the start of this line\n",
    "                                                                     # if you want to check it."
   ]
  },
  {
   "cell_type": "markdown",
   "metadata": {},
   "source": [
    "Then we run through the iterated model-predicting, noise-adding steps for the male-only data. In this version, though, we do not add a single `Noise` column to the generated dataset but instead add it in twice to both the height and weight. \n",
    "* Noise is added to (and subtracted from, technically) the height *before* any predictions are made (the noisidied height is written over the original height) and\n",
    "* Noise is added to (and also subtracted from) the weight *after* the prediction is made but before it is written into the generated dataset. \n",
    "\n",
    "Since the noise can be either positive or negative, adding one randomly generated noise value to and then subtracting a different randomly generated noise value from the height and again from the weight means that both values might be clearly higher or lower than they would otherwise be, but might also be about the same as they would otherwise be. As these steps are sequentially and take place at different times but in the same basic way, they offer a way to add noise that preserves the same basic process but complicates the linear relationship. "
   ]
  },
  {
   "cell_type": "code",
   "execution_count": 161,
   "metadata": {},
   "outputs": [
    {
     "data": {
      "text/html": [
       "<div>\n",
       "<style scoped>\n",
       "    .dataframe tbody tr th:only-of-type {\n",
       "        vertical-align: middle;\n",
       "    }\n",
       "\n",
       "    .dataframe tbody tr th {\n",
       "        vertical-align: top;\n",
       "    }\n",
       "\n",
       "    .dataframe thead th {\n",
       "        text-align: right;\n",
       "    }\n",
       "</style>\n",
       "<table border=\"1\" class=\"dataframe\">\n",
       "  <thead>\n",
       "    <tr style=\"text-align: right;\">\n",
       "      <th></th>\n",
       "      <th>Gender</th>\n",
       "      <th>Height</th>\n",
       "      <th>Weight</th>\n",
       "    </tr>\n",
       "  </thead>\n",
       "  <tbody>\n",
       "    <tr>\n",
       "      <th>0</th>\n",
       "      <td>0</td>\n",
       "      <td>63.154770</td>\n",
       "      <td>177.894021</td>\n",
       "    </tr>\n",
       "    <tr>\n",
       "      <th>1</th>\n",
       "      <td>0</td>\n",
       "      <td>42.981775</td>\n",
       "      <td>37.730199</td>\n",
       "    </tr>\n",
       "    <tr>\n",
       "      <th>2</th>\n",
       "      <td>0</td>\n",
       "      <td>50.805589</td>\n",
       "      <td>44.901623</td>\n",
       "    </tr>\n",
       "    <tr>\n",
       "      <th>3</th>\n",
       "      <td>0</td>\n",
       "      <td>108.427745</td>\n",
       "      <td>428.587299</td>\n",
       "    </tr>\n",
       "    <tr>\n",
       "      <th>4</th>\n",
       "      <td>0</td>\n",
       "      <td>49.985202</td>\n",
       "      <td>42.642038</td>\n",
       "    </tr>\n",
       "    <tr>\n",
       "      <th>5</th>\n",
       "      <td>0</td>\n",
       "      <td>73.418711</td>\n",
       "      <td>201.394257</td>\n",
       "    </tr>\n",
       "    <tr>\n",
       "      <th>6</th>\n",
       "      <td>0</td>\n",
       "      <td>88.592435</td>\n",
       "      <td>303.475837</td>\n",
       "    </tr>\n",
       "    <tr>\n",
       "      <th>7</th>\n",
       "      <td>0</td>\n",
       "      <td>64.486072</td>\n",
       "      <td>112.970194</td>\n",
       "    </tr>\n",
       "    <tr>\n",
       "      <th>8</th>\n",
       "      <td>0</td>\n",
       "      <td>105.738858</td>\n",
       "      <td>425.482798</td>\n",
       "    </tr>\n",
       "    <tr>\n",
       "      <th>9</th>\n",
       "      <td>0</td>\n",
       "      <td>105.950365</td>\n",
       "      <td>387.002183</td>\n",
       "    </tr>\n",
       "    <tr>\n",
       "      <th>10</th>\n",
       "      <td>0</td>\n",
       "      <td>91.301309</td>\n",
       "      <td>310.437882</td>\n",
       "    </tr>\n",
       "    <tr>\n",
       "      <th>11</th>\n",
       "      <td>0</td>\n",
       "      <td>63.733934</td>\n",
       "      <td>158.408636</td>\n",
       "    </tr>\n",
       "    <tr>\n",
       "      <th>12</th>\n",
       "      <td>0</td>\n",
       "      <td>70.213425</td>\n",
       "      <td>182.828314</td>\n",
       "    </tr>\n",
       "    <tr>\n",
       "      <th>13</th>\n",
       "      <td>0</td>\n",
       "      <td>57.432702</td>\n",
       "      <td>112.628133</td>\n",
       "    </tr>\n",
       "    <tr>\n",
       "      <th>14</th>\n",
       "      <td>0</td>\n",
       "      <td>91.501456</td>\n",
       "      <td>329.025012</td>\n",
       "    </tr>\n",
       "    <tr>\n",
       "      <th>15</th>\n",
       "      <td>0</td>\n",
       "      <td>33.364354</td>\n",
       "      <td>-36.60277</td>\n",
       "    </tr>\n",
       "    <tr>\n",
       "      <th>16</th>\n",
       "      <td>0</td>\n",
       "      <td>88.506422</td>\n",
       "      <td>283.744155</td>\n",
       "    </tr>\n",
       "    <tr>\n",
       "      <th>17</th>\n",
       "      <td>0</td>\n",
       "      <td>86.863324</td>\n",
       "      <td>295.905273</td>\n",
       "    </tr>\n",
       "    <tr>\n",
       "      <th>18</th>\n",
       "      <td>0</td>\n",
       "      <td>78.883579</td>\n",
       "      <td>250.947246</td>\n",
       "    </tr>\n",
       "    <tr>\n",
       "      <th>19</th>\n",
       "      <td>0</td>\n",
       "      <td>53.853665</td>\n",
       "      <td>83.234248</td>\n",
       "    </tr>\n",
       "    <tr>\n",
       "      <th>20</th>\n",
       "      <td>0</td>\n",
       "      <td>107.037121</td>\n",
       "      <td>424.287057</td>\n",
       "    </tr>\n",
       "    <tr>\n",
       "      <th>21</th>\n",
       "      <td>0</td>\n",
       "      <td>92.414873</td>\n",
       "      <td>324.084283</td>\n",
       "    </tr>\n",
       "    <tr>\n",
       "      <th>22</th>\n",
       "      <td>0</td>\n",
       "      <td>29.189334</td>\n",
       "      <td>-79.176316</td>\n",
       "    </tr>\n",
       "    <tr>\n",
       "      <th>23</th>\n",
       "      <td>0</td>\n",
       "      <td>86.725451</td>\n",
       "      <td>277.762537</td>\n",
       "    </tr>\n",
       "    <tr>\n",
       "      <th>24</th>\n",
       "      <td>0</td>\n",
       "      <td>62.909893</td>\n",
       "      <td>136.35229</td>\n",
       "    </tr>\n",
       "    <tr>\n",
       "      <th>25</th>\n",
       "      <td>0</td>\n",
       "      <td>76.690592</td>\n",
       "      <td>242.783959</td>\n",
       "    </tr>\n",
       "    <tr>\n",
       "      <th>26</th>\n",
       "      <td>0</td>\n",
       "      <td>64.464006</td>\n",
       "      <td>160.981601</td>\n",
       "    </tr>\n",
       "    <tr>\n",
       "      <th>27</th>\n",
       "      <td>0</td>\n",
       "      <td>64.800654</td>\n",
       "      <td>148.82342</td>\n",
       "    </tr>\n",
       "    <tr>\n",
       "      <th>28</th>\n",
       "      <td>0</td>\n",
       "      <td>34.409621</td>\n",
       "      <td>-32.903389</td>\n",
       "    </tr>\n",
       "    <tr>\n",
       "      <th>29</th>\n",
       "      <td>0</td>\n",
       "      <td>48.727867</td>\n",
       "      <td>95.725857</td>\n",
       "    </tr>\n",
       "    <tr>\n",
       "      <th>30</th>\n",
       "      <td>0</td>\n",
       "      <td>38.851247</td>\n",
       "      <td>-41.226831</td>\n",
       "    </tr>\n",
       "    <tr>\n",
       "      <th>31</th>\n",
       "      <td>0</td>\n",
       "      <td>115.976993</td>\n",
       "      <td>476.204614</td>\n",
       "    </tr>\n",
       "    <tr>\n",
       "      <th>32</th>\n",
       "      <td>0</td>\n",
       "      <td>93.415838</td>\n",
       "      <td>333.134272</td>\n",
       "    </tr>\n",
       "    <tr>\n",
       "      <th>33</th>\n",
       "      <td>0</td>\n",
       "      <td>99.418686</td>\n",
       "      <td>346.072882</td>\n",
       "    </tr>\n",
       "    <tr>\n",
       "      <th>34</th>\n",
       "      <td>0</td>\n",
       "      <td>82.062529</td>\n",
       "      <td>271.152152</td>\n",
       "    </tr>\n",
       "    <tr>\n",
       "      <th>35</th>\n",
       "      <td>0</td>\n",
       "      <td>84.589460</td>\n",
       "      <td>254.299236</td>\n",
       "    </tr>\n",
       "    <tr>\n",
       "      <th>36</th>\n",
       "      <td>0</td>\n",
       "      <td>67.657673</td>\n",
       "      <td>175.559989</td>\n",
       "    </tr>\n",
       "    <tr>\n",
       "      <th>37</th>\n",
       "      <td>0</td>\n",
       "      <td>75.386206</td>\n",
       "      <td>229.618474</td>\n",
       "    </tr>\n",
       "    <tr>\n",
       "      <th>38</th>\n",
       "      <td>0</td>\n",
       "      <td>115.962344</td>\n",
       "      <td>465.753569</td>\n",
       "    </tr>\n",
       "    <tr>\n",
       "      <th>39</th>\n",
       "      <td>0</td>\n",
       "      <td>55.821456</td>\n",
       "      <td>95.766118</td>\n",
       "    </tr>\n",
       "    <tr>\n",
       "      <th>40</th>\n",
       "      <td>0</td>\n",
       "      <td>110.943724</td>\n",
       "      <td>455.726009</td>\n",
       "    </tr>\n",
       "    <tr>\n",
       "      <th>41</th>\n",
       "      <td>0</td>\n",
       "      <td>70.045460</td>\n",
       "      <td>172.061999</td>\n",
       "    </tr>\n",
       "    <tr>\n",
       "      <th>42</th>\n",
       "      <td>0</td>\n",
       "      <td>72.335596</td>\n",
       "      <td>221.932046</td>\n",
       "    </tr>\n",
       "    <tr>\n",
       "      <th>43</th>\n",
       "      <td>0</td>\n",
       "      <td>76.922633</td>\n",
       "      <td>225.577347</td>\n",
       "    </tr>\n",
       "    <tr>\n",
       "      <th>44</th>\n",
       "      <td>0</td>\n",
       "      <td>40.611028</td>\n",
       "      <td>10.672613</td>\n",
       "    </tr>\n",
       "    <tr>\n",
       "      <th>45</th>\n",
       "      <td>0</td>\n",
       "      <td>75.519363</td>\n",
       "      <td>215.860689</td>\n",
       "    </tr>\n",
       "    <tr>\n",
       "      <th>46</th>\n",
       "      <td>0</td>\n",
       "      <td>71.207405</td>\n",
       "      <td>213.768511</td>\n",
       "    </tr>\n",
       "    <tr>\n",
       "      <th>47</th>\n",
       "      <td>0</td>\n",
       "      <td>49.618782</td>\n",
       "      <td>92.442931</td>\n",
       "    </tr>\n",
       "    <tr>\n",
       "      <th>48</th>\n",
       "      <td>0</td>\n",
       "      <td>78.704086</td>\n",
       "      <td>249.07269</td>\n",
       "    </tr>\n",
       "    <tr>\n",
       "      <th>49</th>\n",
       "      <td>0</td>\n",
       "      <td>97.169068</td>\n",
       "      <td>395.704051</td>\n",
       "    </tr>\n",
       "  </tbody>\n",
       "</table>\n",
       "</div>"
      ],
      "text/plain": [
       "    Gender      Height      Weight\n",
       "0        0   63.154770  177.894021\n",
       "1        0   42.981775   37.730199\n",
       "2        0   50.805589   44.901623\n",
       "3        0  108.427745  428.587299\n",
       "4        0   49.985202   42.642038\n",
       "5        0   73.418711  201.394257\n",
       "6        0   88.592435  303.475837\n",
       "7        0   64.486072  112.970194\n",
       "8        0  105.738858  425.482798\n",
       "9        0  105.950365  387.002183\n",
       "10       0   91.301309  310.437882\n",
       "11       0   63.733934  158.408636\n",
       "12       0   70.213425  182.828314\n",
       "13       0   57.432702  112.628133\n",
       "14       0   91.501456  329.025012\n",
       "15       0   33.364354   -36.60277\n",
       "16       0   88.506422  283.744155\n",
       "17       0   86.863324  295.905273\n",
       "18       0   78.883579  250.947246\n",
       "19       0   53.853665   83.234248\n",
       "20       0  107.037121  424.287057\n",
       "21       0   92.414873  324.084283\n",
       "22       0   29.189334  -79.176316\n",
       "23       0   86.725451  277.762537\n",
       "24       0   62.909893   136.35229\n",
       "25       0   76.690592  242.783959\n",
       "26       0   64.464006  160.981601\n",
       "27       0   64.800654   148.82342\n",
       "28       0   34.409621  -32.903389\n",
       "29       0   48.727867   95.725857\n",
       "30       0   38.851247  -41.226831\n",
       "31       0  115.976993  476.204614\n",
       "32       0   93.415838  333.134272\n",
       "33       0   99.418686  346.072882\n",
       "34       0   82.062529  271.152152\n",
       "35       0   84.589460  254.299236\n",
       "36       0   67.657673  175.559989\n",
       "37       0   75.386206  229.618474\n",
       "38       0  115.962344  465.753569\n",
       "39       0   55.821456   95.766118\n",
       "40       0  110.943724  455.726009\n",
       "41       0   70.045460  172.061999\n",
       "42       0   72.335596  221.932046\n",
       "43       0   76.922633  225.577347\n",
       "44       0   40.611028   10.672613\n",
       "45       0   75.519363  215.860689\n",
       "46       0   71.207405  213.768511\n",
       "47       0   49.618782   92.442931\n",
       "48       0   78.704086   249.07269\n",
       "49       0   97.169068  395.704051"
      ]
     },
     "execution_count": 161,
     "metadata": {},
     "output_type": "execute_result"
    }
   ],
   "source": [
    "for ind in med_fidelity_m_noise.index:                                    # We still iterate over the newly created data\n",
    "    temp_height = (med_fidelity_m_noise['Height'][ind] +                  # but we add a step that copies the height, then\n",
    "                   np.random.normal(0, 15, 1) -                           # adds a random number (0 mean, 1 standard dev),\n",
    "                   np.random.normal(0, 15, 1))                            # then subtracts another random number, then\n",
    "    med_fidelity_m_noise['Height'][ind] = temp_height                     # overwrites the height with the added noise. \n",
    "    current_pred = males_model.predict(\n",
    "        [[med_fidelity_m_noise['Gender'][ind],                            # We create a weight prediction based on gender\n",
    "          med_fidelity_m_noise['Height'][ind]]])                          # and the newly noisified height\n",
    "    current_pred = (current_pred +                                        # Then we take the predicted weight and add\n",
    "                    np.random.normal(0, 15, 1) -                          # another random number (again, 0 mean, 1 std)\n",
    "                    np.random.normal(0, 15, 1))                           # then subtract another random number,\n",
    "    med_fidelity_m_noise['Weight'][ind] = (current_pred[0])               # before overwriting the Weight value with our \n",
    "                                                                          # newly noisified weight. \n",
    "                    \n",
    "med_fidelity_m_noise                                                      # Check weight has been overwritten."
   ]
  },
  {
   "cell_type": "markdown",
   "metadata": {},
   "source": [
    "Next, run through the basic steps for the female-only data. "
   ]
  },
  {
   "cell_type": "code",
   "execution_count": 153,
   "metadata": {},
   "outputs": [],
   "source": [
    "females_numerical = h_w_females                                      # Copy data\n",
    "females_numerical['Gender'].replace('Female',1, inplace=True)        # Replace strings with numbers.\n",
    "\n",
    "f_h_mean = females_numerical[\"Height\"].mean()                        # Find and save the female-only height mean and \n",
    "f_h_std = females_numerical[\"Height\"].std()                          # standard deviation. \n",
    "\n",
    "f_h_array = females_numerical.iloc[:, :-1].values                    # Create a gender-height (input) array\n",
    "f_w_array = females_numerical.iloc[:, 2].values                      # and a weight (output) array. \n",
    "\n",
    "females_model = LinearRegression().fit(f_h_array, f_w_array)         # Turn female-only arrays into female-only model.  \n",
    "\n",
    "med_fidelity_f_noise = {\"Gender\": ([1] * 50),                        # Start generating a female-only synthetic dataset\n",
    "                \"Height\": np.random.normal(f_h_mean, f_h_std, 50),   # making sure to use the female-only mean and std. \n",
    "                \"Weight\":('null')}                                    \n",
    " \n",
    "med_fidelity_f_noise = pd.DataFrame(med_fidelity_f_noise)            # Convert dictionary to data frame.\n",
    "# med_fidelity_f_noise                                               # Check it if you want to."
   ]
  },
  {
   "cell_type": "markdown",
   "metadata": {},
   "source": [
    "And, as before, we run through the same synthetic data generation, model-prediction with multi-stage noise added steps applied to the female-only dataset. "
   ]
  },
  {
   "cell_type": "code",
   "execution_count": 162,
   "metadata": {},
   "outputs": [
    {
     "data": {
      "text/html": [
       "<div>\n",
       "<style scoped>\n",
       "    .dataframe tbody tr th:only-of-type {\n",
       "        vertical-align: middle;\n",
       "    }\n",
       "\n",
       "    .dataframe tbody tr th {\n",
       "        vertical-align: top;\n",
       "    }\n",
       "\n",
       "    .dataframe thead th {\n",
       "        text-align: right;\n",
       "    }\n",
       "</style>\n",
       "<table border=\"1\" class=\"dataframe\">\n",
       "  <thead>\n",
       "    <tr style=\"text-align: right;\">\n",
       "      <th></th>\n",
       "      <th>Gender</th>\n",
       "      <th>Height</th>\n",
       "      <th>Weight</th>\n",
       "    </tr>\n",
       "  </thead>\n",
       "  <tbody>\n",
       "    <tr>\n",
       "      <th>0</th>\n",
       "      <td>1</td>\n",
       "      <td>10.784655</td>\n",
       "      <td>-182.389787</td>\n",
       "    </tr>\n",
       "    <tr>\n",
       "      <th>1</th>\n",
       "      <td>1</td>\n",
       "      <td>63.591036</td>\n",
       "      <td>138.842634</td>\n",
       "    </tr>\n",
       "    <tr>\n",
       "      <th>2</th>\n",
       "      <td>1</td>\n",
       "      <td>41.365065</td>\n",
       "      <td>41.951369</td>\n",
       "    </tr>\n",
       "    <tr>\n",
       "      <th>3</th>\n",
       "      <td>1</td>\n",
       "      <td>77.362376</td>\n",
       "      <td>241.819076</td>\n",
       "    </tr>\n",
       "    <tr>\n",
       "      <th>4</th>\n",
       "      <td>1</td>\n",
       "      <td>95.954119</td>\n",
       "      <td>345.736704</td>\n",
       "    </tr>\n",
       "    <tr>\n",
       "      <th>5</th>\n",
       "      <td>1</td>\n",
       "      <td>131.779537</td>\n",
       "      <td>555.796169</td>\n",
       "    </tr>\n",
       "    <tr>\n",
       "      <th>6</th>\n",
       "      <td>1</td>\n",
       "      <td>77.786301</td>\n",
       "      <td>227.253115</td>\n",
       "    </tr>\n",
       "    <tr>\n",
       "      <th>7</th>\n",
       "      <td>1</td>\n",
       "      <td>108.802264</td>\n",
       "      <td>424.835923</td>\n",
       "    </tr>\n",
       "    <tr>\n",
       "      <th>8</th>\n",
       "      <td>1</td>\n",
       "      <td>77.804920</td>\n",
       "      <td>205.456198</td>\n",
       "    </tr>\n",
       "    <tr>\n",
       "      <th>9</th>\n",
       "      <td>1</td>\n",
       "      <td>80.164221</td>\n",
       "      <td>250.957392</td>\n",
       "    </tr>\n",
       "    <tr>\n",
       "      <th>10</th>\n",
       "      <td>1</td>\n",
       "      <td>100.935199</td>\n",
       "      <td>371.995945</td>\n",
       "    </tr>\n",
       "    <tr>\n",
       "      <th>11</th>\n",
       "      <td>1</td>\n",
       "      <td>66.878137</td>\n",
       "      <td>121.155271</td>\n",
       "    </tr>\n",
       "    <tr>\n",
       "      <th>12</th>\n",
       "      <td>1</td>\n",
       "      <td>113.461212</td>\n",
       "      <td>403.300533</td>\n",
       "    </tr>\n",
       "    <tr>\n",
       "      <th>13</th>\n",
       "      <td>1</td>\n",
       "      <td>67.239652</td>\n",
       "      <td>133.426437</td>\n",
       "    </tr>\n",
       "    <tr>\n",
       "      <th>14</th>\n",
       "      <td>1</td>\n",
       "      <td>115.773009</td>\n",
       "      <td>425.510978</td>\n",
       "    </tr>\n",
       "    <tr>\n",
       "      <th>15</th>\n",
       "      <td>1</td>\n",
       "      <td>69.030904</td>\n",
       "      <td>159.619137</td>\n",
       "    </tr>\n",
       "    <tr>\n",
       "      <th>16</th>\n",
       "      <td>1</td>\n",
       "      <td>85.596479</td>\n",
       "      <td>253.519459</td>\n",
       "    </tr>\n",
       "    <tr>\n",
       "      <th>17</th>\n",
       "      <td>1</td>\n",
       "      <td>59.213578</td>\n",
       "      <td>112.234681</td>\n",
       "    </tr>\n",
       "    <tr>\n",
       "      <th>18</th>\n",
       "      <td>1</td>\n",
       "      <td>-1.258579</td>\n",
       "      <td>-247.950694</td>\n",
       "    </tr>\n",
       "    <tr>\n",
       "      <th>19</th>\n",
       "      <td>1</td>\n",
       "      <td>45.185926</td>\n",
       "      <td>7.974703</td>\n",
       "    </tr>\n",
       "    <tr>\n",
       "      <th>20</th>\n",
       "      <td>1</td>\n",
       "      <td>59.884368</td>\n",
       "      <td>86.762248</td>\n",
       "    </tr>\n",
       "    <tr>\n",
       "      <th>21</th>\n",
       "      <td>1</td>\n",
       "      <td>47.186400</td>\n",
       "      <td>48.690957</td>\n",
       "    </tr>\n",
       "    <tr>\n",
       "      <th>22</th>\n",
       "      <td>1</td>\n",
       "      <td>41.834823</td>\n",
       "      <td>26.348178</td>\n",
       "    </tr>\n",
       "    <tr>\n",
       "      <th>23</th>\n",
       "      <td>1</td>\n",
       "      <td>45.859707</td>\n",
       "      <td>23.216399</td>\n",
       "    </tr>\n",
       "    <tr>\n",
       "      <th>24</th>\n",
       "      <td>1</td>\n",
       "      <td>63.047993</td>\n",
       "      <td>126.094557</td>\n",
       "    </tr>\n",
       "    <tr>\n",
       "      <th>25</th>\n",
       "      <td>1</td>\n",
       "      <td>86.388745</td>\n",
       "      <td>267.351669</td>\n",
       "    </tr>\n",
       "    <tr>\n",
       "      <th>26</th>\n",
       "      <td>1</td>\n",
       "      <td>105.708622</td>\n",
       "      <td>408.423449</td>\n",
       "    </tr>\n",
       "    <tr>\n",
       "      <th>27</th>\n",
       "      <td>1</td>\n",
       "      <td>73.516420</td>\n",
       "      <td>209.582354</td>\n",
       "    </tr>\n",
       "    <tr>\n",
       "      <th>28</th>\n",
       "      <td>1</td>\n",
       "      <td>43.518663</td>\n",
       "      <td>33.524962</td>\n",
       "    </tr>\n",
       "    <tr>\n",
       "      <th>29</th>\n",
       "      <td>1</td>\n",
       "      <td>71.026138</td>\n",
       "      <td>180.980486</td>\n",
       "    </tr>\n",
       "    <tr>\n",
       "      <th>30</th>\n",
       "      <td>1</td>\n",
       "      <td>72.779645</td>\n",
       "      <td>212.185</td>\n",
       "    </tr>\n",
       "    <tr>\n",
       "      <th>31</th>\n",
       "      <td>1</td>\n",
       "      <td>65.231999</td>\n",
       "      <td>164.027255</td>\n",
       "    </tr>\n",
       "    <tr>\n",
       "      <th>32</th>\n",
       "      <td>1</td>\n",
       "      <td>53.090541</td>\n",
       "      <td>55.865322</td>\n",
       "    </tr>\n",
       "    <tr>\n",
       "      <th>33</th>\n",
       "      <td>1</td>\n",
       "      <td>106.412391</td>\n",
       "      <td>411.508177</td>\n",
       "    </tr>\n",
       "    <tr>\n",
       "      <th>34</th>\n",
       "      <td>1</td>\n",
       "      <td>41.145729</td>\n",
       "      <td>0.518956</td>\n",
       "    </tr>\n",
       "    <tr>\n",
       "      <th>35</th>\n",
       "      <td>1</td>\n",
       "      <td>54.538441</td>\n",
       "      <td>102.706477</td>\n",
       "    </tr>\n",
       "    <tr>\n",
       "      <th>36</th>\n",
       "      <td>1</td>\n",
       "      <td>94.032608</td>\n",
       "      <td>326.073184</td>\n",
       "    </tr>\n",
       "    <tr>\n",
       "      <th>37</th>\n",
       "      <td>1</td>\n",
       "      <td>100.817999</td>\n",
       "      <td>411.827823</td>\n",
       "    </tr>\n",
       "    <tr>\n",
       "      <th>38</th>\n",
       "      <td>1</td>\n",
       "      <td>80.339873</td>\n",
       "      <td>225.279162</td>\n",
       "    </tr>\n",
       "    <tr>\n",
       "      <th>39</th>\n",
       "      <td>1</td>\n",
       "      <td>107.319141</td>\n",
       "      <td>391.757752</td>\n",
       "    </tr>\n",
       "    <tr>\n",
       "      <th>40</th>\n",
       "      <td>1</td>\n",
       "      <td>90.451610</td>\n",
       "      <td>304.953656</td>\n",
       "    </tr>\n",
       "    <tr>\n",
       "      <th>41</th>\n",
       "      <td>1</td>\n",
       "      <td>71.037561</td>\n",
       "      <td>165.542651</td>\n",
       "    </tr>\n",
       "    <tr>\n",
       "      <th>42</th>\n",
       "      <td>1</td>\n",
       "      <td>90.892852</td>\n",
       "      <td>325.743716</td>\n",
       "    </tr>\n",
       "    <tr>\n",
       "      <th>43</th>\n",
       "      <td>1</td>\n",
       "      <td>87.803956</td>\n",
       "      <td>228.541884</td>\n",
       "    </tr>\n",
       "    <tr>\n",
       "      <th>44</th>\n",
       "      <td>1</td>\n",
       "      <td>60.522355</td>\n",
       "      <td>130.286381</td>\n",
       "    </tr>\n",
       "    <tr>\n",
       "      <th>45</th>\n",
       "      <td>1</td>\n",
       "      <td>52.900844</td>\n",
       "      <td>49.636869</td>\n",
       "    </tr>\n",
       "    <tr>\n",
       "      <th>46</th>\n",
       "      <td>1</td>\n",
       "      <td>86.187482</td>\n",
       "      <td>281.610279</td>\n",
       "    </tr>\n",
       "    <tr>\n",
       "      <th>47</th>\n",
       "      <td>1</td>\n",
       "      <td>33.979041</td>\n",
       "      <td>-9.131555</td>\n",
       "    </tr>\n",
       "    <tr>\n",
       "      <th>48</th>\n",
       "      <td>1</td>\n",
       "      <td>27.181492</td>\n",
       "      <td>-69.7976</td>\n",
       "    </tr>\n",
       "    <tr>\n",
       "      <th>49</th>\n",
       "      <td>1</td>\n",
       "      <td>62.578700</td>\n",
       "      <td>130.574974</td>\n",
       "    </tr>\n",
       "  </tbody>\n",
       "</table>\n",
       "</div>"
      ],
      "text/plain": [
       "    Gender      Height      Weight\n",
       "0        1   10.784655 -182.389787\n",
       "1        1   63.591036  138.842634\n",
       "2        1   41.365065   41.951369\n",
       "3        1   77.362376  241.819076\n",
       "4        1   95.954119  345.736704\n",
       "5        1  131.779537  555.796169\n",
       "6        1   77.786301  227.253115\n",
       "7        1  108.802264  424.835923\n",
       "8        1   77.804920  205.456198\n",
       "9        1   80.164221  250.957392\n",
       "10       1  100.935199  371.995945\n",
       "11       1   66.878137  121.155271\n",
       "12       1  113.461212  403.300533\n",
       "13       1   67.239652  133.426437\n",
       "14       1  115.773009  425.510978\n",
       "15       1   69.030904  159.619137\n",
       "16       1   85.596479  253.519459\n",
       "17       1   59.213578  112.234681\n",
       "18       1   -1.258579 -247.950694\n",
       "19       1   45.185926    7.974703\n",
       "20       1   59.884368   86.762248\n",
       "21       1   47.186400   48.690957\n",
       "22       1   41.834823   26.348178\n",
       "23       1   45.859707   23.216399\n",
       "24       1   63.047993  126.094557\n",
       "25       1   86.388745  267.351669\n",
       "26       1  105.708622  408.423449\n",
       "27       1   73.516420  209.582354\n",
       "28       1   43.518663   33.524962\n",
       "29       1   71.026138  180.980486\n",
       "30       1   72.779645     212.185\n",
       "31       1   65.231999  164.027255\n",
       "32       1   53.090541   55.865322\n",
       "33       1  106.412391  411.508177\n",
       "34       1   41.145729    0.518956\n",
       "35       1   54.538441  102.706477\n",
       "36       1   94.032608  326.073184\n",
       "37       1  100.817999  411.827823\n",
       "38       1   80.339873  225.279162\n",
       "39       1  107.319141  391.757752\n",
       "40       1   90.451610  304.953656\n",
       "41       1   71.037561  165.542651\n",
       "42       1   90.892852  325.743716\n",
       "43       1   87.803956  228.541884\n",
       "44       1   60.522355  130.286381\n",
       "45       1   52.900844   49.636869\n",
       "46       1   86.187482  281.610279\n",
       "47       1   33.979041   -9.131555\n",
       "48       1   27.181492    -69.7976\n",
       "49       1   62.578700  130.574974"
      ]
     },
     "execution_count": 162,
     "metadata": {},
     "output_type": "execute_result"
    }
   ],
   "source": [
    "for ind in med_fidelity_f_noise.index:                               # We still iterate over the newly created data\n",
    "    temp_height = (med_fidelity_f_noise['Height'][ind] +             # but we add a step that copies the height, then\n",
    "                   np.random.normal(0, 15, 1) -                      # adds a random number (0 mean, 1 standard dev),\n",
    "                   np.random.normal(0, 15, 1))                       # then subtracts another random number, then\n",
    "    med_fidelity_f_noise['Height'][ind] = temp_height                # overwrites the height with the added noise. \n",
    "    current_pred = females_model.predict(\n",
    "        [[med_fidelity_f_noise['Gender'][ind],                       # We create a weight prediction based on gender\n",
    "          med_fidelity_f_noise['Height'][ind]]])                     # and the newly noisified height\n",
    "    current_pred = (current_pred +                                   # Then we take the predicted weight and add\n",
    "                    np.random.normal(0, 15, 1) -                     # another random number (again, 0 mean, 1 std)\n",
    "                    np.random.normal(0, 15, 1))                      # then subtract another random number,\n",
    "    med_fidelity_f_noise['Weight'][ind] = (current_pred[0])          # before overwriting the Weight value with our \n",
    "                                                                     # newly noisified weight. \n",
    "                    \n",
    "med_fidelity_f_noise                                                 # Check weight has been overwritten."
   ]
  },
  {
   "cell_type": "markdown",
   "metadata": {},
   "source": [
    "Having generated two gender-specific models (each with noise added in more complicated ways), we need to join the datasets by concatenating the dataframes. \n",
    "\n",
    "Then we need to make a scatterplot to have a look at it. "
   ]
  },
  {
   "cell_type": "code",
   "execution_count": 165,
   "metadata": {},
   "outputs": [
    {
     "data": {
      "text/plain": [
       "<matplotlib.collections.PathCollection at 0x1dd0e01c460>"
      ]
     },
     "execution_count": 165,
     "metadata": {},
     "output_type": "execute_result"
    },
    {
     "data": {
      "image/png": "[encoded data removed]",
      "text/plain": [
       "<Figure size 432x288 with 1 Axes>"
      ]
     },
     "metadata": {
      "needs_background": "light"
     },
     "output_type": "display_data"
    }
   ],
   "source": [
    "medium_fidelity_3 = pd.concat(                                      # Create the final dataset using the `concat` function\n",
    "    [med_fidelity_m_noise,                                          # on a list containing both datasets to concatenate\n",
    "     med_fidelity_f_noise], \n",
    "    ignore_index=True)                                              # making sure to tell it to ignore the indeces. \n",
    "\n",
    "plt.scatter(medium_fidelity_3.Height,                               # Make a scatterplot to check it!\n",
    "            medium_fidelity_3.Weight,\n",
    "            c = pd.Categorical(medium_fidelity_3.Gender).codes)"
   ]
  },
  {
   "cell_type": "markdown",
   "metadata": {},
   "source": [
    "Interestingly, this version is not as cloudlike as `medium_fidelity_2`. This is because in `medium_fidelity_2` the output alone is pushed away from the regression line. But in `medium_fidelity_3` the height and weight are both noisified but in a way that means they may not actually be pushed away from the regression line. \n",
    "\n",
    "What is preserved here though is that the two genders have similar regression lines but very different means and standard deviations. Making the data more cloudlike is one way to increase the fidelity of the synthetic data, but preserving the different features of subset of that data is another. \n",
    "\n",
    "***\n",
    "\n",
    "Extra credit work\n",
    "\n",
    "***\n",
    " Think about what you like or don't like about these different ways to create synthetic data. Would you use an change to make "
   ]
  },
  {
   "cell_type": "code",
   "execution_count": 103,
   "metadata": {},
   "outputs": [],
   "source": [
    "\n",
    "\n"
   ]
  }
 ],
 "metadata": {
  "kernelspec": {
   "display_name": "Python 3",
   "language": "python",
   "name": "python3"
  },
  "language_info": {
   "codemirror_mode": {
    "name": "ipython",
    "version": 3
   },
   "file_extension": ".py",
   "mimetype": "text/x-python",
   "name": "python",
   "nbconvert_exporter": "python",
   "pygments_lexer": "ipython3",
   "version": "3.9.5"
  },
  "toc": {
   "base_numbering": 1,
   "nav_menu": {},
   "number_sections": true,
   "sideBar": true,
   "skip_h1_title": false,
   "title_cell": "Table of Contents",
   "title_sidebar": "Contents",
   "toc_cell": false,
   "toc_position": {},
   "toc_section_display": true,
   "toc_window_display": false
  }
 },
 "nbformat": 4,
 "nbformat_minor": 4
}
