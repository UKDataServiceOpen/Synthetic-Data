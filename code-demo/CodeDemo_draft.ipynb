{
 "cells": [
  {
   "cell_type": "markdown",
   "metadata": {},
   "source": [
    "# Packages needed\n",
    "rpy2\n",
    "numpy\n",
    "pandas\n",
    "tzlocal\n",
    "simplegeneric"
   ]
  },
  {
   "cell_type": "code",
   "execution_count": 18,
   "metadata": {},
   "outputs": [
    {
     "name": "stdout",
     "output_type": "stream",
     "text": [
      "The rpy2.ipython extension is already loaded. To reload it, use:\n",
      "  %reload_ext rpy2.ipython\n"
     ]
    }
   ],
   "source": [
    "# enables the %%R magic, not necessary if you've already done this\n",
    "%load_ext rpy2.ipython"
   ]
  },
  {
   "cell_type": "markdown",
   "metadata": {},
   "source": [
    "# Resources\n",
    "https://synthpop.shinyapps.io/synthpop/\n",
    "https://www.synthpop.org.uk/resources.html\n",
    "https://faker.readthedocs.io/en/master/"
   ]
  },
  {
   "cell_type": "code",
   "execution_count": 1,
   "metadata": {},
   "outputs": [],
   "source": [
    "import numpy as np\n",
    "import pandas as pd\n",
    "df = pd.DataFrame(np.random.randint(0,100,size=(100, 4)), columns=list('ABCD'))"
   ]
  },
  {
   "cell_type": "markdown",
   "metadata": {},
   "source": [
    "# Outline\n",
    "In this code demo\n",
    "    - Mockaroo\n",
    "    - Faker\n",
    "    - SynthPop\n",
    "Introduce NATSAL dataset\n",
    "    Link to natsal data\n",
    "    Some basic plots, descriptions and definitions\n",
    "    Links to the larger dataset\n",
    "    Deposit reformatted NATSAL data\n",
    "    \n",
    "Mockaroo\n",
    "        Introduce Mockaroo\n",
    "        Synthesize teh names, genders etc of our dataset to Mask these individuals\n",
    "        Mockaroo features\n",
    "        missing data\n",
    "        normal distributions\n",
    "        combining variables\n",
    "        Limitations 1000 at a time, we can keep exporting these and merging them. This won't work for a 1 million row dataset though unless we are free\n",
    "        Instead use Faker\n",
    "        \n",
    "Introduce Faker\n",
    "Faker and Mockaroo comparison from ONS\n",
    "Show features of Faker\n",
    "Replicate Mockaroo example but generate new users in real-time, build full dataset and merge it with NATSAL data\n",
    "\n",
    "Introduce Pandas, and dataframes\n",
    "Force a relationship, change variables in a dataframe Where some condition is true, maybe make users over a certain age, or change genders\n",
    "\n",
    "SynthPop\n",
    "Move over to R with our cleaned up data\n",
    "Introduce Synthpop features\n",
    "Build RPub file to showcase here\n",
    "https://unece.org/fileadmin/DAM/stats/documents/ece/ces/ge.46/20150/Paper_24_bnowok_synthpop.pdf\n",
    "https://unece.org/fileadmin/DAM/stats/documents/ece/ces/ge.46/20150/bnowok_synthpop_Rcode.R\n",
    "https://synthpop.shinyapps.io/synthpop/\n",
    "work through example synthpop: Bespoke creation of synthetic data in R https://www.synthpop.org.uk/resources.html\n",
    "\n",
    "\n",
    "Build Binder of this file"
   ]
  },
  {
   "cell_type": "code",
   "execution_count": 2,
   "metadata": {},
   "outputs": [],
   "source": [
    "df.to_csv('temp.csv')"
   ]
  }
 ],
 "metadata": {
  "kernelspec": {
   "display_name": "Python 3",
   "language": "python",
   "name": "python3"
  },
  "language_info": {
   "codemirror_mode": {
    "name": "ipython",
    "version": 3
   },
   "file_extension": ".py",
   "mimetype": "text/x-python",
   "name": "python",
   "nbconvert_exporter": "python",
   "pygments_lexer": "ipython3",
   "version": "3.8.5"
  }
 },
 "nbformat": 4,
 "nbformat_minor": 5
}
